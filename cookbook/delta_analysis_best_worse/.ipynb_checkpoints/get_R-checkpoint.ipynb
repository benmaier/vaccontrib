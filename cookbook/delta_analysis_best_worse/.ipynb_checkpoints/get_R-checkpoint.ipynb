{
 "cells": [
  {
   "cell_type": "code",
   "execution_count": 1,
   "metadata": {},
   "outputs": [],
   "source": [
    "import numpy as np\n",
    "import matplotlib.pyplot as pl\n",
    "from rocsDB import rocsDB\n",
    "import polars as po"
   ]
  },
  {
   "cell_type": "code",
   "execution_count": null,
   "metadata": {},
   "outputs": [],
   "source": []
  },
  {
   "cell_type": "code",
   "execution_count": 4,
   "metadata": {},
   "outputs": [
    {
     "name": "stdout",
     "output_type": "stream",
     "text": [
      "no database config given, using /Users/bfmaier/.rocs_config/rocs_db.cfg\n"
     ]
    },
    {
     "name": "stderr",
     "output_type": "stream",
     "text": [
      "/usr/local/lib/python3.8/site-packages/polars/utils.py:23: UserWarning: Conversion of (potentially) timezone aware to naive datetimes. TZ information may be lost\n",
      "  warnings.warn(\n"
     ]
    }
   ],
   "source": [
    "\n",
    "dfs = []\n",
    "db = rocsDB()\n",
    "\n",
    "data = db.submit_query(f\"\"\"\n",
    "        SELECT\n",
    "            date_symptom_onset,\n",
    "            estimated_R_7_days\n",
    "        from\n",
    "            coronacases.nowcasting\n",
    "        where\n",
    "            date_symptom_onset >= '2021-10-10'\n",
    "        and\n",
    "            date_symptom_onset <= '2021-11-07'\n",
    "        order by\n",
    "            date_symptom_onset\n",
    "    \"\"\")\n",
    "columns = list(zip(*data))\n",
    "df = po.DataFrame({'days': columns[0], 'value': columns[1]})\n",
    "db.close()"
   ]
  },
  {
   "cell_type": "code",
   "execution_count": 8,
   "metadata": {},
   "outputs": [
    {
     "name": "stderr",
     "output_type": "stream",
     "text": [
      "No handles with labels found to put in legend.\n"
     ]
    },
    {
     "name": "stdout",
     "output_type": "stream",
     "text": [
      "mean_R 1.199310344827586\n"
     ]
    },
    {
     "data": {
      "text/plain": [
       "<matplotlib.legend.Legend at 0x165e32f10>"
      ]
     },
     "execution_count": 8,
     "metadata": {},
     "output_type": "execute_result"
    },
    {
     "data": {
      "image/png": "[encoded data removed]",
      "text/plain": [
       "<Figure size 432x288 with 1 Axes>"
      ]
     },
     "metadata": {
      "needs_background": "light"
     },
     "output_type": "display_data"
    }
   ],
   "source": [
    "pl.figure()\n",
    "\n",
    "t = df['days']\n",
    "y = df['value'].to_numpy()\n",
    "mean = np.mean(y)\n",
    "print('mean_R', mean)\n",
    "pl.plot(t, y)\n",
    "pl.legend()"
   ]
  },
  {
   "cell_type": "code",
   "execution_count": 13,
   "metadata": {},
   "outputs": [
    {
     "data": {
      "text/plain": [
       "<function numpy.interp(x, xp, fp, left=None, right=None, period=None)>"
      ]
     },
     "execution_count": 13,
     "metadata": {},
     "output_type": "execute_result"
    }
   ],
   "source": [
    "np.interp"
   ]
  },
  {
   "cell_type": "code",
   "execution_count": null,
   "metadata": {},
   "outputs": [],
   "source": []
  }
 ],
 "metadata": {
  "kernelspec": {
   "display_name": "Python 3",
   "language": "python",
   "name": "python3"
  },
  "language_info": {
   "codemirror_mode": {
    "name": "ipython",
    "version": 3
   },
   "file_extension": ".py",
   "mimetype": "text/x-python",
   "name": "python",
   "nbconvert_exporter": "python",
   "pygments_lexer": "ipython3",
   "version": "3.8.9"
  }
 },
 "nbformat": 4,
 "nbformat_minor": 4
}
