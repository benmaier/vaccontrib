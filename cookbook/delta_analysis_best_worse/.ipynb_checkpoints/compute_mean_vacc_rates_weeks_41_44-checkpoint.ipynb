{
 "cells": [
  {
   "cell_type": "code",
   "execution_count": 3,
   "metadata": {},
   "outputs": [],
   "source": [
    "import numpy as np\n",
    "import matplotlib.pyplot as pl\n",
    "from rocsDB import rocsDB\n",
    "import polars as po"
   ]
  },
  {
   "cell_type": "code",
   "execution_count": 4,
   "metadata": {},
   "outputs": [
    {
     "name": "stdout",
     "output_type": "stream",
     "text": [
      "no database config given, using /Users/bfmaier/.rocs_config/rocs_db.cfg\n"
     ]
    }
   ],
   "source": []
  },
  {
   "cell_type": "code",
   "execution_count": 9,
   "metadata": {},
   "outputs": [
    {
     "name": "stdout",
     "output_type": "stream",
     "text": [
      "no database config given, using /Users/bfmaier/.rocs_config/rocs_db.cfg\n",
      "[(648, 649, 650, 651, 652, 655, 656, 657, 658, 659, 662, 663, 664, 665, 666, 669, 670, 671, 672, 673, 676), (0.0, 0.0, 0.0, 0.0, 0.0, 0.0, 0.0, 0.0, 0.0, 0.0, 0.0, 0.0, 0.0, 0.0, 0.0, 0.0, 0.0, 0.0, 0.0, 0.0, 0.0)]\n",
      "[(648, 649, 650, 651, 652, 655, 656, 657, 658, 659, 662, 663, 664, 665, 666, 669, 670, 671, 672, 673, 676), (37.0, 37.2, 37.5, 37.8, 38.2, 38.6, 38.8, 39.1, 39.4, 39.7, 40.1, 40.3, 40.6, 40.9, 41.2, 41.6, 41.7, 41.9, 42.2, 42.5, 42.8)]\n",
      "[(648, 649, 650, 651, 652, 655, 656, 657, 658, 659, 662, 663, 664, 665, 666, 669, 670, 671, 672, 673, 676), (71.1, 71.2, 71.3, 71.5, 71.6, 71.8, 71.9, 72.0, 72.1, 72.3, 72.4, 72.5, 72.6, 72.7, 72.9, 73.0, 73.1, 73.2, 73.3, 73.4, 73.6)]\n",
      "[(648, 649, 650, 651, 652, 655, 656, 657, 658, 659, 662, 663, 664, 665, 666, 669, 670, 671, 672, 673, 676), (84.6, 84.7, 84.7, 84.8, 84.8, 84.8, 84.9, 84.9, 84.9, 85.0, 85.0, 85.0, 85.1, 85.1, 85.2, 85.3, 85.3, 85.3, 85.4, 85.4, 85.5)]\n"
     ]
    }
   ],
   "source": [
    "observables = [\n",
    "    'impf_quote_voll_alter_unter12',\n",
    "    'impf_quote_voll_alter_12bis17',\n",
    "    'impf_quote_voll_alter_18bis59',\n",
    "    'impf_quote_voll_alter_60plus',\n",
    "]\n",
    "\n",
    "dfs = []\n",
    "db = rocsDB()\n",
    "for observable in observables:\n",
    "    data = db.submit_query(f\"\"\"\n",
    "            SELECT\n",
    "                days_since_jan1,\n",
    "                value\n",
    "            from\n",
    "                coronacases.ard_rki_vaccination\n",
    "            where\n",
    "                region = 'DE'\n",
    "            and\n",
    "                metric = '{observable}'\n",
    "            and\n",
    "                date >= '2021-10-10'\n",
    "            and\n",
    "                date <= '2021-11-07'\n",
    "            order by\n",
    "                days_since_jan1\n",
    "        \"\"\")\n",
    "    columns = list(zip(*data))\n",
    "    df = po.DataFrame({'days': columns[0], 'value': columns[1]})\n",
    "    dfs.append(df)\n",
    "db.close()"
   ]
  },
  {
   "cell_type": "code",
   "execution_count": 17,
   "metadata": {},
   "outputs": [
    {
     "name": "stdout",
     "output_type": "stream",
     "text": [
      "impf_quote_voll_alter_unter12 0.0\n",
      "impf_quote_voll_alter_12bis17 40.13103448275862\n",
      "impf_quote_voll_alter_18bis59 72.43103448275862\n",
      "impf_quote_voll_alter_60plus 85.05862068965519\n"
     ]
    },
    {
     "data": {
      "text/plain": [
       "<matplotlib.legend.Legend at 0x168c49b50>"
      ]
     },
     "execution_count": 17,
     "metadata": {},
     "output_type": "execute_result"
    },
    {
     "data": {
      "image/png": "[encoded data removed]",
      "text/plain": [
       "<Figure size 432x288 with 1 Axes>"
      ]
     },
     "metadata": {
      "needs_background": "light"
     },
     "output_type": "display_data"
    }
   ],
   "source": [
    "pl.figure()\n",
    "for obs, df in zip(observables, dfs):\n",
    "    t = df['days']\n",
    "    y = df['value']\n",
    "    tnew = np.arange(t[0],t[-1]+1)\n",
    "    ynew = np.interp(tnew, t, y)\n",
    "    mean = np.mean(ynew)\n",
    "    print(obs, mean)\n",
    "    pl.plot(df['days'],df['value'],label=obs.split('_')[-1])\n",
    "pl.legend()"
   ]
  },
  {
   "cell_type": "code",
   "execution_count": 13,
   "metadata": {},
   "outputs": [
    {
     "data": {
      "text/plain": [
       "<function numpy.interp(x, xp, fp, left=None, right=None, period=None)>"
      ]
     },
     "execution_count": 13,
     "metadata": {},
     "output_type": "execute_result"
    }
   ],
   "source": [
    "np.interp"
   ]
  },
  {
   "cell_type": "code",
   "execution_count": null,
   "metadata": {},
   "outputs": [],
   "source": []
  }
 ],
 "metadata": {
  "kernelspec": {
   "display_name": "Python 3",
   "language": "python",
   "name": "python3"
  },
  "language_info": {
   "codemirror_mode": {
    "name": "ipython",
    "version": 3
   },
   "file_extension": ".py",
   "mimetype": "text/x-python",
   "name": "python",
   "nbconvert_exporter": "python",
   "pygments_lexer": "ipython3",
   "version": "3.8.9"
  }
 },
 "nbformat": 4,
 "nbformat_minor": 4
}
