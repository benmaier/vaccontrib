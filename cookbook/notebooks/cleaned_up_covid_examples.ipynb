{
 "cells": [
  {
   "cell_type": "code",
   "execution_count": 1,
   "metadata": {},
   "outputs": [],
   "source": [
    "import vaccontrib as vc\n",
    "from vaccontrib.linalg import convert_2d_block_to_4d_matrix, convert_4d_matrix_to_2d_block\n",
    "import numpy as np\n",
    "from numpyarray_to_latex.jupyter import to_jup\n",
    "from IPython.display import display, Math\n",
    "import bfmplot as bp\n",
    "import matplotlib.pyplot as pl\n"
   ]
  },
  {
   "cell_type": "code",
   "execution_count": 2,
   "metadata": {},
   "outputs": [],
   "source": [
    "def print_reduced_contribution_matrix_and_Reff(\n",
    "        C_red,\n",
    "        subscript='',\n",
    "        superscript='',\n",
    "    ):\n",
    "    if not subscript.startswith('_'):\n",
    "        if not subscript == '':\n",
    "            subscript = '_{'+subscript+'}'\n",
    "    if not superscript.startswith('^'):\n",
    "        if not subscript == '':\n",
    "            superscript = '^{'+superscript+'}'\n",
    "    to_jup(C_red,prefix='C'+superscript+subscript+'=')\n",
    "    R_eff = (C_red.sum(axis=0))\n",
    "    to_jup(R_eff,prefix='R'+superscript+subscript+'=',is_row_vector=False)\n",
    "    \n",
    "def get_homogeneous_contribution_matrix(variant,R0):\n",
    "    v, s, r = vc.io.get_homogeneous_vaccination_parameters(variant=variant)\n",
    "    #print(v,s,r)\n",
    "    C_hom = vc.get_homogeneous_contribution_matrix(R0, v, s, r)\n",
    "    return C_hom\n",
    "\n",
    "def get_homogeneous_next_generation_matrix(variant,R0):\n",
    "    v, s, r = vc.io.get_homogeneous_vaccination_parameters(variant=variant)\n",
    "    #print(v,s,r)\n",
    "    K_hom = vc.get_homogeneous_next_generation_matrix(R0, v, s, r)\n",
    "    return K_hom\n",
    "\n",
    "def get_homogeneous_eigenvector(variant):\n",
    "    v, s, r = vc.io.get_homogeneous_vaccination_parameters(variant=variant)\n",
    "    #print(v,s,r)\n",
    "    y_hom = vc.get_homogeneous_eigenvector(v, s)\n",
    "    return y_hom\n",
    "\n",
    "def get_heterogeneous_reduced_contribution_matrix(variant,R0,):\n",
    "    matrices = vc.covid.get_covid_matrices(variant=variant)    \n",
    "    C_red = vc.covid.get_reduced_vaccinated_susceptible_contribution_matrix_covid(R0,variant=variant)\n",
    "    return C_red\n",
    "\n",
    "def print_reduced_contribution_matrix_and_Reff_for_all_R_combinations(\n",
    "        variant,\n",
    "        base_R0,\n",
    "        subscript='',\n",
    "        superscript='',\n",
    "        is_homogeneous=False,\n",
    "        V=5,\n",
    "    ):\n",
    "    \n",
    "    for unvacc_R in [base_R0,1.,0.]:\n",
    "        display('# ================')\n",
    "        display(\"# R0_unvacc = \"+ str(unvacc_R))\n",
    "        for is_homogeneous in [False, True]:\n",
    "            R0 = [unvacc_R] + (V-1) * [base_R0]\n",
    "            this_subscript = str(subscript)\n",
    "            if is_homogeneous:\n",
    "                C = get_homogeneous_contribution_matrix(variant,R0)\n",
    "                if not this_subscript == '':\n",
    "                    this_subscript = this_subscript + ','\n",
    "                this_subscript += '\\mathrm{hom}'\n",
    "            else:\n",
    "                C = get_heterogeneous_reduced_contribution_matrix(variant,R0)\n",
    "            print_reduced_contribution_matrix_and_Reff(C,this_subscript,superscript)\n",
    "        "
   ]
  },
  {
   "cell_type": "code",
   "execution_count": 3,
   "metadata": {},
   "outputs": [
    {
     "data": {
      "text/plain": [
       "'# ================'"
      ]
     },
     "metadata": {},
     "output_type": "display_data"
    },
    {
     "data": {
      "text/plain": [
       "'# R0_unvacc = 6.0'"
      ]
     },
     "metadata": {},
     "output_type": "display_data"
    },
    {
     "data": {
      "text/latex": [
       "$\\displaystyle C^{}_{\\delta}=\\left(\n",
       "\\begin{array}{}\n",
       "    2.42 &    0.35\\\\\n",
       "    0.59 &    0.12\n",
       "\\end{array}\n",
       "\\right)$"
      ],
      "text/plain": [
       "<IPython.core.display.Math object>"
      ]
     },
     "metadata": {},
     "output_type": "display_data"
    },
    {
     "data": {
      "text/latex": [
       "$\\displaystyle R^{}_{\\delta}=\\left(\n",
       "\\begin{array}{}\n",
       "    3.01\\\\\n",
       "    0.47\n",
       "\\end{array}\n",
       "\\right)$"
      ],
      "text/plain": [
       "<IPython.core.display.Math object>"
      ]
     },
     "metadata": {},
     "output_type": "display_data"
    },
    {
     "data": {
      "text/latex": [
       "$\\displaystyle C^{}_{\\delta,\\mathrm{hom}}=\\left(\n",
       "\\begin{array}{}\n",
       "    1.81 &    0.65\\\\\n",
       "    0.65 &    0.23\n",
       "\\end{array}\n",
       "\\right)$"
      ],
      "text/plain": [
       "<IPython.core.display.Math object>"
      ]
     },
     "metadata": {},
     "output_type": "display_data"
    },
    {
     "data": {
      "text/latex": [
       "$\\displaystyle R^{}_{\\delta,\\mathrm{hom}}=\\left(\n",
       "\\begin{array}{}\n",
       "    2.46\\\\\n",
       "    0.87\n",
       "\\end{array}\n",
       "\\right)$"
      ],
      "text/plain": [
       "<IPython.core.display.Math object>"
      ]
     },
     "metadata": {},
     "output_type": "display_data"
    },
    {
     "data": {
      "text/plain": [
       "'# ================'"
      ]
     },
     "metadata": {},
     "output_type": "display_data"
    },
    {
     "data": {
      "text/plain": [
       "'# R0_unvacc = 1.0'"
      ]
     },
     "metadata": {},
     "output_type": "display_data"
    },
    {
     "data": {
      "text/latex": [
       "$\\displaystyle C^{}_{\\delta}=\\left(\n",
       "\\begin{array}{}\n",
       "    0.36 &    0.39\\\\\n",
       "    0.10 &    0.14\n",
       "\\end{array}\n",
       "\\right)$"
      ],
      "text/plain": [
       "<IPython.core.display.Math object>"
      ]
     },
     "metadata": {},
     "output_type": "display_data"
    },
    {
     "data": {
      "text/latex": [
       "$\\displaystyle R^{}_{\\delta}=\\left(\n",
       "\\begin{array}{}\n",
       "    0.45\\\\\n",
       "    0.54\n",
       "\\end{array}\n",
       "\\right)$"
      ],
      "text/plain": [
       "<IPython.core.display.Math object>"
      ]
     },
     "metadata": {},
     "output_type": "display_data"
    },
    {
     "data": {
      "text/latex": [
       "$\\displaystyle C^{}_{\\delta,\\mathrm{hom}}=\\left(\n",
       "\\begin{array}{}\n",
       "    0.30 &    0.65\\\\\n",
       "    0.11 &    0.23\n",
       "\\end{array}\n",
       "\\right)$"
      ],
      "text/plain": [
       "<IPython.core.display.Math object>"
      ]
     },
     "metadata": {},
     "output_type": "display_data"
    },
    {
     "data": {
      "text/latex": [
       "$\\displaystyle R^{}_{\\delta,\\mathrm{hom}}=\\left(\n",
       "\\begin{array}{}\n",
       "    0.41\\\\\n",
       "    0.87\n",
       "\\end{array}\n",
       "\\right)$"
      ],
      "text/plain": [
       "<IPython.core.display.Math object>"
      ]
     },
     "metadata": {},
     "output_type": "display_data"
    },
    {
     "data": {
      "text/plain": [
       "'# ================'"
      ]
     },
     "metadata": {},
     "output_type": "display_data"
    },
    {
     "data": {
      "text/plain": [
       "'# R0_unvacc = 0.0'"
      ]
     },
     "metadata": {},
     "output_type": "display_data"
    },
    {
     "data": {
      "text/latex": [
       "$\\displaystyle C^{}_{\\delta}=\\left(\n",
       "\\begin{array}{}\n",
       "    0.00 &    0.43\\\\\n",
       "    0.00 &    0.16\n",
       "\\end{array}\n",
       "\\right)$"
      ],
      "text/plain": [
       "<IPython.core.display.Math object>"
      ]
     },
     "metadata": {},
     "output_type": "display_data"
    },
    {
     "data": {
      "text/latex": [
       "$\\displaystyle R^{}_{\\delta}=\\left(\n",
       "\\begin{array}{}\n",
       "    0.00\\\\\n",
       "    0.58\n",
       "\\end{array}\n",
       "\\right)$"
      ],
      "text/plain": [
       "<IPython.core.display.Math object>"
      ]
     },
     "metadata": {},
     "output_type": "display_data"
    },
    {
     "data": {
      "text/latex": [
       "$\\displaystyle C^{}_{\\delta,\\mathrm{hom}}=\\left(\n",
       "\\begin{array}{}\n",
       "    0.00 &    0.65\\\\\n",
       "    0.00 &    0.23\n",
       "\\end{array}\n",
       "\\right)$"
      ],
      "text/plain": [
       "<IPython.core.display.Math object>"
      ]
     },
     "metadata": {},
     "output_type": "display_data"
    },
    {
     "data": {
      "text/latex": [
       "$\\displaystyle R^{}_{\\delta,\\mathrm{hom}}=\\left(\n",
       "\\begin{array}{}\n",
       "    0.00\\\\\n",
       "    0.87\n",
       "\\end{array}\n",
       "\\right)$"
      ],
      "text/plain": [
       "<IPython.core.display.Math object>"
      ]
     },
     "metadata": {},
     "output_type": "display_data"
    }
   ],
   "source": [
    "print_reduced_contribution_matrix_and_Reff_for_all_R_combinations(\n",
    "    variant='delta',\n",
    "    base_R0=6.,\n",
    "    subscript=r'\\delta'\n",
    ")"
   ]
  },
  {
   "cell_type": "code",
   "execution_count": 4,
   "metadata": {},
   "outputs": [
    {
     "data": {
      "text/plain": [
       "'# ================'"
      ]
     },
     "metadata": {},
     "output_type": "display_data"
    },
    {
     "data": {
      "text/plain": [
       "'# R0_unvacc = 4.0'"
      ]
     },
     "metadata": {},
     "output_type": "display_data"
    },
    {
     "data": {
      "text/latex": [
       "$\\displaystyle C^{}_{\\alpha}=\\left(\n",
       "\\begin{array}{}\n",
       "    1.86 &    0.06\\\\\n",
       "    0.21 &    0.01\n",
       "\\end{array}\n",
       "\\right)$"
      ],
      "text/plain": [
       "<IPython.core.display.Math object>"
      ]
     },
     "metadata": {},
     "output_type": "display_data"
    },
    {
     "data": {
      "text/latex": [
       "$\\displaystyle R^{}_{\\alpha}=\\left(\n",
       "\\begin{array}{}\n",
       "    2.07\\\\\n",
       "    0.07\n",
       "\\end{array}\n",
       "\\right)$"
      ],
      "text/plain": [
       "<IPython.core.display.Math object>"
      ]
     },
     "metadata": {},
     "output_type": "display_data"
    },
    {
     "data": {
      "text/latex": [
       "$\\displaystyle C^{}_{\\alpha,\\mathrm{hom}}=\\left(\n",
       "\\begin{array}{}\n",
       "    1.40 &    0.12\\\\\n",
       "    0.24 &    0.02\n",
       "\\end{array}\n",
       "\\right)$"
      ],
      "text/plain": [
       "<IPython.core.display.Math object>"
      ]
     },
     "metadata": {},
     "output_type": "display_data"
    },
    {
     "data": {
      "text/latex": [
       "$\\displaystyle R^{}_{\\alpha,\\mathrm{hom}}=\\left(\n",
       "\\begin{array}{}\n",
       "    1.64\\\\\n",
       "    0.14\n",
       "\\end{array}\n",
       "\\right)$"
      ],
      "text/plain": [
       "<IPython.core.display.Math object>"
      ]
     },
     "metadata": {},
     "output_type": "display_data"
    },
    {
     "data": {
      "text/plain": [
       "'# ================'"
      ]
     },
     "metadata": {},
     "output_type": "display_data"
    },
    {
     "data": {
      "text/plain": [
       "'# R0_unvacc = 1.0'"
      ]
     },
     "metadata": {},
     "output_type": "display_data"
    },
    {
     "data": {
      "text/latex": [
       "$\\displaystyle C^{}_{\\alpha}=\\left(\n",
       "\\begin{array}{}\n",
       "    0.45 &    0.06\\\\\n",
       "    0.05 &    0.01\n",
       "\\end{array}\n",
       "\\right)$"
      ],
      "text/plain": [
       "<IPython.core.display.Math object>"
      ]
     },
     "metadata": {},
     "output_type": "display_data"
    },
    {
     "data": {
      "text/latex": [
       "$\\displaystyle R^{}_{\\alpha}=\\left(\n",
       "\\begin{array}{}\n",
       "    0.50\\\\\n",
       "    0.07\n",
       "\\end{array}\n",
       "\\right)$"
      ],
      "text/plain": [
       "<IPython.core.display.Math object>"
      ]
     },
     "metadata": {},
     "output_type": "display_data"
    },
    {
     "data": {
      "text/latex": [
       "$\\displaystyle C^{}_{\\alpha,\\mathrm{hom}}=\\left(\n",
       "\\begin{array}{}\n",
       "    0.35 &    0.12\\\\\n",
       "    0.06 &    0.02\n",
       "\\end{array}\n",
       "\\right)$"
      ],
      "text/plain": [
       "<IPython.core.display.Math object>"
      ]
     },
     "metadata": {},
     "output_type": "display_data"
    },
    {
     "data": {
      "text/latex": [
       "$\\displaystyle R^{}_{\\alpha,\\mathrm{hom}}=\\left(\n",
       "\\begin{array}{}\n",
       "    0.41\\\\\n",
       "    0.14\n",
       "\\end{array}\n",
       "\\right)$"
      ],
      "text/plain": [
       "<IPython.core.display.Math object>"
      ]
     },
     "metadata": {},
     "output_type": "display_data"
    },
    {
     "data": {
      "text/plain": [
       "'# ================'"
      ]
     },
     "metadata": {},
     "output_type": "display_data"
    },
    {
     "data": {
      "text/plain": [
       "'# R0_unvacc = 0.0'"
      ]
     },
     "metadata": {},
     "output_type": "display_data"
    },
    {
     "data": {
      "text/latex": [
       "$\\displaystyle C^{}_{\\alpha}=\\left(\n",
       "\\begin{array}{}\n",
       "    0.00 &    0.08\\\\\n",
       "    0.00 &    0.01\n",
       "\\end{array}\n",
       "\\right)$"
      ],
      "text/plain": [
       "<IPython.core.display.Math object>"
      ]
     },
     "metadata": {},
     "output_type": "display_data"
    },
    {
     "data": {
      "text/latex": [
       "$\\displaystyle R^{}_{\\alpha}=\\left(\n",
       "\\begin{array}{}\n",
       "    0.00\\\\\n",
       "    0.09\n",
       "\\end{array}\n",
       "\\right)$"
      ],
      "text/plain": [
       "<IPython.core.display.Math object>"
      ]
     },
     "metadata": {},
     "output_type": "display_data"
    },
    {
     "data": {
      "text/latex": [
       "$\\displaystyle C^{}_{\\alpha,\\mathrm{hom}}=\\left(\n",
       "\\begin{array}{}\n",
       "    0.00 &    0.12\\\\\n",
       "    0.00 &    0.02\n",
       "\\end{array}\n",
       "\\right)$"
      ],
      "text/plain": [
       "<IPython.core.display.Math object>"
      ]
     },
     "metadata": {},
     "output_type": "display_data"
    },
    {
     "data": {
      "text/latex": [
       "$\\displaystyle R^{}_{\\alpha,\\mathrm{hom}}=\\left(\n",
       "\\begin{array}{}\n",
       "    0.00\\\\\n",
       "    0.14\n",
       "\\end{array}\n",
       "\\right)$"
      ],
      "text/plain": [
       "<IPython.core.display.Math object>"
      ]
     },
     "metadata": {},
     "output_type": "display_data"
    }
   ],
   "source": [
    "print_reduced_contribution_matrix_and_Reff_for_all_R_combinations(\n",
    "    variant='alpha',\n",
    "    base_R0=4.,\n",
    "    subscript=r'\\alpha'\n",
    ")"
   ]
  },
  {
   "cell_type": "code",
   "execution_count": 5,
   "metadata": {},
   "outputs": [
    {
     "data": {
      "text/latex": [
       "$\\displaystyle \\left(\n",
       "\\begin{array}{}\n",
       "    0.76 &    0.24\n",
       "\\end{array}\n",
       "\\right)$"
      ],
      "text/plain": [
       "<IPython.core.display.Math object>"
      ]
     },
     "metadata": {},
     "output_type": "display_data"
    },
    {
     "data": {
      "image/png": "[encoded data removed]",
      "text/plain": [
       "<Figure size 360x222.493 with 1 Axes>"
      ]
     },
     "metadata": {
      "needs_background": "light"
     },
     "output_type": "display_data"
    },
    {
     "data": {
      "image/png": "[encoded data removed]",
      "text/plain": [
       "<Figure size 360x222.493 with 1 Axes>"
      ]
     },
     "metadata": {
      "needs_background": "light"
     },
     "output_type": "display_data"
    },
    {
     "data": {
      "image/png": "[encoded data removed]",
      "text/plain": [
       "<Figure size 360x222.493 with 1 Axes>"
      ]
     },
     "metadata": {
      "needs_background": "light"
     },
     "output_type": "display_data"
    },
    {
     "data": {
      "image/png": "[encoded data removed]",
      "text/plain": [
       "<Figure size 360x222.493 with 1 Axes>"
      ]
     },
     "metadata": {
      "needs_background": "light"
     },
     "output_type": "display_data"
    }
   ],
   "source": [
    "from vaccontrib.plot import plot_reduced_contribution_matrix, plot_reduced_contribution_matrix_stacked\n",
    "Chom = get_homogeneous_contribution_matrix('delta',[1.,6.])\n",
    "C = vc.covid.get_reduced_vaccinated_susceptible_contribution_matrix_covid([1.,6,6,6,6],variant='delta')\n",
    "K = vc.covid.get_next_generation_matrix_covid([1.,6,6,6,6],variant='delta')\n",
    "y = vc.get_eigenvector(K)\n",
    "y = y.sum(axis=0)\n",
    "y = np.array([y[0],y[1:].sum()])\n",
    "to_jup(y)\n",
    "#C = get_homogeneous_contribution_matrix('alpha',[4.,4.])\n",
    "#print(C)\n",
    "#C = np.arange(9).reshape(3,3)[::-1,:]\n",
    "\n",
    "ax = plot_reduced_contribution_matrix(Chom,0.6)\n",
    "ax = plot_reduced_contribution_matrix_stacked(Chom)\n",
    "ax = plot_reduced_contribution_matrix(C,0.6)\n",
    "ax = plot_reduced_contribution_matrix_stacked(C)"
   ]
  },
  {
   "cell_type": "code",
   "execution_count": 6,
   "metadata": {},
   "outputs": [
    {
     "data": {
      "image/png": "[encoded data removed]",
      "text/plain": [
       "<Figure size 360x222.493 with 1 Axes>"
      ]
     },
     "metadata": {
      "needs_background": "light"
     },
     "output_type": "display_data"
    },
    {
     "data": {
      "image/png": "[encoded data removed]",
      "text/plain": [
       "<Figure size 360x222.493 with 1 Axes>"
      ]
     },
     "metadata": {
      "needs_background": "light"
     },
     "output_type": "display_data"
    },
    {
     "data": {
      "image/png": "[encoded data removed]",
      "text/plain": [
       "<Figure size 360x222.493 with 1 Axes>"
      ]
     },
     "metadata": {
      "needs_background": "light"
     },
     "output_type": "display_data"
    },
    {
     "data": {
      "image/png": "[encoded data removed]",
      "text/plain": [
       "<Figure size 360x222.493 with 1 Axes>"
      ]
     },
     "metadata": {
      "needs_background": "light"
     },
     "output_type": "display_data"
    }
   ],
   "source": [
    "\n",
    "Chom = get_homogeneous_contribution_matrix('alpha',[4.,4.])\n",
    "C = vc.covid.get_reduced_vaccinated_susceptible_contribution_matrix_covid([4.,4,4,4,4],variant='alpha')\n",
    "#C = get_homogeneous_contribution_matrix('alpha',[4.,4.])\n",
    "#print(C)\n",
    "#C = np.arange(9).reshape(3,3)[::-1,:]\n",
    "\n",
    "ax = plot_reduced_contribution_matrix(Chom,0.6)\n",
    "ax = plot_reduced_contribution_matrix_stacked(Chom)\n",
    "ax = plot_reduced_contribution_matrix(C,0.6)\n",
    "ax = plot_reduced_contribution_matrix_stacked(C)"
   ]
  },
  {
   "cell_type": "code",
   "execution_count": 28,
   "metadata": {},
   "outputs": [
    {
     "data": {
      "text/plain": [
       "(-1.5, 7.0, -1.1292320524817674, 1.1291100892738182)"
      ]
     },
     "execution_count": 28,
     "metadata": {},
     "output_type": "execute_result"
    },
    {
     "data": {
      "image/png": "[encoded data removed]",
      "text/plain": [
       "<Figure size 360x222.493 with 1 Axes>"
      ]
     },
     "metadata": {
      "needs_background": "light"
     },
     "output_type": "display_data"
    },
    {
     "data": {
      "image/png": "[encoded data removed]",
      "text/plain": [
       "<Figure size 360x222.493 with 1 Axes>"
      ]
     },
     "metadata": {
      "needs_background": "light"
     },
     "output_type": "display_data"
    }
   ],
   "source": [
    "from vaccontrib.illustration import get_circular_vector_and_matrix_presentation\n",
    "\n",
    "Chom = get_homogeneous_contribution_matrix('delta',[1.,6.])\n",
    "C = vc.covid.get_reduced_vaccinated_susceptible_contribution_matrix_covid([1.,6,6,6,6],variant='delta')\n",
    "K = vc.covid.get_next_generation_matrix_covid([1.,6,6,6,6],variant='delta')\n",
    "y = vc.get_eigenvector(K)\n",
    "y = y.sum(axis=0)\n",
    "y = np.array([y[0],y[1:].sum()])\n",
    "#C = get_homogeneous_contribution_matrix('alpha',[4.,4.])\n",
    "#print(C)\n",
    "#C = np.arange(9).reshape(3,3)[::-1,:]\n",
    "\n",
    "ax = get_circular_vector_and_matrix_presentation(y, Chom).plot()\n",
    "ax.set_xlim(-1.5,7)\n",
    "ax.axis('off')\n",
    "ax = get_circular_vector_and_matrix_presentation(y, C).plot()\n",
    "ax.set_xlim(-1.5,7)\n",
    "ax.axis('off')\n",
    "#ax = plot_reduced_contribution_matrix_stacked(Chom)\n",
    "#ax = plot_reduced_contribution_matrix(C,0.6)\n",
    "#ax = plot_reduced_contribution_matrix_stacked(C)"
   ]
  },
  {
   "cell_type": "code",
   "execution_count": 29,
   "metadata": {},
   "outputs": [
    {
     "data": {
      "text/plain": [
       "(-1.5, 5.0, -1.1, 1.1)"
      ]
     },
     "execution_count": 29,
     "metadata": {},
     "output_type": "execute_result"
    },
    {
     "data": {
      "image/png": "[encoded data removed]",
      "text/plain": [
       "<Figure size 360x222.493 with 1 Axes>"
      ]
     },
     "metadata": {
      "needs_background": "light"
     },
     "output_type": "display_data"
    },
    {
     "data": {
      "image/png": "[encoded data removed]",
      "text/plain": [
       "<Figure size 360x222.493 with 1 Axes>"
      ]
     },
     "metadata": {
      "needs_background": "light"
     },
     "output_type": "display_data"
    }
   ],
   "source": [
    "from vaccontrib.illustration import get_circular_vector_and_matrix_presentation\n",
    "\n",
    "Chom = get_homogeneous_contribution_matrix('alpha',[1.,4.])\n",
    "Cred = vc.covid.get_reduced_vaccinated_susceptible_contribution_matrix_covid([1.,4,4,4,4],variant='alpha')\n",
    "C = vc.covid.get_contribution_matrix_covid([1.,4,4,4,4],variant='alpha')\n",
    "K = vc.covid.get_next_generation_matrix_covid([1.,4,4,4,4],variant='alpha')\n",
    "y = vc.get_eigenvector(K)\n",
    "yred = y.sum(axis=0)\n",
    "yred = np.array([yred[0],yred[1:].sum()])\n",
    "#C = get_homogeneous_contribution_matrix('alpha',[4.,4.])\n",
    "#print(C)\n",
    "#C = np.arange(9).reshape(3,3)[::-1,:]\n",
    "yhom = get_homogeneous_eigenvector(variant='alpha')\n",
    "ax = get_circular_vector_and_matrix_presentation(yhom, Chom).plot()\n",
    "ax.set_xlim(-1.5,5)\n",
    "ax.axis('off')\n",
    "\n",
    "ax = get_circular_vector_and_matrix_presentation(yred, Cred).plot()\n",
    "ax.set_xlim(-1.5,5)\n",
    "ax.axis('off')\n",
    "\n",
    "#ax = plot_reduced_contribution_matrix_stacked(Chom)\n",
    "#ax = plot_reduced_contribution_matrix(C,0.6)\n",
    "#ax = plot_reduced_contribution_matrix_stacked(C)"
   ]
  },
  {
   "cell_type": "code",
   "execution_count": 9,
   "metadata": {},
   "outputs": [
    {
     "data": {
      "text/latex": [
       "$\\displaystyle \\left(\n",
       "\\begin{array}{}\n",
       "    0.89 &    0.11\n",
       "\\end{array}\n",
       "\\right)$"
      ],
      "text/plain": [
       "<IPython.core.display.Math object>"
      ]
     },
     "metadata": {},
     "output_type": "display_data"
    },
    {
     "data": {
      "text/latex": [
       "$\\displaystyle \\left(\n",
       "\\begin{array}{}\n",
       "    0.89 &    0.11\n",
       "\\end{array}\n",
       "\\right)$"
      ],
      "text/plain": [
       "<IPython.core.display.Math object>"
      ]
     },
     "metadata": {},
     "output_type": "display_data"
    },
    {
     "data": {
      "text/latex": [
       "$\\displaystyle \\left(\n",
       "\\begin{array}{}\n",
       "    0.86 &    0.14\n",
       "\\end{array}\n",
       "\\right)$"
      ],
      "text/plain": [
       "<IPython.core.display.Math object>"
      ]
     },
     "metadata": {},
     "output_type": "display_data"
    },
    {
     "data": {
      "text/latex": [
       "$\\displaystyle \\left(\n",
       "\\begin{array}{}\n",
       "    0.86 &    0.14\n",
       "\\end{array}\n",
       "\\right)$"
      ],
      "text/plain": [
       "<IPython.core.display.Math object>"
      ]
     },
     "metadata": {},
     "output_type": "display_data"
    }
   ],
   "source": [
    "to_jup(Cred.sum(axis=1)/Cred.sum())\n",
    "to_jup(yred/yred.sum())\n",
    "to_jup(Chom.sum(axis=1)/Chom.sum())\n",
    "to_jup(yhom/yhom.sum())\n"
   ]
  },
  {
   "cell_type": "code",
   "execution_count": 10,
   "metadata": {},
   "outputs": [
    {
     "data": {
      "text/plain": [
       "0.5752426884313784"
      ]
     },
     "execution_count": 10,
     "metadata": {},
     "output_type": "execute_result"
    }
   ],
   "source": [
    "C.sum()"
   ]
  },
  {
   "cell_type": "code",
   "execution_count": 11,
   "metadata": {},
   "outputs": [
    {
     "data": {
      "text/plain": [
       "array([0.89230793, 0.03017644, 0.0535565 , 0.00755762, 0.01640151])"
      ]
     },
     "execution_count": 11,
     "metadata": {},
     "output_type": "execute_result"
    }
   ],
   "source": [
    "ynext = vc.linalg.convert_4d_matrix_to_2d_block(K).dot(y.flatten())\n",
    "ynext /= ynext.sum()\n",
    "ynext.reshape(4,5).sum(axis=0)"
   ]
  },
  {
   "cell_type": "code",
   "execution_count": 12,
   "metadata": {},
   "outputs": [
    {
     "data": {
      "text/plain": [
       "array([0.89230793, 0.03017644, 0.0535565 , 0.00755762, 0.01640151])"
      ]
     },
     "execution_count": 12,
     "metadata": {},
     "output_type": "execute_result"
    }
   ],
   "source": [
    "y.sum(axis=0)"
   ]
  },
  {
   "cell_type": "code",
   "execution_count": 13,
   "metadata": {},
   "outputs": [
    {
     "name": "stdout",
     "output_type": "stream",
     "text": [
      "[[0.10872846 0.         0.         0.         0.        ]\n",
      " [0.15901979 0.         0.00330056 0.         0.        ]\n",
      " [0.22865367 0.0143095  0.02267542 0.00358378 0.0077775 ]\n",
      " [0.0168917  0.00304927 0.004832   0.00076368 0.00165734]]\n"
     ]
    },
    {
     "data": {
      "text/plain": [
       "array([0.89230793, 0.03017644, 0.0535565 , 0.00755762, 0.01640151])"
      ]
     },
     "execution_count": 13,
     "metadata": {},
     "output_type": "execute_result"
    }
   ],
   "source": [
    "ynext_from_C = C.sum(axis=-1).sum(axis=-2)\n",
    "print(ynext_from_C)\n",
    "ynext_from_C /= ynext_from_C.sum()\n",
    "ynext_from_C.sum(axis=0)"
   ]
  },
  {
   "cell_type": "code",
   "execution_count": 14,
   "metadata": {},
   "outputs": [
    {
     "data": {
      "text/plain": [
       "0.5752426884313783"
      ]
     },
     "execution_count": 14,
     "metadata": {},
     "output_type": "execute_result"
    }
   ],
   "source": [
    "ynext = vc.linalg.convert_4d_matrix_to_2d_block(K).dot(y.flatten())\n",
    "ynext.sum()"
   ]
  },
  {
   "cell_type": "code",
   "execution_count": 15,
   "metadata": {},
   "outputs": [
    {
     "data": {
      "text/plain": [
       "0.5752426884313784"
      ]
     },
     "execution_count": 15,
     "metadata": {},
     "output_type": "execute_result"
    }
   ],
   "source": [
    "C.sum()"
   ]
  },
  {
   "cell_type": "code",
   "execution_count": 16,
   "metadata": {},
   "outputs": [
    {
     "data": {
      "text/plain": [
       "0.5480582320692857"
      ]
     },
     "execution_count": 16,
     "metadata": {},
     "output_type": "execute_result"
    }
   ],
   "source": [
    "Chom.sum()"
   ]
  },
  {
   "cell_type": "code",
   "execution_count": 17,
   "metadata": {},
   "outputs": [
    {
     "name": "stdout",
     "output_type": "stream",
     "text": [
      "[0.85583015 0.14416985]\n",
      "[0.85583015 0.14416985]\n"
     ]
    }
   ],
   "source": [
    "Khom = get_homogeneous_next_generation_matrix('alpha',[1.,4.])\n",
    "Chom = get_homogeneous_contribution_matrix('alpha',[1.,4.])\n",
    "yhom = get_homogeneous_eigenvector('alpha')\n",
    "print(Khom.dot(yhom)/Khom.dot(yhom).sum())\n",
    "print(yhom)"
   ]
  },
  {
   "cell_type": "code",
   "execution_count": 18,
   "metadata": {},
   "outputs": [
    {
     "data": {
      "text/plain": [
       "array([[0.35084183, 0.11820293],\n",
       "       [0.05910146, 0.01991201]])"
      ]
     },
     "execution_count": 18,
     "metadata": {},
     "output_type": "execute_result"
    }
   ],
   "source": [
    "Khom.dot(np.diag(yhom))"
   ]
  },
  {
   "cell_type": "code",
   "execution_count": 19,
   "metadata": {},
   "outputs": [
    {
     "data": {
      "text/plain": [
       "array([[0.35084183, 0.11820293],\n",
       "       [0.05910146, 0.01991201]])"
      ]
     },
     "execution_count": 19,
     "metadata": {},
     "output_type": "execute_result"
    }
   ],
   "source": [
    "Chom"
   ]
  },
  {
   "cell_type": "code",
   "execution_count": 20,
   "metadata": {},
   "outputs": [],
   "source": [
    "R, y = vc.linalg.get_spectral_radius_and_eigenvector(Khom)"
   ]
  },
  {
   "cell_type": "code",
   "execution_count": 21,
   "metadata": {},
   "outputs": [
    {
     "data": {
      "text/plain": [
       "0.5480582320692857"
      ]
     },
     "execution_count": 21,
     "metadata": {},
     "output_type": "execute_result"
    }
   ],
   "source": [
    "R"
   ]
  },
  {
   "cell_type": "code",
   "execution_count": 22,
   "metadata": {},
   "outputs": [
    {
     "data": {
      "text/plain": [
       "array([0.85583015, 0.14416985])"
      ]
     },
     "execution_count": 22,
     "metadata": {},
     "output_type": "execute_result"
    }
   ],
   "source": [
    "y"
   ]
  },
  {
   "cell_type": "code",
   "execution_count": 23,
   "metadata": {},
   "outputs": [
    {
     "data": {
      "text/plain": [
       "array([0.85583015, 0.14416985])"
      ]
     },
     "execution_count": 23,
     "metadata": {},
     "output_type": "execute_result"
    }
   ],
   "source": [
    "yhom"
   ]
  },
  {
   "cell_type": "code",
   "execution_count": 24,
   "metadata": {},
   "outputs": [
    {
     "data": {
      "text/plain": [
       "0.5480582320692857"
      ]
     },
     "execution_count": 24,
     "metadata": {},
     "output_type": "execute_result"
    }
   ],
   "source": [
    "Chom.sum()"
   ]
  },
  {
   "cell_type": "code",
   "execution_count": null,
   "metadata": {},
   "outputs": [],
   "source": []
  }
 ],
 "metadata": {
  "kernelspec": {
   "display_name": "Python 3",
   "language": "python",
   "name": "python3"
  },
  "language_info": {
   "codemirror_mode": {
    "name": "ipython",
    "version": 3
   },
   "file_extension": ".py",
   "mimetype": "text/x-python",
   "name": "python",
   "nbconvert_exporter": "python",
   "pygments_lexer": "ipython3",
   "version": "3.8.9"
  }
 },
 "nbformat": 4,
 "nbformat_minor": 4
}
