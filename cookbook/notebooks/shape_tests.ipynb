{
 "cells": [
  {
   "cell_type": "code",
   "execution_count": 7,
   "metadata": {},
   "outputs": [],
   "source": [
    "import vaccontrib as vc\n",
    "from vaccontrib.linalg import convert_2d_block_to_4d_matrix, convert_4d_matrix_to_2d_block\n",
    "import numpy as np\n",
    "from numpyarray_to_latex.jupyter import to_jup\n",
    "from IPython.display import display, Math\n",
    "import bfmplot as bp\n",
    "import matplotlib.pyplot as pl\n",
    "%matplotlib widget"
   ]
  },
  {
   "cell_type": "code",
   "execution_count": 8,
   "metadata": {},
   "outputs": [],
   "source": [
    "%matplotlib widget"
   ]
  },
  {
   "cell_type": "code",
   "execution_count": 9,
   "metadata": {},
   "outputs": [
    {
     "data": {
      "application/vnd.jupyter.widget-view+json": {
       "model_id": "88a12a5fb5df4200a38310356394eaef",
       "version_major": 2,
       "version_minor": 0
      },
      "text/plain": [
       "Canvas(toolbar=Toolbar(toolitems=[('Home', 'Reset original view', 'home', 'home'), ('Back', 'Back to previous …"
      ]
     },
     "metadata": {},
     "output_type": "display_data"
    },
    {
     "data": {
      "application/vnd.jupyter.widget-view+json": {
       "model_id": "e99237b1c2b94ba991951203f3d6eaa8",
       "version_major": 2,
       "version_minor": 0
      },
      "text/plain": [
       "Canvas(toolbar=Toolbar(toolitems=[('Home', 'Reset original view', 'home', 'home'), ('Back', 'Back to previous …"
      ]
     },
     "metadata": {},
     "output_type": "display_data"
    }
   ],
   "source": [
    "from vaccontrib.illustration import get_circular_vector_and_matrix_presentation\n",
    "\n",
    "Chom = vc.covid.get_homogeneous_contribution_matrix_covid([6.,6.],'delta',)\n",
    "C = vc.covid.get_reduced_vaccinated_susceptible_contribution_matrix_covid([6.,6,6,6,6],variant='delta')\n",
    "K = vc.covid.get_next_generation_matrix_covid([6.,6,6,6,6],variant='delta')\n",
    "y = vc.get_eigenvector(K)\n",
    "y = y.sum(axis=0)\n",
    "y = np.array([y[0],y[1:].sum()])\n",
    "#C = get_homogeneous_contribution_matrix('alpha',[4.,4.])\n",
    "#print(C)\n",
    "#C = np.arange(9).reshape(3,3)[::-1,:]\n",
    "\n",
    "ax = get_circular_vector_and_matrix_presentation(y, Chom).plot()\n",
    "ax.set_xlim(-1.5,7)\n",
    "ax.axis('off')\n",
    "joined2 = get_circular_vector_and_matrix_presentation(y, C)\n",
    "ax = joined2.plot()\n",
    "ax.set_xlim(-1.5,7)\n",
    "ax.axis('off')\n",
    "ax.get_figure().savefig('delta_example_no_lockdown.pdf')\n",
    "#ax = plot_reduced_contribution_matrix_stacked(Chom)\n",
    "#ax = plot_reduced_contribution_matrix(C,0.6)\n",
    "#ax = plot_reduced_contribution_matrix_stacked(C)"
   ]
  },
  {
   "cell_type": "code",
   "execution_count": 23,
   "metadata": {},
   "outputs": [
    {
     "data": {
      "text/plain": [
       "(0.9146841872240591, -0.914684187224059)"
      ]
     },
     "execution_count": 23,
     "metadata": {},
     "output_type": "execute_result"
    }
   ],
   "source": [
    "x, y = joined2.cap0.exterior.xy\n",
    "ndx = np.where(np.diff(y)==0)[0][0]\n",
    "y[ndx], y[ndx+1]\n",
    "x[ndx], x[ndx+1]"
   ]
  },
  {
   "cell_type": "code",
   "execution_count": 26,
   "metadata": {},
   "outputs": [
    {
     "data": {
      "application/vnd.jupyter.widget-view+json": {
       "model_id": "8b73e57e5a0e4797ad0e644484bdd840",
       "version_major": 2,
       "version_minor": 0
      },
      "text/plain": [
       "Canvas(toolbar=Toolbar(toolitems=[('Home', 'Reset original view', 'home', 'home'), ('Back', 'Back to previous …"
      ]
     },
     "metadata": {},
     "output_type": "display_data"
    },
    {
     "data": {
      "application/vnd.jupyter.widget-view+json": {
       "model_id": "464469aa365147d1bbca4334e67eea94",
       "version_major": 2,
       "version_minor": 0
      },
      "text/plain": [
       "Canvas(toolbar=Toolbar(toolitems=[('Home', 'Reset original view', 'home', 'home'), ('Back', 'Back to previous …"
      ]
     },
     "metadata": {},
     "output_type": "display_data"
    },
    {
     "data": {
      "text/plain": [
       "(-1.5, 7.0, -1.1, 1.1)"
      ]
     },
     "execution_count": 26,
     "metadata": {},
     "output_type": "execute_result"
    }
   ],
   "source": [
    "from vaccontrib.illustration import get_circular_vector_and_matrix_presentation\n",
    "\n",
    "Chom = vc.covid.get_homogeneous_contribution_matrix_covid([1.,4.],'alpha',)\n",
    "Cred = vc.covid.get_reduced_vaccinated_susceptible_contribution_matrix_covid([1.,4,4,4,4],variant='alpha')\n",
    "C = vc.covid.get_contribution_matrix_covid([1.,4,4,4,4],variant='alpha')\n",
    "K = vc.covid.get_next_generation_matrix_covid([1.,4,4,4,4],variant='alpha')\n",
    "y = vc.get_eigenvector(K)\n",
    "yred = y.sum(axis=0)\n",
    "yred = np.array([yred[0],yred[1:].sum()])\n",
    "#C = get_homogeneous_contribution_matrix('alpha',[4.,4.])\n",
    "#print(C)\n",
    "#C = np.arange(9).reshape(3,3)[::-1,:]\n",
    "yhom = vc.covid.get_homogeneous_eigenvector_covid(variant='alpha')\n",
    "ax = get_circular_vector_and_matrix_presentation(yhom, Chom).plot()\n",
    "ax.set_xlim(-1.5,7)\n",
    "ax.axis('off')\n",
    "\n",
    "ax = get_circular_vector_and_matrix_presentation(yred, Cred).plot()\n",
    "ax.set_xlim(-1.5,7)\n",
    "ax.axis('off')\n",
    "\n",
    "#ax = plot_reduced_contribution_matrix_stacked(Chom)\n",
    "#ax = plot_reduced_contribution_matrix(C,0.6)\n",
    "#ax = plot_reduced_contribution_matrix_stacked(C)"
   ]
  },
  {
   "cell_type": "code",
   "execution_count": 9,
   "metadata": {},
   "outputs": [
    {
     "data": {
      "text/latex": [
       "$\\displaystyle \\left(\n",
       "\\begin{array}{}\n",
       "    0.89 &    0.11\n",
       "\\end{array}\n",
       "\\right)$"
      ],
      "text/plain": [
       "<IPython.core.display.Math object>"
      ]
     },
     "metadata": {},
     "output_type": "display_data"
    },
    {
     "data": {
      "text/latex": [
       "$\\displaystyle \\left(\n",
       "\\begin{array}{}\n",
       "    0.89 &    0.11\n",
       "\\end{array}\n",
       "\\right)$"
      ],
      "text/plain": [
       "<IPython.core.display.Math object>"
      ]
     },
     "metadata": {},
     "output_type": "display_data"
    },
    {
     "data": {
      "text/latex": [
       "$\\displaystyle \\left(\n",
       "\\begin{array}{}\n",
       "    0.86 &    0.14\n",
       "\\end{array}\n",
       "\\right)$"
      ],
      "text/plain": [
       "<IPython.core.display.Math object>"
      ]
     },
     "metadata": {},
     "output_type": "display_data"
    },
    {
     "data": {
      "text/latex": [
       "$\\displaystyle \\left(\n",
       "\\begin{array}{}\n",
       "    0.86 &    0.14\n",
       "\\end{array}\n",
       "\\right)$"
      ],
      "text/plain": [
       "<IPython.core.display.Math object>"
      ]
     },
     "metadata": {},
     "output_type": "display_data"
    }
   ],
   "source": [
    "to_jup(Cred.sum(axis=1)/Cred.sum())\n",
    "to_jup(yred/yred.sum())\n",
    "to_jup(Chom.sum(axis=1)/Chom.sum())\n",
    "to_jup(yhom/yhom.sum())\n"
   ]
  },
  {
   "cell_type": "code",
   "execution_count": 10,
   "metadata": {},
   "outputs": [
    {
     "data": {
      "text/plain": [
       "0.5752426884313784"
      ]
     },
     "execution_count": 10,
     "metadata": {},
     "output_type": "execute_result"
    }
   ],
   "source": [
    "C.sum()"
   ]
  },
  {
   "cell_type": "code",
   "execution_count": 11,
   "metadata": {},
   "outputs": [
    {
     "data": {
      "text/plain": [
       "array([0.89230793, 0.03017644, 0.0535565 , 0.00755762, 0.01640151])"
      ]
     },
     "execution_count": 11,
     "metadata": {},
     "output_type": "execute_result"
    }
   ],
   "source": [
    "ynext = vc.linalg.convert_4d_matrix_to_2d_block(K).dot(y.flatten())\n",
    "ynext /= ynext.sum()\n",
    "ynext.reshape(4,5).sum(axis=0)"
   ]
  },
  {
   "cell_type": "code",
   "execution_count": 12,
   "metadata": {},
   "outputs": [
    {
     "data": {
      "text/plain": [
       "array([0.89230793, 0.03017644, 0.0535565 , 0.00755762, 0.01640151])"
      ]
     },
     "execution_count": 12,
     "metadata": {},
     "output_type": "execute_result"
    }
   ],
   "source": [
    "y.sum(axis=0)"
   ]
  },
  {
   "cell_type": "code",
   "execution_count": 13,
   "metadata": {},
   "outputs": [
    {
     "name": "stdout",
     "output_type": "stream",
     "text": [
      "[[0.10872846 0.         0.         0.         0.        ]\n",
      " [0.15901979 0.         0.00330056 0.         0.        ]\n",
      " [0.22865367 0.0143095  0.02267542 0.00358378 0.0077775 ]\n",
      " [0.0168917  0.00304927 0.004832   0.00076368 0.00165734]]\n"
     ]
    },
    {
     "data": {
      "text/plain": [
       "array([0.89230793, 0.03017644, 0.0535565 , 0.00755762, 0.01640151])"
      ]
     },
     "execution_count": 13,
     "metadata": {},
     "output_type": "execute_result"
    }
   ],
   "source": [
    "ynext_from_C = C.sum(axis=-1).sum(axis=-2)\n",
    "print(ynext_from_C)\n",
    "ynext_from_C /= ynext_from_C.sum()\n",
    "ynext_from_C.sum(axis=0)"
   ]
  },
  {
   "cell_type": "code",
   "execution_count": 14,
   "metadata": {},
   "outputs": [
    {
     "data": {
      "text/plain": [
       "0.5752426884313783"
      ]
     },
     "execution_count": 14,
     "metadata": {},
     "output_type": "execute_result"
    }
   ],
   "source": [
    "ynext = vc.linalg.convert_4d_matrix_to_2d_block(K).dot(y.flatten())\n",
    "ynext.sum()"
   ]
  },
  {
   "cell_type": "code",
   "execution_count": 15,
   "metadata": {},
   "outputs": [
    {
     "data": {
      "text/plain": [
       "0.5752426884313784"
      ]
     },
     "execution_count": 15,
     "metadata": {},
     "output_type": "execute_result"
    }
   ],
   "source": [
    "C.sum()"
   ]
  },
  {
   "cell_type": "code",
   "execution_count": 16,
   "metadata": {},
   "outputs": [
    {
     "data": {
      "text/plain": [
       "0.5480582320692857"
      ]
     },
     "execution_count": 16,
     "metadata": {},
     "output_type": "execute_result"
    }
   ],
   "source": [
    "Chom.sum()"
   ]
  },
  {
   "cell_type": "code",
   "execution_count": 17,
   "metadata": {},
   "outputs": [
    {
     "name": "stdout",
     "output_type": "stream",
     "text": [
      "[0.85583015 0.14416985]\n",
      "[0.85583015 0.14416985]\n"
     ]
    }
   ],
   "source": [
    "Khom = get_homogeneous_next_generation_matrix('alpha',[1.,4.])\n",
    "Chom = get_homogeneous_contribution_matrix('alpha',[1.,4.])\n",
    "yhom = get_homogeneous_eigenvector('alpha')\n",
    "print(Khom.dot(yhom)/Khom.dot(yhom).sum())\n",
    "print(yhom)"
   ]
  },
  {
   "cell_type": "code",
   "execution_count": 18,
   "metadata": {},
   "outputs": [
    {
     "data": {
      "text/plain": [
       "array([[0.35084183, 0.11820293],\n",
       "       [0.05910146, 0.01991201]])"
      ]
     },
     "execution_count": 18,
     "metadata": {},
     "output_type": "execute_result"
    }
   ],
   "source": [
    "Khom.dot(np.diag(yhom))"
   ]
  },
  {
   "cell_type": "code",
   "execution_count": 19,
   "metadata": {},
   "outputs": [
    {
     "data": {
      "text/plain": [
       "array([[0.35084183, 0.11820293],\n",
       "       [0.05910146, 0.01991201]])"
      ]
     },
     "execution_count": 19,
     "metadata": {},
     "output_type": "execute_result"
    }
   ],
   "source": [
    "Chom"
   ]
  },
  {
   "cell_type": "code",
   "execution_count": 20,
   "metadata": {},
   "outputs": [],
   "source": [
    "R, y = vc.linalg.get_spectral_radius_and_eigenvector(Khom)"
   ]
  },
  {
   "cell_type": "code",
   "execution_count": 21,
   "metadata": {},
   "outputs": [
    {
     "data": {
      "text/plain": [
       "0.5480582320692857"
      ]
     },
     "execution_count": 21,
     "metadata": {},
     "output_type": "execute_result"
    }
   ],
   "source": [
    "R"
   ]
  },
  {
   "cell_type": "code",
   "execution_count": 22,
   "metadata": {},
   "outputs": [
    {
     "data": {
      "text/plain": [
       "array([0.85583015, 0.14416985])"
      ]
     },
     "execution_count": 22,
     "metadata": {},
     "output_type": "execute_result"
    }
   ],
   "source": [
    "y"
   ]
  },
  {
   "cell_type": "code",
   "execution_count": 23,
   "metadata": {},
   "outputs": [
    {
     "data": {
      "text/plain": [
       "array([0.85583015, 0.14416985])"
      ]
     },
     "execution_count": 23,
     "metadata": {},
     "output_type": "execute_result"
    }
   ],
   "source": [
    "yhom"
   ]
  },
  {
   "cell_type": "code",
   "execution_count": 24,
   "metadata": {},
   "outputs": [
    {
     "data": {
      "text/plain": [
       "0.5480582320692857"
      ]
     },
     "execution_count": 24,
     "metadata": {},
     "output_type": "execute_result"
    }
   ],
   "source": [
    "Chom.sum()"
   ]
  },
  {
   "cell_type": "code",
   "execution_count": null,
   "metadata": {},
   "outputs": [],
   "source": []
  }
 ],
 "metadata": {
  "kernelspec": {
   "display_name": "Python 3",
   "language": "python",
   "name": "python3"
  },
  "language_info": {
   "codemirror_mode": {
    "name": "ipython",
    "version": 3
   },
   "file_extension": ".py",
   "mimetype": "text/x-python",
   "name": "python",
   "nbconvert_exporter": "python",
   "pygments_lexer": "ipython3",
   "version": "3.8.9"
  }
 },
 "nbformat": 4,
 "nbformat_minor": 4
}
