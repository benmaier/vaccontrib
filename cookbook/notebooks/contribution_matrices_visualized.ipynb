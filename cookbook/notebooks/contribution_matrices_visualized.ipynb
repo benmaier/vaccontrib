{
 "cells": [
  {
   "cell_type": "code",
   "execution_count": 1,
   "metadata": {},
   "outputs": [],
   "source": [
    "import vaccontrib as vc\n",
    "from vaccontrib.linalg import convert_2d_block_to_4d_matrix, convert_4d_matrix_to_2d_block\n",
    "import numpy as np\n",
    "from numpyarray_to_latex.jupyter import to_jup\n",
    "from IPython.display import display, Math\n",
    "import bfmplot as bp\n",
    "import matplotlib.pyplot as pl\n",
    "%matplotlib widget"
   ]
  },
  {
   "cell_type": "code",
   "execution_count": 2,
   "metadata": {},
   "outputs": [],
   "source": [
    "%matplotlib widget"
   ]
  },
  {
   "cell_type": "code",
   "execution_count": 3,
   "metadata": {},
   "outputs": [],
   "source": [
    "def plot_reduced_contribution_matrix_and_Reff(\n",
    "        C_red,\n",
    "        subscript='',\n",
    "        superscript='',\n",
    "    ):\n",
    "    if not subscript.startswith('_'):\n",
    "        if not subscript == '':\n",
    "            subscript = '_{'+subscript+'}'\n",
    "    if not superscript.startswith('^'):\n",
    "        if not subscript == '':\n",
    "            superscript = '^{'+superscript+'}'\n",
    "    to_jup(C_red,prefix='C'+superscript+subscript+'=')\n",
    "    R_eff = (C_red.sum(axis=0))\n",
    "    to_jup(R_eff,prefix='R'+superscript+subscript+'=',is_row_vector=False)\n",
    "    \n",
    "\n",
    "\n",
    "def plot_reduced_contribution_matrix_and_Reff_for_all_R_combinations(\n",
    "        variant,\n",
    "        base_R0,\n",
    "        subscript='',\n",
    "        superscript='',\n",
    "        is_homogeneous=False,\n",
    "        V=5,\n",
    "    ):\n",
    "    \n",
    "    for unvacc_R in [base_R0,1.,0.]:\n",
    "        display('# ================')\n",
    "        display(\"# R0_unvacc = \"+ str(unvacc_R))\n",
    "        for is_homogeneous in [False, True]:\n",
    "            R0 = [unvacc_R] + (V-1) * [base_R0]\n",
    "            this_subscript = str(subscript)\n",
    "            if is_homogeneous:\n",
    "                C = vc.covid.get_homogeneous_contribution_matrix_covid(R0,variant)\n",
    "                if not this_subscript == '':\n",
    "                    this_subscript = this_subscript + ','\n",
    "                this_subscript += '\\mathrm{hom}'\n",
    "            else:\n",
    "                C = vc.covid.get_reduced_vaccinated_susceptible_contribution_matrix_covid(R0,variant)\n",
    "            print_reduced_contribution_matrix_and_Reff(C,this_subscript,superscript)\n",
    "        "
   ]
  },
  {
   "cell_type": "code",
   "execution_count": 5,
   "metadata": {},
   "outputs": [],
   "source": [
    "#print_reduced_contribution_matrix_and_Reff_for_all_R_combinations(\n",
    "#    variant='delta',\n",
    "#    base_R0=6.,\n",
    "#    subscript=r'\\delta'\n",
    "#)"
   ]
  },
  {
   "cell_type": "code",
   "execution_count": 7,
   "metadata": {},
   "outputs": [],
   "source": [
    "#print_reduced_contribution_matrix_and_Reff_for_all_R_combinations(\n",
    "#    variant='alpha',\n",
    "#    base_R0=4.,\n",
    "#    subscript=r'\\alpha'\n",
    "#)"
   ]
  },
  {
   "cell_type": "code",
   "execution_count": 8,
   "metadata": {},
   "outputs": [
    {
     "data": {
      "text/latex": [
       "$\\displaystyle \\left(\n",
       "\\begin{array}{}\n",
       "    0.76 &    0.24\n",
       "\\end{array}\n",
       "\\right)$"
      ],
      "text/plain": [
       "<IPython.core.display.Math object>"
      ]
     },
     "metadata": {},
     "output_type": "display_data"
    },
    {
     "data": {
      "application/vnd.jupyter.widget-view+json": {
       "model_id": "15341ff734dc41de9312ee27814c600f",
       "version_major": 2,
       "version_minor": 0
      },
      "text/plain": [
       "Canvas(toolbar=Toolbar(toolitems=[('Home', 'Reset original view', 'home', 'home'), ('Back', 'Back to previous …"
      ]
     },
     "metadata": {},
     "output_type": "display_data"
    },
    {
     "data": {
      "application/vnd.jupyter.widget-view+json": {
       "model_id": "4a6ac1910f6740fbbbcc3e7db9396a86",
       "version_major": 2,
       "version_minor": 0
      },
      "text/plain": [
       "Canvas(toolbar=Toolbar(toolitems=[('Home', 'Reset original view', 'home', 'home'), ('Back', 'Back to previous …"
      ]
     },
     "metadata": {},
     "output_type": "display_data"
    },
    {
     "data": {
      "application/vnd.jupyter.widget-view+json": {
       "model_id": "0de39e297f8547d1a1775c07dc08451a",
       "version_major": 2,
       "version_minor": 0
      },
      "text/plain": [
       "Canvas(toolbar=Toolbar(toolitems=[('Home', 'Reset original view', 'home', 'home'), ('Back', 'Back to previous …"
      ]
     },
     "metadata": {},
     "output_type": "display_data"
    },
    {
     "data": {
      "application/vnd.jupyter.widget-view+json": {
       "model_id": "788882f569cb41a083cd45dce750f1cd",
       "version_major": 2,
       "version_minor": 0
      },
      "text/plain": [
       "Canvas(toolbar=Toolbar(toolitems=[('Home', 'Reset original view', 'home', 'home'), ('Back', 'Back to previous …"
      ]
     },
     "metadata": {},
     "output_type": "display_data"
    }
   ],
   "source": [
    "from vaccontrib.plot import plot_reduced_contribution_matrix, plot_reduced_contribution_matrix_stacked\n",
    "Chom = vc.covid.get_homogeneous_contribution_matrix_covid([1.,6.],'delta')\n",
    "C = vc.covid.get_reduced_vaccinated_susceptible_contribution_matrix_covid([1.,6,6,6,6],variant='delta')\n",
    "K = vc.covid.get_next_generation_matrix_covid([1.,6,6,6,6],variant='delta')\n",
    "y = vc.get_eigenvector(K)\n",
    "y = y.sum(axis=0)\n",
    "y = np.array([y[0],y[1:].sum()])\n",
    "to_jup(y)\n",
    "#C = get_homogeneous_contribution_matrix('alpha',[4.,4.])\n",
    "#print(C)\n",
    "#C = np.arange(9).reshape(3,3)[::-1,:]\n",
    "\n",
    "ax = plot_reduced_contribution_matrix(Chom,0.6)\n",
    "ax = plot_reduced_contribution_matrix_stacked(Chom)\n",
    "ax = plot_reduced_contribution_matrix(C,0.6)\n",
    "ax = plot_reduced_contribution_matrix_stacked(C)"
   ]
  },
  {
   "cell_type": "code",
   "execution_count": 9,
   "metadata": {},
   "outputs": [
    {
     "data": {
      "application/vnd.jupyter.widget-view+json": {
       "model_id": "fb038a7412f34979b4d39dc2eb35dc4c",
       "version_major": 2,
       "version_minor": 0
      },
      "text/plain": [
       "Canvas(toolbar=Toolbar(toolitems=[('Home', 'Reset original view', 'home', 'home'), ('Back', 'Back to previous …"
      ]
     },
     "metadata": {},
     "output_type": "display_data"
    },
    {
     "data": {
      "application/vnd.jupyter.widget-view+json": {
       "model_id": "5efd30f9160d4b98bb548c12d6efc000",
       "version_major": 2,
       "version_minor": 0
      },
      "text/plain": [
       "Canvas(toolbar=Toolbar(toolitems=[('Home', 'Reset original view', 'home', 'home'), ('Back', 'Back to previous …"
      ]
     },
     "metadata": {},
     "output_type": "display_data"
    },
    {
     "data": {
      "application/vnd.jupyter.widget-view+json": {
       "model_id": "4996fcfe322e48cab693667a68c08da8",
       "version_major": 2,
       "version_minor": 0
      },
      "text/plain": [
       "Canvas(toolbar=Toolbar(toolitems=[('Home', 'Reset original view', 'home', 'home'), ('Back', 'Back to previous …"
      ]
     },
     "metadata": {},
     "output_type": "display_data"
    },
    {
     "data": {
      "application/vnd.jupyter.widget-view+json": {
       "model_id": "bcd0b90c0b2e48039bf268628a0c8900",
       "version_major": 2,
       "version_minor": 0
      },
      "text/plain": [
       "Canvas(toolbar=Toolbar(toolitems=[('Home', 'Reset original view', 'home', 'home'), ('Back', 'Back to previous …"
      ]
     },
     "metadata": {},
     "output_type": "display_data"
    }
   ],
   "source": [
    "\n",
    "Chom = vc.covid.get_homogeneous_contribution_matrix_covid([4.,4.],'alpha')\n",
    "C = vc.covid.get_reduced_vaccinated_susceptible_contribution_matrix_covid([4.,4,4,4,4],variant='alpha')\n",
    "#C = get_homogeneous_contribution_matrix('alpha',[4.,4.])\n",
    "#print(C)\n",
    "#C = np.arange(9).reshape(3,3)[::-1,:]\n",
    "\n",
    "ax = plot_reduced_contribution_matrix(Chom,0.6)\n",
    "ax = plot_reduced_contribution_matrix_stacked(Chom)\n",
    "ax = plot_reduced_contribution_matrix(C,0.6)\n",
    "ax = plot_reduced_contribution_matrix_stacked(C)"
   ]
  },
  {
   "cell_type": "code",
   "execution_count": 18,
   "metadata": {},
   "outputs": [
    {
     "data": {
      "application/vnd.jupyter.widget-view+json": {
       "model_id": "ff4ecffb3ade4de08dab5379c8a8b38c",
       "version_major": 2,
       "version_minor": 0
      },
      "text/plain": [
       "Canvas(toolbar=Toolbar(toolitems=[('Home', 'Reset original view', 'home', 'home'), ('Back', 'Back to previous …"
      ]
     },
     "metadata": {},
     "output_type": "display_data"
    },
    {
     "data": {
      "application/vnd.jupyter.widget-view+json": {
       "model_id": "a174338598d04e7f825ad30e92a15539",
       "version_major": 2,
       "version_minor": 0
      },
      "text/plain": [
       "Canvas(toolbar=Toolbar(toolitems=[('Home', 'Reset original view', 'home', 'home'), ('Back', 'Back to previous …"
      ]
     },
     "metadata": {},
     "output_type": "display_data"
    }
   ],
   "source": [
    "from vaccontrib.illustration import get_circular_vector_and_matrix_presentation\n",
    "\n",
    "Chom = vc.covid.get_homogeneous_contribution_matrix_covid([1.,6.],'delta',)\n",
    "C = vc.covid.get_reduced_vaccinated_susceptible_contribution_matrix_covid([1.,6,6,6,6],variant='delta')\n",
    "K = vc.covid.get_next_generation_matrix_covid([1.,6,6,6,6],variant='delta')\n",
    "y = vc.get_eigenvector(K)\n",
    "y = y.sum(axis=0)\n",
    "y = np.array([y[0],y[1:].sum()])\n",
    "#C = get_homogeneous_contribution_matrix('alpha',[4.,4.])\n",
    "#print(C)\n",
    "#C = np.arange(9).reshape(3,3)[::-1,:]\n",
    "yhom = vc.covid.get_homogeneous_eigenvector_covid(variant='delta')\n",
    "pres = get_circular_vector_and_matrix_presentation(yhom, Chom)\n",
    "ax = pres.plot()\n",
    "pres.add_arrows_to_plot()\n",
    "ax.set_ylim(-7,1.5)\n",
    "ax.axis('off')\n",
    "\n",
    "pres = get_circular_vector_and_matrix_presentation(y, C)\n",
    "ax = pres.plot()\n",
    "pres.add_arrows_to_plot()\n",
    "ax.set_ylim(-7,1.5)\n",
    "ax.axis('off')\n",
    "\n",
    "ax.get_figure().savefig('delta_example_no_lockdown.pdf')\n",
    "#ax = plot_reduced_contribution_matrix_stacked(Chom)\n",
    "#ax = plot_reduced_contribution_matrix(C,0.6)\n",
    "#ax = plot_reduced_contribution_matrix_stacked(C)"
   ]
  },
  {
   "cell_type": "code",
   "execution_count": 11,
   "metadata": {},
   "outputs": [
    {
     "data": {
      "application/vnd.jupyter.widget-view+json": {
       "model_id": "bc58947752664940b04726742eb38d43",
       "version_major": 2,
       "version_minor": 0
      },
      "text/plain": [
       "Canvas(toolbar=Toolbar(toolitems=[('Home', 'Reset original view', 'home', 'home'), ('Back', 'Back to previous …"
      ]
     },
     "metadata": {},
     "output_type": "display_data"
    },
    {
     "data": {
      "application/vnd.jupyter.widget-view+json": {
       "model_id": "f2a88c0ff4064ab0a2dd83482af5d4eb",
       "version_major": 2,
       "version_minor": 0
      },
      "text/plain": [
       "Canvas(toolbar=Toolbar(toolitems=[('Home', 'Reset original view', 'home', 'home'), ('Back', 'Back to previous …"
      ]
     },
     "metadata": {},
     "output_type": "display_data"
    },
    {
     "data": {
      "text/plain": [
       "(-1.3199999999999998, 1.3199999999999998, -7.0, 1.5)"
      ]
     },
     "execution_count": 11,
     "metadata": {},
     "output_type": "execute_result"
    }
   ],
   "source": [
    "from vaccontrib.illustration import get_circular_vector_and_matrix_presentation\n",
    "\n",
    "Chom = vc.covid.get_homogeneous_contribution_matrix_covid([4.,4.],'alpha')\n",
    "Cred = vc.covid.get_reduced_vaccinated_susceptible_contribution_matrix_covid([1.,4,4,4,4],variant='alpha')\n",
    "C = vc.covid.get_contribution_matrix_covid([4.,4,4,4,4],variant='alpha')\n",
    "K = vc.covid.get_next_generation_matrix_covid([4.,4,4,4,4],variant='alpha')\n",
    "y = vc.get_eigenvector(K)\n",
    "yred = y.sum(axis=0)\n",
    "yred = np.array([yred[0],yred[1:].sum()])\n",
    "#C = get_homogeneous_contribution_matrix('alpha',[4.,4.])\n",
    "#print(C)\n",
    "#C = np.arange(9).reshape(3,3)[::-1,:]\n",
    "yhom = vc.covid.get_homogeneous_eigenvector_covid(variant='alpha')\n",
    "\n",
    "pres = get_circular_vector_and_matrix_presentation(yhom, Chom)\n",
    "ax = pres.plot()\n",
    "pres.add_arrows_to_plot()\n",
    "ax.set_ylim(-7,1.5)\n",
    "ax.axis('off')\n",
    "\n",
    "pres = get_circular_vector_and_matrix_presentation(yred, Cred)\n",
    "ax = pres.plot()\n",
    "pres.add_arrows_to_plot()\n",
    "ax.set_ylim(-7,1.5)\n",
    "ax.axis('off')\n",
    "\n",
    "#ax = plot_reduced_contribution_matrix_stacked(Chom)\n",
    "#ax = plot_reduced_contribution_matrix(C,0.6)\n",
    "#ax = plot_reduced_contribution_matrix_stacked(C)"
   ]
  },
  {
   "cell_type": "code",
   "execution_count": null,
   "metadata": {},
   "outputs": [],
   "source": [
    "to_jup(Cred.sum(axis=1)/Cred.sum())\n",
    "to_jup(yred/yred.sum())\n",
    "to_jup(Chom.sum(axis=1)/Chom.sum())\n",
    "to_jup(yhom/yhom.sum())\n"
   ]
  },
  {
   "cell_type": "code",
   "execution_count": null,
   "metadata": {},
   "outputs": [],
   "source": [
    "C.sum()"
   ]
  },
  {
   "cell_type": "code",
   "execution_count": null,
   "metadata": {},
   "outputs": [],
   "source": [
    "ynext = vc.linalg.convert_4d_matrix_to_2d_block(K).dot(y.flatten())\n",
    "ynext /= ynext.sum()\n",
    "ynext.reshape(4,5).sum(axis=0)"
   ]
  },
  {
   "cell_type": "code",
   "execution_count": null,
   "metadata": {},
   "outputs": [],
   "source": [
    "y.sum(axis=0)"
   ]
  },
  {
   "cell_type": "code",
   "execution_count": null,
   "metadata": {},
   "outputs": [],
   "source": [
    "ynext_from_C = C.sum(axis=-1).sum(axis=-2)\n",
    "print(ynext_from_C)\n",
    "ynext_from_C /= ynext_from_C.sum()\n",
    "ynext_from_C.sum(axis=0)"
   ]
  },
  {
   "cell_type": "code",
   "execution_count": null,
   "metadata": {},
   "outputs": [],
   "source": [
    "ynext = vc.linalg.convert_4d_matrix_to_2d_block(K).dot(y.flatten())\n",
    "ynext.sum()"
   ]
  },
  {
   "cell_type": "code",
   "execution_count": null,
   "metadata": {},
   "outputs": [],
   "source": [
    "C.sum()"
   ]
  },
  {
   "cell_type": "code",
   "execution_count": null,
   "metadata": {},
   "outputs": [],
   "source": [
    "Chom.sum()"
   ]
  },
  {
   "cell_type": "code",
   "execution_count": null,
   "metadata": {},
   "outputs": [],
   "source": [
    "Khom = vc.covid.get_homogeneous_next_generation_matrix_covid([1.,4.],'alpha')\n",
    "Chom = vc.covid.get_homogeneous_contribution_matrix_covid([1.,4.],'alpha')\n",
    "yhom = vc.covid.get_homogeneous_eigenvector_covid('alpha')\n",
    "print(Khom.dot(yhom)/Khom.dot(yhom).sum())\n",
    "print(yhom)\n",
    "print(Chom.sum(axis=1)/Chom.sum())"
   ]
  },
  {
   "cell_type": "code",
   "execution_count": null,
   "metadata": {},
   "outputs": [],
   "source": [
    "Khom.dot(np.diag(yhom))"
   ]
  },
  {
   "cell_type": "code",
   "execution_count": null,
   "metadata": {},
   "outputs": [],
   "source": [
    "Chom"
   ]
  },
  {
   "cell_type": "code",
   "execution_count": null,
   "metadata": {},
   "outputs": [],
   "source": [
    "R, y = vc.linalg.get_spectral_radius_and_eigenvector(Khom)"
   ]
  },
  {
   "cell_type": "code",
   "execution_count": null,
   "metadata": {},
   "outputs": [],
   "source": [
    "R"
   ]
  },
  {
   "cell_type": "code",
   "execution_count": null,
   "metadata": {},
   "outputs": [],
   "source": [
    "y"
   ]
  },
  {
   "cell_type": "code",
   "execution_count": null,
   "metadata": {},
   "outputs": [],
   "source": [
    "yhom"
   ]
  },
  {
   "cell_type": "code",
   "execution_count": null,
   "metadata": {},
   "outputs": [],
   "source": [
    "Chom.sum()"
   ]
  },
  {
   "cell_type": "code",
   "execution_count": null,
   "metadata": {},
   "outputs": [],
   "source": []
  }
 ],
 "metadata": {
  "kernelspec": {
   "display_name": "Python 3",
   "language": "python",
   "name": "python3"
  },
  "language_info": {
   "codemirror_mode": {
    "name": "ipython",
    "version": 3
   },
   "file_extension": ".py",
   "mimetype": "text/x-python",
   "name": "python",
   "nbconvert_exporter": "python",
   "pygments_lexer": "ipython3",
   "version": "3.8.9"
  }
 },
 "nbformat": 4,
 "nbformat_minor": 4
}
