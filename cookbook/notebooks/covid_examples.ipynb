{
 "cells": [
  {
   "cell_type": "code",
   "execution_count": 1,
   "metadata": {},
   "outputs": [],
   "source": [
    "import vaccontrib as vc\n",
    "from vaccontrib.linalg import convert_2d_block_to_4d_matrix, convert_4d_matrix_to_2d_block\n",
    "import numpy as np\n",
    "from numpyarray_to_latex.jupyter import to_jup\n",
    "from numpyarray_to_latex import to_ltx\n",
    "import matplotlib.pyplot as pl"
   ]
  },
  {
   "cell_type": "markdown",
   "metadata": {},
   "source": [
    "## Get matrices\n"
   ]
  },
  {
   "cell_type": "code",
   "execution_count": 2,
   "metadata": {},
   "outputs": [],
   "source": [
    "variant = 'delta'\n",
    "matrices = vc.covid.get_covid_matrices(variant=variant)"
   ]
  },
  {
   "cell_type": "code",
   "execution_count": 3,
   "metadata": {},
   "outputs": [
    {
     "data": {
      "text/plain": [
       "{'gamma': array([[2.8394495, 0.5205262, 3.235192 , 0.6269835],\n",
       "        [0.8907488, 4.4044118, 4.745159 , 0.4811966],\n",
       "        [0.635782 , 0.544937 , 6.430791 , 1.0125184],\n",
       "        [0.2825591, 0.1267252, 2.321924 , 2.1267606]]),\n",
       " 'S': array([[ 9137232.       ,        0.       ,        0.       ,\n",
       "                0.       ,        0.       ],\n",
       "        [ 4239576.498    ,        0.       ,  1099940.502    ,\n",
       "                0.       ,        0.       ],\n",
       "        [16645218.234    ,  3858087.2660055, 20633677.5444975,\n",
       "          3261091.1706855,  2096948.7848115],\n",
       "        [ 3284554.698    ,  2196018.8035335, 11744665.3612575,\n",
       "          1856209.3174935,  1193580.8197155]]),\n",
       " 'N': array([ 9137232.,  5339517., 46495023., 20275029.]),\n",
       " 's': array([[0.  , 0.6 , 0.79, 0.79, 0.6 ],\n",
       "        [0.  , 0.6 , 0.79, 0.79, 0.6 ],\n",
       "        [0.  , 0.6 , 0.79, 0.79, 0.6 ],\n",
       "        [0.  , 0.6 , 0.79, 0.79, 0.6 ]]),\n",
       " 'r': array([[0., 0., 0., 0., 0.],\n",
       "        [0., 0., 0., 0., 0.],\n",
       "        [0., 0., 0., 0., 0.],\n",
       "        [0., 0., 0., 0., 0.]]),\n",
       " 'a': array([[0.5, 0.5, 0.5, 0.5, 0.5],\n",
       "        [1. , 1. , 1. , 1. , 1. ],\n",
       "        [1. , 1. , 1. , 1. , 1. ],\n",
       "        [1. , 1. , 1. , 1. , 1. ]]),\n",
       " 'b': array([[1. , 1.5, 1.5, 1.5, 1.5],\n",
       "        [1. , 1.5, 1.5, 1.5, 1.5],\n",
       "        [1. , 1.5, 1.5, 1.5, 1.5],\n",
       "        [1. , 1.5, 1.5, 1.5, 1.5]])}"
      ]
     },
     "execution_count": 3,
     "metadata": {},
     "output_type": "execute_result"
    }
   ],
   "source": [
    "matrices"
   ]
  },
  {
   "cell_type": "code",
   "execution_count": 4,
   "metadata": {},
   "outputs": [],
   "source": [
    "M, V = matrices['S'].shape"
   ]
  },
  {
   "cell_type": "code",
   "execution_count": 5,
   "metadata": {},
   "outputs": [
    {
     "data": {
      "text/latex": [
       "$\\displaystyle C=\\left(\n",
       "\\begin{array}{ccccc|ccccc|ccccc|ccccc}\n",
       "    0.30 &    0.00 &    0.00 &    0.00 &    0.00 &    0.28 &    0.00 &    0.01 &    0.00 &    0.00 &    0.29 &    0.02 &    0.05 &    0.01 &    0.01 &    0.01 &    0.00 &    0.00 &    0.00 &    0.00\\\\\n",
       "    0.00 &    0.00 &    0.00 &    0.00 &    0.00 &    0.00 &    0.00 &    0.00 &    0.00 &    0.00 &    0.00 &    0.00 &    0.00 &    0.00 &    0.00 &    0.00 &    0.00 &    0.00 &    0.00 &    0.00\\\\\n",
       "    0.00 &    0.00 &    0.00 &    0.00 &    0.00 &    0.00 &    0.00 &    0.00 &    0.00 &    0.00 &    0.00 &    0.00 &    0.00 &    0.00 &    0.00 &    0.00 &    0.00 &    0.00 &    0.00 &    0.00\\\\\n",
       "    0.00 &    0.00 &    0.00 &    0.00 &    0.00 &    0.00 &    0.00 &    0.00 &    0.00 &    0.00 &    0.00 &    0.00 &    0.00 &    0.00 &    0.00 &    0.00 &    0.00 &    0.00 &    0.00 &    0.00\\\\\n",
       "    0.00 &    0.00 &    0.00 &    0.00 &    0.00 &    0.00 &    0.00 &    0.00 &    0.00 &    0.00 &    0.00 &    0.00 &    0.00 &    0.00 &    0.00 &    0.00 &    0.00 &    0.00 &    0.00 &    0.00\\\\\n",
       "  \\hline\n",
       "    0.04 &    0.00 &    0.00 &    0.00 &    0.00 &    1.09 &    0.00 &    0.04 &    0.00 &    0.00 &    0.19 &    0.01 &    0.03 &    0.01 &    0.01 &    0.00 &    0.00 &    0.00 &    0.00 &    0.00\\\\\n",
       "    0.00 &    0.00 &    0.00 &    0.00 &    0.00 &    0.00 &    0.00 &    0.00 &    0.00 &    0.00 &    0.00 &    0.00 &    0.00 &    0.00 &    0.00 &    0.00 &    0.00 &    0.00 &    0.00 &    0.00\\\\\n",
       "    0.00 &    0.00 &    0.00 &    0.00 &    0.00 &    0.06 &    0.00 &    0.00 &    0.00 &    0.00 &    0.01 &    0.00 &    0.00 &    0.00 &    0.00 &    0.00 &    0.00 &    0.00 &    0.00 &    0.00\\\\\n",
       "    0.00 &    0.00 &    0.00 &    0.00 &    0.00 &    0.00 &    0.00 &    0.00 &    0.00 &    0.00 &    0.00 &    0.00 &    0.00 &    0.00 &    0.00 &    0.00 &    0.00 &    0.00 &    0.00 &    0.00\\\\\n",
       "    0.00 &    0.00 &    0.00 &    0.00 &    0.00 &    0.00 &    0.00 &    0.00 &    0.00 &    0.00 &    0.00 &    0.00 &    0.00 &    0.00 &    0.00 &    0.00 &    0.00 &    0.00 &    0.00 &    0.00\\\\\n",
       "  \\hline\n",
       "    0.12 &    0.00 &    0.00 &    0.00 &    0.00 &    0.53 &    0.00 &    0.02 &    0.00 &    0.00 &    1.03 &    0.06 &    0.18 &    0.03 &    0.03 &    0.03 &    0.00 &    0.01 &    0.00 &    0.00\\\\\n",
       "    0.01 &    0.00 &    0.00 &    0.00 &    0.00 &    0.05 &    0.00 &    0.00 &    0.00 &    0.00 &    0.10 &    0.01 &    0.02 &    0.00 &    0.00 &    0.00 &    0.00 &    0.00 &    0.00 &    0.00\\\\\n",
       "    0.03 &    0.00 &    0.00 &    0.00 &    0.00 &    0.14 &    0.00 &    0.00 &    0.00 &    0.00 &    0.27 &    0.02 &    0.05 &    0.01 &    0.01 &    0.01 &    0.00 &    0.00 &    0.00 &    0.00\\\\\n",
       "    0.01 &    0.00 &    0.00 &    0.00 &    0.00 &    0.02 &    0.00 &    0.00 &    0.00 &    0.00 &    0.04 &    0.00 &    0.01 &    0.00 &    0.00 &    0.00 &    0.00 &    0.00 &    0.00 &    0.00\\\\\n",
       "    0.01 &    0.00 &    0.00 &    0.00 &    0.00 &    0.03 &    0.00 &    0.00 &    0.00 &    0.00 &    0.05 &    0.00 &    0.01 &    0.00 &    0.00 &    0.00 &    0.00 &    0.00 &    0.00 &    0.00\\\\\n",
       "  \\hline\n",
       "    0.01 &    0.00 &    0.00 &    0.00 &    0.00 &    0.02 &    0.00 &    0.00 &    0.00 &    0.00 &    0.07 &    0.00 &    0.01 &    0.00 &    0.00 &    0.01 &    0.00 &    0.01 &    0.00 &    0.00\\\\\n",
       "    0.00 &    0.00 &    0.00 &    0.00 &    0.00 &    0.01 &    0.00 &    0.00 &    0.00 &    0.00 &    0.02 &    0.00 &    0.00 &    0.00 &    0.00 &    0.00 &    0.00 &    0.00 &    0.00 &    0.00\\\\\n",
       "    0.01 &    0.00 &    0.00 &    0.00 &    0.00 &    0.02 &    0.00 &    0.00 &    0.00 &    0.00 &    0.06 &    0.00 &    0.01 &    0.00 &    0.00 &    0.01 &    0.00 &    0.00 &    0.00 &    0.00\\\\\n",
       "    0.00 &    0.00 &    0.00 &    0.00 &    0.00 &    0.00 &    0.00 &    0.00 &    0.00 &    0.00 &    0.01 &    0.00 &    0.00 &    0.00 &    0.00 &    0.00 &    0.00 &    0.00 &    0.00 &    0.00\\\\\n",
       "    0.00 &    0.00 &    0.00 &    0.00 &    0.00 &    0.00 &    0.00 &    0.00 &    0.00 &    0.00 &    0.01 &    0.00 &    0.00 &    0.00 &    0.00 &    0.00 &    0.00 &    0.00 &    0.00 &    0.00\n",
       "\\end{array}\n",
       "\\right)$"
      ],
      "text/plain": [
       "<IPython.core.display.Math object>"
      ]
     },
     "metadata": {},
     "output_type": "display_data"
    }
   ],
   "source": [
    "base_R0 = 10.\n",
    "K = vc.covid.get_next_generation_matrix_covid(base_R0,variant=variant)\n",
    "C = vc.covid.get_contribution_matrix_covid(base_R0,variant=variant)\n",
    "to_jup(convert_4d_matrix_to_2d_block(C),prefix='C=',\n",
    "       separate_rows=np.arange(1,M)*V,\n",
    "       separate_columns=np.arange(1,M)*V,\n",
    "      )"
   ]
  },
  {
   "cell_type": "code",
   "execution_count": 6,
   "metadata": {},
   "outputs": [
    {
     "data": {
      "text/latex": [
       "$\\displaystyle C^{SV}=\\left(\n",
       "\\begin{array}{}\n",
       "    4.03 &    0.58\\\\\n",
       "    0.99 &    0.20\n",
       "\\end{array}\n",
       "\\right)$"
      ],
      "text/plain": [
       "<IPython.core.display.Math object>"
      ]
     },
     "metadata": {},
     "output_type": "display_data"
    },
    {
     "data": {
      "text/latex": [
       "$\\displaystyle R^{SV}=\\left(\n",
       "\\begin{array}{}\n",
       "    5.02\\\\\n",
       "    0.79\n",
       "\\end{array}\n",
       "\\right)$"
      ],
      "text/plain": [
       "<IPython.core.display.Math object>"
      ]
     },
     "metadata": {},
     "output_type": "display_data"
    }
   ],
   "source": [
    "\n",
    "C_red = vc.covid.get_reduced_vaccinated_susceptible_contribution_matrix_covid(base_R0,variant=variant)\n",
    "to_jup(C_red,prefix='C^{SV}=')\n",
    "R_eff = (C_red.sum(axis=0))\n",
    "to_jup(R_eff,prefix='R^{SV}=',is_row_vector=False)"
   ]
  },
  {
   "cell_type": "code",
   "execution_count": 7,
   "metadata": {},
   "outputs": [
    {
     "data": {
      "text/latex": [
       "$\\displaystyle C^{SV}=\\left(\n",
       "\\begin{array}{}\n",
       "    0.35 &    0.68\\\\\n",
       "    0.10 &    0.24\n",
       "\\end{array}\n",
       "\\right)$"
      ],
      "text/plain": [
       "<IPython.core.display.Math object>"
      ]
     },
     "metadata": {},
     "output_type": "display_data"
    }
   ],
   "source": [
    "R0 = [1.] + 4*[base_R0]\n",
    "C_red_lk = vc.covid.get_reduced_vaccinated_susceptible_contribution_matrix_covid(R0,variant=variant)\n",
    "to_jup(C_red_lk,prefix='C^{SV}=')"
   ]
  },
  {
   "cell_type": "code",
   "execution_count": 8,
   "metadata": {},
   "outputs": [
    {
     "data": {
      "text/latex": [
       "$\\displaystyle R^{SV}=\\left(\n",
       "\\begin{array}{}\n",
       "    0.44\\\\\n",
       "    0.92\n",
       "\\end{array}\n",
       "\\right)$"
      ],
      "text/plain": [
       "<IPython.core.display.Math object>"
      ]
     },
     "metadata": {},
     "output_type": "display_data"
    }
   ],
   "source": [
    "R_eff_lk = (C_red_lk.sum(axis=0))\n",
    "to_jup(R_eff_lk,prefix='R^{SV}=',is_row_vector=False)"
   ]
  },
  {
   "cell_type": "code",
   "execution_count": 9,
   "metadata": {},
   "outputs": [
    {
     "data": {
      "text/latex": [
       "$\\displaystyle C^{SV}=\\left(\n",
       "\\begin{array}{}\n",
       "    0.00 &    0.71\\\\\n",
       "    0.00 &    0.26\n",
       "\\end{array}\n",
       "\\right)$"
      ],
      "text/plain": [
       "<IPython.core.display.Math object>"
      ]
     },
     "metadata": {},
     "output_type": "display_data"
    }
   ],
   "source": [
    "R0 = [0.] + 4*[base_R0]\n",
    "C_red_lk100 = vc.covid.get_reduced_vaccinated_susceptible_contribution_matrix_covid(R0,variant=variant)\n",
    "to_jup(C_red_lk100,prefix='C^{SV}=')"
   ]
  },
  {
   "cell_type": "code",
   "execution_count": 10,
   "metadata": {},
   "outputs": [
    {
     "data": {
      "text/latex": [
       "$\\displaystyle R^{SV}=\\left(\n",
       "\\begin{array}{}\n",
       "    0.00\\\\\n",
       "    0.97\n",
       "\\end{array}\n",
       "\\right)$"
      ],
      "text/plain": [
       "<IPython.core.display.Math object>"
      ]
     },
     "metadata": {},
     "output_type": "display_data"
    }
   ],
   "source": [
    "R_eff_lk100 = (C_red_lk100.sum(axis=0))\n",
    "to_jup(R_eff_lk100,prefix='R^{SV}=',is_row_vector=False)"
   ]
  },
  {
   "cell_type": "code",
   "execution_count": 11,
   "metadata": {},
   "outputs": [],
   "source": [
    "variant = 'alpha'\n",
    "matrices = vc.covid.get_covid_matrices(variant=variant)"
   ]
  },
  {
   "cell_type": "code",
   "execution_count": 12,
   "metadata": {},
   "outputs": [
    {
     "data": {
      "text/plain": [
       "{'gamma': array([[2.8394495, 0.5205262, 3.235192 , 0.6269835],\n",
       "        [0.8907488, 4.4044118, 4.745159 , 0.4811966],\n",
       "        [0.635782 , 0.544937 , 6.430791 , 1.0125184],\n",
       "        [0.2825591, 0.1267252, 2.321924 , 2.1267606]]),\n",
       " 'S': array([[ 9137232.       ,        0.       ,        0.       ,\n",
       "                0.       ,        0.       ],\n",
       "        [ 4239576.498    ,        0.       ,  1099940.502    ,\n",
       "                0.       ,        0.       ],\n",
       "        [16645218.234    ,  3858087.2660055, 20633677.5444975,\n",
       "          3261091.1706855,  2096948.7848115],\n",
       "        [ 3284554.698    ,  2196018.8035335, 11744665.3612575,\n",
       "          1856209.3174935,  1193580.8197155]]),\n",
       " 'N': array([ 9137232.,  5339517., 46495023., 20275029.]),\n",
       " 's': array([[0.  , 0.73, 0.92, 0.92, 0.73],\n",
       "        [0.  , 0.73, 0.92, 0.92, 0.73],\n",
       "        [0.  , 0.73, 0.92, 0.92, 0.73],\n",
       "        [0.  , 0.73, 0.92, 0.92, 0.73]]),\n",
       " 'r': array([[0. , 0.5, 0.5, 0.5, 0.5],\n",
       "        [0. , 0.5, 0.5, 0.5, 0.5],\n",
       "        [0. , 0.5, 0.5, 0.5, 0.5],\n",
       "        [0. , 0.5, 0.5, 0.5, 0.5]]),\n",
       " 'a': array([[0.5, 0.5, 0.5, 0.5, 0.5],\n",
       "        [1. , 1. , 1. , 1. , 1. ],\n",
       "        [1. , 1. , 1. , 1. , 1. ],\n",
       "        [1. , 1. , 1. , 1. , 1. ]]),\n",
       " 'b': array([[1. , 1.5, 1.5, 1.5, 1.5],\n",
       "        [1. , 1.5, 1.5, 1.5, 1.5],\n",
       "        [1. , 1.5, 1.5, 1.5, 1.5],\n",
       "        [1. , 1.5, 1.5, 1.5, 1.5]])}"
      ]
     },
     "execution_count": 12,
     "metadata": {},
     "output_type": "execute_result"
    }
   ],
   "source": [
    "matrices"
   ]
  },
  {
   "cell_type": "code",
   "execution_count": 13,
   "metadata": {},
   "outputs": [],
   "source": [
    "M, V = matrices['S'].shape"
   ]
  },
  {
   "cell_type": "code",
   "execution_count": 14,
   "metadata": {},
   "outputs": [
    {
     "data": {
      "text/latex": [
       "$\\displaystyle C=\\left(\n",
       "\\begin{array}{ccccc|ccccc|ccccc|ccccc}\n",
       "    0.14 &    0.00 &    0.00 &    0.00 &    0.00 &    0.14 &    0.00 &    0.00 &    0.00 &    0.00 &    0.12 &    0.00 &    0.00 &    0.00 &    0.00 &    0.00 &    0.00 &    0.00 &    0.00 &    0.00\\\\\n",
       "    0.00 &    0.00 &    0.00 &    0.00 &    0.00 &    0.00 &    0.00 &    0.00 &    0.00 &    0.00 &    0.00 &    0.00 &    0.00 &    0.00 &    0.00 &    0.00 &    0.00 &    0.00 &    0.00 &    0.00\\\\\n",
       "    0.00 &    0.00 &    0.00 &    0.00 &    0.00 &    0.00 &    0.00 &    0.00 &    0.00 &    0.00 &    0.00 &    0.00 &    0.00 &    0.00 &    0.00 &    0.00 &    0.00 &    0.00 &    0.00 &    0.00\\\\\n",
       "    0.00 &    0.00 &    0.00 &    0.00 &    0.00 &    0.00 &    0.00 &    0.00 &    0.00 &    0.00 &    0.00 &    0.00 &    0.00 &    0.00 &    0.00 &    0.00 &    0.00 &    0.00 &    0.00 &    0.00\\\\\n",
       "    0.00 &    0.00 &    0.00 &    0.00 &    0.00 &    0.00 &    0.00 &    0.00 &    0.00 &    0.00 &    0.00 &    0.00 &    0.00 &    0.00 &    0.00 &    0.00 &    0.00 &    0.00 &    0.00 &    0.00\\\\\n",
       "  \\hline\n",
       "    0.02 &    0.00 &    0.00 &    0.00 &    0.00 &    0.54 &    0.00 &    0.00 &    0.00 &    0.00 &    0.08 &    0.00 &    0.00 &    0.00 &    0.00 &    0.00 &    0.00 &    0.00 &    0.00 &    0.00\\\\\n",
       "    0.00 &    0.00 &    0.00 &    0.00 &    0.00 &    0.00 &    0.00 &    0.00 &    0.00 &    0.00 &    0.00 &    0.00 &    0.00 &    0.00 &    0.00 &    0.00 &    0.00 &    0.00 &    0.00 &    0.00\\\\\n",
       "    0.00 &    0.00 &    0.00 &    0.00 &    0.00 &    0.01 &    0.00 &    0.00 &    0.00 &    0.00 &    0.00 &    0.00 &    0.00 &    0.00 &    0.00 &    0.00 &    0.00 &    0.00 &    0.00 &    0.00\\\\\n",
       "    0.00 &    0.00 &    0.00 &    0.00 &    0.00 &    0.00 &    0.00 &    0.00 &    0.00 &    0.00 &    0.00 &    0.00 &    0.00 &    0.00 &    0.00 &    0.00 &    0.00 &    0.00 &    0.00 &    0.00\\\\\n",
       "    0.00 &    0.00 &    0.00 &    0.00 &    0.00 &    0.00 &    0.00 &    0.00 &    0.00 &    0.00 &    0.00 &    0.00 &    0.00 &    0.00 &    0.00 &    0.00 &    0.00 &    0.00 &    0.00 &    0.00\\\\\n",
       "  \\hline\n",
       "    0.06 &    0.00 &    0.00 &    0.00 &    0.00 &    0.26 &    0.00 &    0.00 &    0.00 &    0.00 &    0.44 &    0.01 &    0.01 &    0.00 &    0.00 &    0.01 &    0.00 &    0.00 &    0.00 &    0.00\\\\\n",
       "    0.00 &    0.00 &    0.00 &    0.00 &    0.00 &    0.02 &    0.00 &    0.00 &    0.00 &    0.00 &    0.03 &    0.00 &    0.00 &    0.00 &    0.00 &    0.00 &    0.00 &    0.00 &    0.00 &    0.00\\\\\n",
       "    0.01 &    0.00 &    0.00 &    0.00 &    0.00 &    0.03 &    0.00 &    0.00 &    0.00 &    0.00 &    0.04 &    0.00 &    0.00 &    0.00 &    0.00 &    0.00 &    0.00 &    0.00 &    0.00 &    0.00\\\\\n",
       "    0.00 &    0.00 &    0.00 &    0.00 &    0.00 &    0.00 &    0.00 &    0.00 &    0.00 &    0.00 &    0.01 &    0.00 &    0.00 &    0.00 &    0.00 &    0.00 &    0.00 &    0.00 &    0.00 &    0.00\\\\\n",
       "    0.00 &    0.00 &    0.00 &    0.00 &    0.00 &    0.01 &    0.00 &    0.00 &    0.00 &    0.00 &    0.01 &    0.00 &    0.00 &    0.00 &    0.00 &    0.00 &    0.00 &    0.00 &    0.00 &    0.00\\\\\n",
       "  \\hline\n",
       "    0.00 &    0.00 &    0.00 &    0.00 &    0.00 &    0.01 &    0.00 &    0.00 &    0.00 &    0.00 &    0.03 &    0.00 &    0.00 &    0.00 &    0.00 &    0.00 &    0.00 &    0.00 &    0.00 &    0.00\\\\\n",
       "    0.00 &    0.00 &    0.00 &    0.00 &    0.00 &    0.00 &    0.00 &    0.00 &    0.00 &    0.00 &    0.01 &    0.00 &    0.00 &    0.00 &    0.00 &    0.00 &    0.00 &    0.00 &    0.00 &    0.00\\\\\n",
       "    0.00 &    0.00 &    0.00 &    0.00 &    0.00 &    0.00 &    0.00 &    0.00 &    0.00 &    0.00 &    0.01 &    0.00 &    0.00 &    0.00 &    0.00 &    0.00 &    0.00 &    0.00 &    0.00 &    0.00\\\\\n",
       "    0.00 &    0.00 &    0.00 &    0.00 &    0.00 &    0.00 &    0.00 &    0.00 &    0.00 &    0.00 &    0.00 &    0.00 &    0.00 &    0.00 &    0.00 &    0.00 &    0.00 &    0.00 &    0.00 &    0.00\\\\\n",
       "    0.00 &    0.00 &    0.00 &    0.00 &    0.00 &    0.00 &    0.00 &    0.00 &    0.00 &    0.00 &    0.00 &    0.00 &    0.00 &    0.00 &    0.00 &    0.00 &    0.00 &    0.00 &    0.00 &    0.00\n",
       "\\end{array}\n",
       "\\right)$"
      ],
      "text/plain": [
       "<IPython.core.display.Math object>"
      ]
     },
     "metadata": {},
     "output_type": "display_data"
    }
   ],
   "source": [
    "base_R0 = 4.\n",
    "K = vc.covid.get_next_generation_matrix_covid(base_R0,variant=variant)\n",
    "C = vc.covid.get_contribution_matrix_covid(base_R0,variant=variant)\n",
    "to_jup(convert_4d_matrix_to_2d_block(C),prefix='C=',\n",
    "       separate_rows=np.arange(1,M)*V,\n",
    "       separate_columns=np.arange(1,M)*V,\n",
    "      )"
   ]
  },
  {
   "cell_type": "code",
   "execution_count": 15,
   "metadata": {},
   "outputs": [
    {
     "data": {
      "text/latex": [
       "$\\displaystyle C^{SV}=\\left(\n",
       "\\begin{array}{}\n",
       "    1.86 &    0.06\\\\\n",
       "    0.21 &    0.01\n",
       "\\end{array}\n",
       "\\right)$"
      ],
      "text/plain": [
       "<IPython.core.display.Math object>"
      ]
     },
     "metadata": {},
     "output_type": "display_data"
    },
    {
     "data": {
      "text/latex": [
       "$\\displaystyle R^{SV}=\\left(\n",
       "\\begin{array}{}\n",
       "    2.07\\\\\n",
       "    0.07\n",
       "\\end{array}\n",
       "\\right)$"
      ],
      "text/plain": [
       "<IPython.core.display.Math object>"
      ]
     },
     "metadata": {},
     "output_type": "display_data"
    }
   ],
   "source": [
    "C_red = vc.covid.get_reduced_vaccinated_susceptible_contribution_matrix_covid(base_R0,variant=variant)\n",
    "to_jup(C_red,prefix='C^{SV}=')\n",
    "R_eff = (C_red.sum(axis=0))\n",
    "to_jup(R_eff,prefix='R^{SV}=',is_row_vector=False)"
   ]
  },
  {
   "cell_type": "code",
   "execution_count": 16,
   "metadata": {},
   "outputs": [
    {
     "data": {
      "text/latex": [
       "$\\displaystyle C^{SV}=\\left(\n",
       "\\begin{array}{}\n",
       "    0.45 &    0.06\\\\\n",
       "    0.05 &    0.01\n",
       "\\end{array}\n",
       "\\right)$"
      ],
      "text/plain": [
       "<IPython.core.display.Math object>"
      ]
     },
     "metadata": {},
     "output_type": "display_data"
    }
   ],
   "source": [
    "R0 = [1.] + 4*[base_R0]\n",
    "C_red_lk = vc.covid.get_reduced_vaccinated_susceptible_contribution_matrix_covid(R0,variant=variant)\n",
    "to_jup(C_red_lk,prefix='C^{SV}=')"
   ]
  },
  {
   "cell_type": "code",
   "execution_count": 17,
   "metadata": {},
   "outputs": [
    {
     "data": {
      "text/latex": [
       "$\\displaystyle R^{SV}=\\left(\n",
       "\\begin{array}{}\n",
       "    0.50\\\\\n",
       "    0.07\n",
       "\\end{array}\n",
       "\\right)$"
      ],
      "text/plain": [
       "<IPython.core.display.Math object>"
      ]
     },
     "metadata": {},
     "output_type": "display_data"
    }
   ],
   "source": [
    "R_eff_lk = (C_red_lk.sum(axis=0))\n",
    "to_jup(R_eff_lk,prefix='R^{SV}=',is_row_vector=False)"
   ]
  },
  {
   "cell_type": "code",
   "execution_count": 18,
   "metadata": {},
   "outputs": [
    {
     "data": {
      "text/latex": [
       "$\\displaystyle C^{SV}=\\left(\n",
       "\\begin{array}{}\n",
       "    0.00 &    0.08\\\\\n",
       "    0.00 &    0.01\n",
       "\\end{array}\n",
       "\\right)$"
      ],
      "text/plain": [
       "<IPython.core.display.Math object>"
      ]
     },
     "metadata": {},
     "output_type": "display_data"
    }
   ],
   "source": [
    "R0 = [0.] + 4*[base_R0]\n",
    "C_red_lk100 = vc.covid.get_reduced_vaccinated_susceptible_contribution_matrix_covid(R0,variant=variant)\n",
    "to_jup(C_red_lk100,prefix='C^{SV}=')"
   ]
  },
  {
   "cell_type": "code",
   "execution_count": 19,
   "metadata": {},
   "outputs": [
    {
     "data": {
      "text/latex": [
       "$\\displaystyle R^{SV}=\\left(\n",
       "\\begin{array}{}\n",
       "    0.00\\\\\n",
       "    0.09\n",
       "\\end{array}\n",
       "\\right)$"
      ],
      "text/plain": [
       "<IPython.core.display.Math object>"
      ]
     },
     "metadata": {},
     "output_type": "display_data"
    }
   ],
   "source": [
    "R_eff_lk100 = (C_red_lk100.sum(axis=0))\n",
    "to_jup(R_eff_lk100,prefix='R^{SV}=',is_row_vector=False)"
   ]
  },
  {
   "cell_type": "code",
   "execution_count": 20,
   "metadata": {},
   "outputs": [],
   "source": [
    "v, s, r = vc.io.get_homogeneous_vaccination_parameters(variant=variant)"
   ]
  },
  {
   "cell_type": "code",
   "execution_count": 21,
   "metadata": {},
   "outputs": [
    {
     "data": {
      "text/latex": [
       "$\\displaystyle C^{SV}_\\mathrm{hom}=\\left(\n",
       "\\begin{array}{}\n",
       "    1.40 &    0.12\\\\\n",
       "    0.24 &    0.02\n",
       "\\end{array}\n",
       "\\right)$"
      ],
      "text/plain": [
       "<IPython.core.display.Math object>"
      ]
     },
     "metadata": {},
     "output_type": "display_data"
    }
   ],
   "source": [
    "R0 = base_R0\n",
    "C_hom = vc.get_homogeneous_contribution_matrix(R0, v, s, r)\n",
    "to_jup(C_hom,prefix=r'C^{SV}_\\mathrm{hom}=')"
   ]
  },
  {
   "cell_type": "code",
   "execution_count": 22,
   "metadata": {},
   "outputs": [
    {
     "data": {
      "text/latex": [
       "$\\displaystyle R^{SV}_\\mathrm{hom}=\\left(\n",
       "\\begin{array}{}\n",
       "    1.64\\\\\n",
       "    0.14\n",
       "\\end{array}\n",
       "\\right)$"
      ],
      "text/plain": [
       "<IPython.core.display.Math object>"
      ]
     },
     "metadata": {},
     "output_type": "display_data"
    }
   ],
   "source": [
    "R_eff_hom = (C_hom.sum(axis=0))\n",
    "to_jup(R_eff_hom,prefix=r'R^{SV}_\\mathrm{hom}=',is_row_vector=False)"
   ]
  },
  {
   "cell_type": "code",
   "execution_count": 23,
   "metadata": {},
   "outputs": [
    {
     "data": {
      "text/latex": [
       "$\\displaystyle C^{SV}_\\mathrm{hom}=\\left(\n",
       "\\begin{array}{}\n",
       "    0.35 &    0.12\\\\\n",
       "    0.06 &    0.02\n",
       "\\end{array}\n",
       "\\right)$"
      ],
      "text/plain": [
       "<IPython.core.display.Math object>"
      ]
     },
     "metadata": {},
     "output_type": "display_data"
    }
   ],
   "source": [
    "R0 = [1, base_R0]\n",
    "C_hom = vc.get_homogeneous_contribution_matrix(R0, v, s, r)\n",
    "to_jup(C_hom,prefix=r'C^{SV}_\\mathrm{hom}=')"
   ]
  },
  {
   "cell_type": "code",
   "execution_count": 24,
   "metadata": {
    "scrolled": true
   },
   "outputs": [
    {
     "data": {
      "text/latex": [
       "$\\displaystyle R^{SV}_\\mathrm{hom}=\\left(\n",
       "\\begin{array}{}\n",
       "    0.41\\\\\n",
       "    0.14\n",
       "\\end{array}\n",
       "\\right)$"
      ],
      "text/plain": [
       "<IPython.core.display.Math object>"
      ]
     },
     "metadata": {},
     "output_type": "display_data"
    }
   ],
   "source": [
    "R_eff_hom = (C_hom.sum(axis=0))\n",
    "to_jup(R_eff_hom,prefix=r'R^{SV}_\\mathrm{hom}=',is_row_vector=False)"
   ]
  },
  {
   "cell_type": "code",
   "execution_count": 25,
   "metadata": {},
   "outputs": [
    {
     "data": {
      "text/latex": [
       "$\\displaystyle C^{SV}_\\mathrm{hom}=\\left(\n",
       "\\begin{array}{}\n",
       "    0.00 &    0.12\\\\\n",
       "    0.00 &    0.02\n",
       "\\end{array}\n",
       "\\right)$"
      ],
      "text/plain": [
       "<IPython.core.display.Math object>"
      ]
     },
     "metadata": {},
     "output_type": "display_data"
    }
   ],
   "source": [
    "R0 = [0, base_R0]\n",
    "C_hom = vc.get_homogeneous_contribution_matrix(R0, v, s, r)\n",
    "to_jup(C_hom,prefix=r'C^{SV}_\\mathrm{hom}=')"
   ]
  },
  {
   "cell_type": "code",
   "execution_count": 26,
   "metadata": {
    "scrolled": true
   },
   "outputs": [
    {
     "data": {
      "text/latex": [
       "$\\displaystyle R^{SV}_\\mathrm{hom}=\\left(\n",
       "\\begin{array}{}\n",
       "    0.00\\\\\n",
       "    0.14\n",
       "\\end{array}\n",
       "\\right)$"
      ],
      "text/plain": [
       "<IPython.core.display.Math object>"
      ]
     },
     "metadata": {},
     "output_type": "display_data"
    }
   ],
   "source": [
    "R_eff_hom = (C_hom.sum(axis=0))\n",
    "to_jup(R_eff_hom,prefix=r'R^{SV}_\\mathrm{hom}=',is_row_vector=False)"
   ]
  },
  {
   "cell_type": "code",
   "execution_count": null,
   "metadata": {},
   "outputs": [],
   "source": []
  }
 ],
 "metadata": {
  "kernelspec": {
   "display_name": "Python 3",
   "language": "python",
   "name": "python3"
  },
  "language_info": {
   "codemirror_mode": {
    "name": "ipython",
    "version": 3
   },
   "file_extension": ".py",
   "mimetype": "text/x-python",
   "name": "python",
   "nbconvert_exporter": "python",
   "pygments_lexer": "ipython3",
   "version": "3.8.9"
  }
 },
 "nbformat": 4,
 "nbformat_minor": 4
}
