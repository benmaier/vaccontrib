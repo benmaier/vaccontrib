{
 "cells": [
  {
   "cell_type": "code",
   "execution_count": 1,
   "metadata": {},
   "outputs": [],
   "source": [
    "import vaccontrib as vc\n",
    "import numpy as np\n",
    "from numpyarray_to_latex.jupyter import to_jup\n",
    "from numpyarray_to_latex import to_ltx\n",
    "import matplotlib.pyplot as pl"
   ]
  },
  {
   "cell_type": "markdown",
   "metadata": {},
   "source": [
    "## Next generation matrix\n",
    "\n",
    "Consider $M$ coupled populations, individuals of which produce new individuals in each of these populations. A next generation matrix \n",
    "$K_ij$ of shape $M\\times M$ contains the average offspring a single $j$ individual produces in population $i$. \n",
    "\n",
    "For instance, the matrix"
   ]
  },
  {
   "cell_type": "code",
   "execution_count": 2,
   "metadata": {},
   "outputs": [
    {
     "data": {
      "text/latex": [
       "$\\displaystyle K=\\left(\n",
       "\\begin{array}{}\n",
       "  1  &  1 \\\\\n",
       "  2  &  3\n",
       "\\end{array}\n",
       "\\right)$"
      ],
      "text/plain": [
       "<IPython.core.display.Math object>"
      ]
     },
     "metadata": {},
     "output_type": "display_data"
    }
   ],
   "source": [
    "K = np.array([[1.,1.],[2.,3.]])\n",
    "to_jup(K,fmt='{:1.0f}',prefix='K=')"
   ]
  },
  {
   "cell_type": "markdown",
   "metadata": {},
   "source": [
    "describes a system of two populations, let's call them $A$ and $B$ with indices $i_A=0$ and $i_B=1$. In one generation (i.e. during its lifetime), a single $A$ individual produces, on average, $K_{00}=1$ individuals in population $A$ and $K_{10}=2$ individuals in population $B$. A single $B$ individual produces, on average, $K_{11}=3$ individuals in population $A$ and $K_{01}=1$ individuals in population $A$.\n",
    "\n",
    "Let the vector $y(g)$ of length $M$ contain the number of $A$- and $B$-individuals, respectively. The per-generation dynamics follow\n",
    "\n",
    "$$\n",
    "y(g+1) = K\\cdot y(g).\n",
    "$$\n",
    "\n",
    "After a few generations, the system state $y$ approaches the eigenvector of $K$ that corresponds to its largest eigenvalue (spectral radius). We can compute the relative size of populations $A$ and $B$ as"
   ]
  },
  {
   "cell_type": "code",
   "execution_count": 3,
   "metadata": {},
   "outputs": [
    {
     "data": {
      "text/latex": [
       "$\\displaystyle y=\\left(\\begin{matrix}A\\\\B\\end{matrix}\\right)=\\left(\n",
       "\\begin{array}{}\n",
       "    0.27\\\\\n",
       "    0.73\n",
       "\\end{array}\n",
       "\\right)$"
      ],
      "text/plain": [
       "<IPython.core.display.Math object>"
      ]
     },
     "metadata": {},
     "output_type": "display_data"
    }
   ],
   "source": [
    "R, y = vc.linalg.get_spectral_radius_and_eigenvector(K)\n",
    "to_jup(y,\n",
    "       is_row_vector=False,\n",
    "       prefix=r'y=\\left(\\begin{matrix}A\\\\B\\end{matrix}\\right)=')"
   ]
  },
  {
   "cell_type": "markdown",
   "metadata": {},
   "source": [
    "## Contribution matrix\n",
    "Now, we want to define the so-called \"contribution matrix\" which quantifies the absolute contributions of each population to the reproduction of each respective population when the exponential growth (or decay) has approached the eigenstate.\n",
    "\n",
    "Operationally, one can define the contribution matrix as follows. During a time of growth (decay), we track newborn individuals of both populations $A$ and $B$ for a few generations. Let's call the set of these individuals $\\mathcal{I}$. For each individual $i\\in\\mathcal I$, we track the count of its offspring in the respective population $A$ and $B$. Let's define as \n",
    "$$\n",
    "\\underline A(i) = \\begin{cases}\n",
    "                    1 & \\mathrm{if\\ }i\\mathrm{\\ belonged\\ to\\ }A,\\\\\n",
    "                    0 & \\mathrm{otherwise}\\\\\n",
    "                  \\end{cases}\n",
    "$$\n",
    "and\n",
    "$$\n",
    "\\underline B(i) = \\begin{cases}\n",
    "                    1 & \\mathrm{if\\ }i\\mathrm{\\ belonged\\ to\\ }B,\\\\\n",
    "                    0 & \\mathrm{otherwise}\\\\\n",
    "                  \\end{cases}\n",
    "$$\n",
    "functions that give information about the populations individuals $i\\in\\mathcal I$ belonged to. Hence, $\\mathcal I_A = \\{i: i\\in \\mathcal I \\wedge \\underline A(i)=1\\}$ and $\\mathcal I_B = \\{i:i \\in \\mathcal I \\wedge \\underline B(i)=1\\}$ are the respective subsets of $\\mathcal I$ that contain $A$ and $B$ individuals, respectively.\n",
    "\n",
    "We further define as $\\sigma_{p}(i)$ the number of $p$-offspring that individual $i$ produced during its lifetime. Then we can define the offspring matrix\n",
    "\n",
    "$$\n",
    "P = \\sum_{i\\in\\mathcal I}\n",
    "    \\left(\\begin{matrix}\n",
    "                \\sigma_{A}(i)\\underline A(i) & \\sigma_{A}(i)\\underline B(i)\\\\\n",
    "                \\sigma_{B}(i)\\underline A(i) & \\sigma_{B}(i)\\underline B(i)\n",
    "          \\end{matrix}\n",
    "    \\right)\n",
    "$$\n",
    "\n",
    "whose entries $P_{ij}$ quantify how much $i$-offspring has been produced by $j$-individuals during the measurement period. Given the definitions of the sets above, we can also write $P$ as \n",
    "\n",
    "$$\n",
    "P = \n",
    "    \\left(\\begin{matrix}\n",
    "                \\sum_{i\\in I_A}\\sigma_{A}(i) & \\sum_{i\\in I_B}\\sigma_{A}(i)\\\\\n",
    "                \\sum_{i\\in I_A}\\sigma_{B}(i) & \\sum_{i\\in I_B}\\sigma_{B}(i)\n",
    "          \\end{matrix}\n",
    "    \\right)\n",
    "$$\n",
    "\n",
    "\n",
    "\n",
    "The relative contribution matrix is then defined as\n",
    "\n",
    "$$\n",
    "\\tilde C = \\frac{P}{\\sum_{i\\in\\mathcal I} \\big(\\sigma_A(i)+\\sigma_B(i)\\big)}.\n",
    "$$\n",
    "\n",
    "Each entry $\\tilde C_{ij}$ contains the $j$-produced number of $i$-offspring relative to the total number of offspring in the system during the measurement period.\n",
    "\n",
    "The average number of offspring per any individual is given as \n",
    "\n",
    "$$\n",
    "R = \\frac{1}{|\\mathcal I|}\\sum_{i\\in\\mathcal I} \\Big(\\sigma_A(i)+\\sigma_B(i)\\Big).\n",
    "$$\n",
    "\n",
    "This number is also called the \"basic reproduction number\" because it quantifies the average number of offspring per \"typical\" individual. So in order to find the absolute contributions of $j$-induced $i$-offspring to the reproduction number we define the contribution matrix\n",
    "\n",
    "$$\n",
    "C = R\\tilde C,\n",
    "$$\n",
    "\n",
    "which evaluates to\n",
    "\n",
    "$$\n",
    "C = \\frac{1}{|\\mathcal I|}      \\left(\\begin{matrix}\n",
    "                \\sum_{i\\in I_A}\\sigma_{A}(i) & \\sum_{i\\in I_B}\\sigma_{A}(i)\\\\\n",
    "                \\sum_{i\\in I_A}\\sigma_{B}(i) & \\sum_{i\\in I_B}\\sigma_{B}(i)\n",
    "          \\end{matrix}\n",
    "    \\right)\n",
    "$$\n",
    "\n",
    "We can also define the next generation matrix operationally.\n",
    "\n",
    "Let's say that $\\mathcal I_A = \\{i:\\mathcal I | \\underline A(i)=1\\}$ and $\\mathcal I_B = \\{i:\\mathcal I | \\underline B(i)=1\\}$ are the respective subsets of $\\mathcal I$ that contain $A$ and $B$ individuals, respectively.\n",
    "Then \n",
    "$$\n",
    "y = \\frac{1}{|\\mathcal I|}\\left(\\begin{matrix} |\\mathcal I_A|\\\\ |\\mathcal I_B|\\end{matrix}\\right)\n",
    "$$\n",
    "describes the eigenstate of the system. Furthermore, we want to obtain the average number of $i$-offspring per active $j$ individual, i.e.\n",
    "\n",
    "$$\n",
    "K = \n",
    "    \\left(\\begin{matrix}\n",
    "     \\frac{1}{|\\mathcal I_A|}\\sum_{i\\in I_A}\\sigma_{A}(i) & \n",
    "     \\frac{1}{|\\mathcal I_B|}\\sum_{i\\in I_B}\\sigma_{A}(i) \\\\\n",
    "     \\frac{1}{|\\mathcal I_A|}\\sum_{i\\in I_A}\\sigma_{B}(i) & \n",
    "     \\frac{1}{|\\mathcal I_B|}\\sum_{i\\in I_B}\\sigma_{B}(i) \\\\\n",
    "          \\end{matrix}\n",
    "    \\right)\n",
    "$$ \n",
    "\n",
    "We then see that\n",
    "\n",
    "$$\n",
    "K\\cdot\\mathrm{diag}(y) = \n",
    "     \\left(\\begin{matrix}\n",
    "     \\frac{1}{|\\mathcal I|}\\sum_{i\\in I_A}\\sigma_{A}(i) & \n",
    "     \\frac{1}{|\\mathcal I|}\\sum_{i\\in I_B}\\sigma_{A}(i) \\\\\n",
    "     \\frac{1}{|\\mathcal I|}\\sum_{i\\in I_A}\\sigma_{B}(i) & \n",
    "     \\frac{1}{|\\mathcal I|}\\sum_{i\\in I_B}\\sigma_{B}(i) \\\\\n",
    "          \\end{matrix}\n",
    "    \\right)\n",
    "$$\n",
    "\n",
    "$$\n",
    " = \\frac{1}{|\\mathcal I|}\\left(\\begin{matrix}\n",
    "     \\sum_{i\\in I_A}\\sigma_{A}(i) & \n",
    "     \\sum_{i\\in I_B}\\sigma_{A}(i) \\\\\n",
    "     \\sum_{i\\in I_A}\\sigma_{B}(i) & \n",
    "     \\sum_{i\\in I_B}\\sigma_{B}(i) \\\\\n",
    "          \\end{matrix}\n",
    "    \\right)\n",
    "$$\n",
    "\n",
    "so\n",
    "\n",
    "$$\n",
    "K\\cdot\\mathrm{diag}(y) = C\n",
    "$$\n",
    "\n",
    "Hence, we can easily quantify the contribution matrix by computing the eigenvector of the next generation matrix and plugging it into the equation above."
   ]
  },
  {
   "cell_type": "code",
   "execution_count": 4,
   "metadata": {},
   "outputs": [
    {
     "data": {
      "text/latex": [
       "$\\displaystyle C=\\require{color}\n",
       "\\left(\n",
       "\\begin{array}{}\n",
       "    0.27 &    0.73\\\\\n",
       "    0.54 & \\colorbox{pink}{$   2.20$}\n",
       "\\end{array}\n",
       "\\right)$"
      ],
      "text/plain": [
       "<IPython.core.display.Math object>"
      ]
     },
     "metadata": {},
     "output_type": "display_data"
    }
   ],
   "source": [
    "C = vc.get_2d_contribution_matrix(K)\n",
    "to_jup(C,prefix='C=',mark_elements=[(1,1)])"
   ]
  },
  {
   "cell_type": "markdown",
   "metadata": {},
   "source": [
    "Here we see that by far the largest contribution to the reproduction number is by $B$ individuals that produce other $B$ individuals.\n",
    "\n",
    "Note that this does not necessarily mean that, if we wanted to stifle growth altogether to induce decay, it would be enough to hinder $B$-individuals from reproducing. Let's say that we somehow manage to stop $B$-individuals from reproducing altogether, such that only $A$-individuals can produce offspring (either $A$ or $B$). This means that the next generation matrix is modified as "
   ]
  },
  {
   "cell_type": "code",
   "execution_count": 5,
   "metadata": {},
   "outputs": [
    {
     "data": {
      "text/latex": [
       "$\\displaystyle K^*=\\left(\n",
       "\\begin{array}{}\n",
       "  1  &  0 \\\\\n",
       "  2  &  0\n",
       "\\end{array}\n",
       "\\right)$"
      ],
      "text/plain": [
       "<IPython.core.display.Math object>"
      ]
     },
     "metadata": {},
     "output_type": "display_data"
    }
   ],
   "source": [
    "K_ = K.copy()\n",
    "K_[:,1] = 0\n",
    "to_jup(K_,fmt='{:1.0f}',prefix='K^*=')"
   ]
  },
  {
   "cell_type": "markdown",
   "metadata": {},
   "source": [
    "which means that the contribution matrix changes to"
   ]
  },
  {
   "cell_type": "code",
   "execution_count": 6,
   "metadata": {},
   "outputs": [
    {
     "data": {
      "text/latex": [
       "$\\displaystyle C^*=\\left(\n",
       "\\begin{array}{}\n",
       "  0.33 &  0.00\\\\\n",
       "  0.67 &  0.00\n",
       "\\end{array}\n",
       "\\right)$"
      ],
      "text/plain": [
       "<IPython.core.display.Math object>"
      ]
     },
     "metadata": {},
     "output_type": "display_data"
    }
   ],
   "source": [
    "C_ = vc.get_2d_contribution_matrix(K_)\n",
    "to_jup(C_,fmt='{:4.2f}',prefix='C^*=')"
   ]
  },
  {
   "cell_type": "markdown",
   "metadata": {},
   "source": [
    "with $R=1$. So the population will stay constant over time. Note that the respective contributions by population $A$ in $C^*$ are now of greater value than those in $C$."
   ]
  },
  {
   "cell_type": "markdown",
   "metadata": {},
   "source": [
    "## Epidemic spreading and vaccines\n",
    "\n",
    "Regarding infectious disease dynamics, the next generation matrix $K_{mn}$ of small domain quantifies the productions of infecteds in state $m$ by induced by a single infected in state $n$ around a certain system state, usually the disease-free state. Here, $m$ and $n$ can be states that combine multiple individual properties, for instance place of living, age, and vaccination status. In the following we will concentrate on combined states of age and vaccination status.\n",
    "\n",
    "Let's begin with a toy model of $M=2$ age groups (say, \"young\" and \"old\") and $V=2$ vaccination states (\"unvaccinated\" and \"vaccinated\"), with $N_0=1000$ younger and $N_1=2000$ older people.\n"
   ]
  },
  {
   "cell_type": "code",
   "execution_count": 54,
   "metadata": {},
   "outputs": [
    {
     "data": {
      "text/latex": [
       "$\\displaystyle N=\\left(\n",
       "\\begin{array}{}\n",
       "  1000 \\\\\n",
       "  2000\n",
       "\\end{array}\n",
       "\\right)$"
      ],
      "text/plain": [
       "<IPython.core.display.Math object>"
      ]
     },
     "metadata": {},
     "output_type": "display_data"
    }
   ],
   "source": [
    "population_sizes = np.array([1000,2000])\n",
    "to_jup(population_sizes,fmt='{:4.0f}',prefix='N=',is_row_vector=False)"
   ]
  },
  {
   "cell_type": "markdown",
   "metadata": {},
   "source": [
    "These populations mainly contact individuals from their own population, but mix a bit as well. We can quantify that using a contact matrix"
   ]
  },
  {
   "cell_type": "code",
   "execution_count": 59,
   "metadata": {},
   "outputs": [
    {
     "data": {
      "text/latex": [
       "$\\displaystyle \\gamma=\\left(\n",
       "\\begin{array}{}\n",
       "  1.00 &  0.50\\\\\n",
       "  0.25 &  1.00\n",
       "\\end{array}\n",
       "\\right)$"
      ],
      "text/plain": [
       "<IPython.core.display.Math object>"
      ]
     },
     "metadata": {},
     "output_type": "display_data"
    }
   ],
   "source": [
    "contact_matrix = np.array([[1.00,0.50],\n",
    "                           [0.25,1.00]])\n",
    "to_jup(contact_matrix,fmt='{:4.2f}',prefix=r'\\gamma=')"
   ]
  },
  {
   "cell_type": "markdown",
   "metadata": {},
   "source": [
    "The entry $\\gamma_{ij}$ contains the average number of contacts per day a randomly chosen individual from population $j$ has with individuals of population $i$.\n",
    "\n",
    "We now assume that 10% of the older population is vaccinated and 70% of the younger population is vaccinated."
   ]
  },
  {
   "cell_type": "code",
   "execution_count": 58,
   "metadata": {},
   "outputs": [
    {
     "data": {
      "text/latex": [
       "$\\displaystyle S=\\left(\n",
       "\\begin{array}{}\n",
       "   300  &   700 \\\\\n",
       "  1800  &   200\n",
       "\\end{array}\n",
       "\\right)$"
      ],
      "text/plain": [
       "<IPython.core.display.Math object>"
      ]
     },
     "metadata": {},
     "output_type": "display_data"
    }
   ],
   "source": [
    "disease_free_state = np.array([[ 300, 700],\n",
    "                               [1800, 200]])\n",
    "to_jup(disease_free_state,fmt='{:4.0f}',prefix=r'S=')"
   ]
  },
  {
   "cell_type": "markdown",
   "metadata": {},
   "source": [
    "Note that $S$ is a matrix of shape $(M \\times V)$, i.e. the element $S_{iv}$ counts the number of people in population $i$ that have vaccination status $v$.\n",
    "\n",
    "We further define vaccine efficacy with the reduced relative probability $s_{iv}$ that an individual of population $i$ and vaccination status $v$ can be infected and assume that in the younger population, the vaccine has an efficacy of 60% and in the older population an efficacy of 50%. By definition, unvaccinated individuals do not experience a susceptibility reduction, which is why $s_{i0} = 0$."
   ]
  },
  {
   "cell_type": "code",
   "execution_count": 63,
   "metadata": {},
   "outputs": [
    {
     "data": {
      "text/latex": [
       "$\\displaystyle s=\\left(\n",
       "\\begin{array}{}\n",
       "   0.0 &   0.6\\\\\n",
       "   0.0 &   0.5\n",
       "\\end{array}\n",
       "\\right)$"
      ],
      "text/plain": [
       "<IPython.core.display.Math object>"
      ]
     },
     "metadata": {},
     "output_type": "display_data"
    }
   ],
   "source": [
    "susceptibility_reduction = np.array([[0., 0.6],\n",
    "                                     [0., 0.5]])\n",
    "to_jup(susceptibility_reduction,fmt='{:4.1f}',prefix=r's=')"
   ]
  },
  {
   "cell_type": "markdown",
   "metadata": {},
   "source": [
    "Similarly, we can assume that vaccinated individuals that do become infected (i.e. suffer a breakthrough infection) have a reduced shedding rate, i.e. a transmissibility reduction $r_{iv}$. For vaccinated younger individuals we set $r = 0.2$ and for vaccinated older individuals we set $r = 0.3$. By definition, unvaccinated individuals do not experience a transmissibility reduction, which is why $r_{i0} = 0$."
   ]
  },
  {
   "cell_type": "code",
   "execution_count": 65,
   "metadata": {},
   "outputs": [
    {
     "data": {
      "text/latex": [
       "$\\displaystyle r=\\left(\n",
       "\\begin{array}{}\n",
       "   0.0 &   0.2\\\\\n",
       "   0.0 &   0.3\n",
       "\\end{array}\n",
       "\\right)$"
      ],
      "text/plain": [
       "<IPython.core.display.Math object>"
      ]
     },
     "metadata": {},
     "output_type": "display_data"
    }
   ],
   "source": [
    "transmissibility_reduction = np.array([[0., 0.2],\n",
    "                                       [0., 0.3]])\n",
    "to_jup(transmissibility_reduction,fmt='{:4.1f}',prefix=r'r=')"
   ]
  },
  {
   "cell_type": "markdown",
   "metadata": {},
   "source": [
    "Let's say that younger individuals are not as affected by the disease as older ones and hence have a reduced viral shedding rate as compared to older individuals, which is why we set a base relative infection rate of $a_{0v} = 0.5$ and $a_{1v} = 1$."
   ]
  },
  {
   "cell_type": "code",
   "execution_count": 67,
   "metadata": {},
   "outputs": [
    {
     "data": {
      "text/latex": [
       "$\\displaystyle a=\\left(\n",
       "\\begin{array}{}\n",
       "   0.5 &   0.5\\\\\n",
       "   1.0 &   1.0\n",
       "\\end{array}\n",
       "\\right)$"
      ],
      "text/plain": [
       "<IPython.core.display.Math object>"
      ]
     },
     "metadata": {},
     "output_type": "display_data"
    }
   ],
   "source": [
    "relative_infection_rate = np.array([[0.5, 0.5],\n",
    "                                    [1.0, 1.0]])\n",
    "to_jup(relative_infection_rate,fmt='{:4.1f}',prefix=r'a=')"
   ]
  },
  {
   "cell_type": "markdown",
   "metadata": {},
   "source": [
    "Last but not least, we assume that breakthrough infections are not as severe such that the average infectious period is two thirds of the original infectious period."
   ]
  },
  {
   "cell_type": "code",
   "execution_count": 69,
   "metadata": {},
   "outputs": [
    {
     "data": {
      "text/latex": [
       "$\\displaystyle b=\\left(\n",
       "\\begin{array}{}\n",
       "   1.0 &   1.5\\\\\n",
       "   1.0 &   1.5\n",
       "\\end{array}\n",
       "\\right)$"
      ],
      "text/plain": [
       "<IPython.core.display.Math object>"
      ]
     },
     "metadata": {},
     "output_type": "display_data"
    }
   ],
   "source": [
    "relative_recovery_rate = np.array([[1.0, 1.5],\n",
    "                                   [1.0, 1.5]])\n",
    "to_jup(relative_recovery_rate,fmt='{:4.1f}',prefix=r'b=')"
   ]
  },
  {
   "cell_type": "markdown",
   "metadata": {},
   "source": [
    "With these definitions, the base next generation matrix is defined as \n",
    "\n",
    "$$\n",
    "\\tilde K_{ijvw} = \\frac{R_0}{\\rho(K_0)}\\gamma_{ij}(1-s_{iv})(1-r_{jw})\\frac{S_{iv}a_{jw}}{N_j b_{jw}}.\n",
    "$$\n",
    "\n",
    "with the vaccine free next generation matrix\n",
    "\n",
    "$$\n",
    "\\tilde K_{0,ij} = \\gamma_{ij}\\frac{N_{i}a_{j0}}{N_j b_{j0}}.\n",
    "$$\n",
    "\n",
    "and the spectral radius $\\rho(\\cdot)$. We can compute that using\n"
   ]
  },
  {
   "cell_type": "code",
   "execution_count": 52,
   "metadata": {},
   "outputs": [],
   "source": [
    "K = vc.get_next_generation_matrix_from_matrices(\n",
    "    R0=4.,\n",
    "    gamma=contact_matrix,\n",
    "    N=population_sizes,\n",
    "    S=disease_free_state,\n",
    "    s=susceptibility_reduction,\n",
    "    r=transmissibility_reduction,\n",
    "    a=relative_infection_rate,\n",
    "    b=relative_recovery_rate,\n",
    ")"
   ]
  },
  {
   "cell_type": "markdown",
   "metadata": {},
   "source": [
    "$K$ is a 4-dimensional matrix of shape (M, M, V, V)."
   ]
  },
  {
   "cell_type": "code",
   "execution_count": 70,
   "metadata": {},
   "outputs": [
    {
     "data": {
      "text/plain": [
       "(2, 2, 2, 2)"
      ]
     },
     "execution_count": 70,
     "metadata": {},
     "output_type": "execute_result"
    }
   ],
   "source": [
    "K.shape"
   ]
  },
  {
   "cell_type": "markdown",
   "metadata": {},
   "source": [
    "In order to display the matrix, we convert $K$ to a 2-dimensional block matrix"
   ]
  },
  {
   "cell_type": "code",
   "execution_count": 75,
   "metadata": {},
   "outputs": [
    {
     "data": {
      "text/latex": [
       "$\\displaystyle K=\\left(\n",
       "\\begin{array}{cc|cc}\n",
       "    0.54 &    0.29 &    0.27 &    0.13\\\\\n",
       "    0.51 &    0.27 &    0.25 &    0.12\\\\\n",
       "  \\hline\n",
       "    0.82 &    0.43 &    3.26 &    1.52\\\\\n",
       "    0.05 &    0.02 &    0.18 &    0.08\n",
       "\\end{array}\n",
       "\\right)$"
      ],
      "text/plain": [
       "<IPython.core.display.Math object>"
      ]
     },
     "metadata": {},
     "output_type": "display_data"
    }
   ],
   "source": [
    "from vaccontrib.linalg import (\n",
    "    convert_2d_block_to_4d_matrix,\n",
    "    convert_4d_matrix_to_2d_block,\n",
    ")\n",
    "K_2d = convert_4d_matrix_to_2d_block(K)\n",
    "to_jup(K_2d,separate_columns=[1],separate_rows=[1],prefix='K=')"
   ]
  },
  {
   "cell_type": "markdown",
   "metadata": {},
   "source": [
    "Let's compute and display the full contribution matrix."
   ]
  },
  {
   "cell_type": "code",
   "execution_count": 72,
   "metadata": {},
   "outputs": [],
   "source": [
    "C = vc.get_contribution_matrix(K)"
   ]
  },
  {
   "cell_type": "code",
   "execution_count": 76,
   "metadata": {},
   "outputs": [
    {
     "data": {
      "text/latex": [
       "$\\displaystyle C=\\left(\n",
       "\\begin{array}{cc|cc}\n",
       "    0.05 &    0.02 &    0.22 &    0.01\\\\\n",
       "    0.04 &    0.02 &    0.20 &    0.01\\\\\n",
       "  \\hline\n",
       "    0.07 &    0.03 &    2.59 &    0.07\\\\\n",
       "    0.00 &    0.00 &    0.14 &    0.00\n",
       "\\end{array}\n",
       "\\right)$"
      ],
      "text/plain": [
       "<IPython.core.display.Math object>"
      ]
     },
     "metadata": {},
     "output_type": "display_data"
    }
   ],
   "source": [
    "C_2d = convert_4d_matrix_to_2d_block(C)\n",
    "to_jup(C_2d,separate_columns=[1],separate_rows=[1],prefix='C=')"
   ]
  },
  {
   "cell_type": "markdown",
   "metadata": {},
   "source": [
    "We see that the major contribution to the basic reproduction number comes from unvaccinated older people that infect other unvaccinated older people."
   ]
  },
  {
   "cell_type": "code",
   "execution_count": 78,
   "metadata": {},
   "outputs": [
    {
     "data": {
      "text/latex": [
       "$\\displaystyle C=\\require{color}\n",
       "\\left(\n",
       "\\begin{array}{cc|cc}\n",
       "    0.05 &    0.02 &    0.22 &    0.01\\\\\n",
       "    0.04 &    0.02 &    0.20 &    0.01\\\\\n",
       "  \\hline\n",
       "    0.07 &    0.03 & \\colorbox{pink}{$   2.59$}   &    0.07\\\\\n",
       "    0.00 &    0.00 &    0.14 &    0.00\n",
       "\\end{array}\n",
       "\\right)$"
      ],
      "text/plain": [
       "<IPython.core.display.Math object>"
      ]
     },
     "metadata": {},
     "output_type": "display_data"
    }
   ],
   "source": [
    "to_jup(C_2d,separate_columns=[1],separate_rows=[1],mark_elements=[(2,2)],prefix='C=')"
   ]
  },
  {
   "cell_type": "markdown",
   "metadata": {},
   "source": [
    "We can further compress the information in this matrix by summing over populations to obtain a $2\\times2$-matrix that gives the contributions of vaccinated and unvaccinated people, respectively"
   ]
  },
  {
   "cell_type": "code",
   "execution_count": 79,
   "metadata": {},
   "outputs": [],
   "source": [
    "C_reduced = vc.main.get_reduced_vaccinated_susceptible_contribution_matrix(K)"
   ]
  },
  {
   "cell_type": "code",
   "execution_count": 81,
   "metadata": {},
   "outputs": [
    {
     "data": {
      "text/latex": [
       "$\\displaystyle C^{SV}=\\require{color}\n",
       "\\left(\n",
       "\\begin{array}{}\n",
       "    2.92 &    0.13\\\\\n",
       "    0.39 & \\colorbox{pink}{$   0.03$}\n",
       "\\end{array}\n",
       "\\right)$"
      ],
      "text/plain": [
       "<IPython.core.display.Math object>"
      ]
     },
     "metadata": {},
     "output_type": "display_data"
    }
   ],
   "source": [
    "to_jup(C_reduced,fmt='{:6.2f}',mark_elements=[(1,1)],prefix=r'C^{SV}=')"
   ]
  },
  {
   "cell_type": "markdown",
   "metadata": {},
   "source": [
    "## Shielding entire populations\n",
    "\n",
    "In the following we investigate how contributions can change when populations are shielded from the infection process. Let's assume that unvaccinated people are shielded from the infection process entirely by \"lockdown\" rules that only affect unvaccinated people, i.e. we set $s_{i0}=1$ and $r_{i0}=1$. Note that this is an extreme, toy-model scenario that is used here for the sole purpose of illustrating the math."
   ]
  },
  {
   "cell_type": "code",
   "execution_count": 83,
   "metadata": {},
   "outputs": [],
   "source": [
    "susceptibility_reduction_lockdown_unvacc = susceptibility_reduction.copy()\n",
    "transmissibility_reduction_lockdown_unvacc = transmissibility_reduction.copy()\n",
    "susceptibility_reduction_lockdown_unvacc[:,0] = 1\n",
    "transmissibility_reduction_lockdown_unvacc[:,0] = 1"
   ]
  },
  {
   "cell_type": "code",
   "execution_count": 85,
   "metadata": {},
   "outputs": [
    {
     "data": {
      "text/latex": [
       "$\\displaystyle K^*=\\left(\n",
       "\\begin{array}{cc|cc}\n",
       "    0.00 &    0.00 &    0.00 &    0.00\\\\\n",
       "    0.00 &    0.27 &    0.00 &    0.12\\\\\n",
       "  \\hline\n",
       "    0.00 &    0.00 &    0.00 &    0.00\\\\\n",
       "    0.00 &    0.02 &    0.00 &    0.08\n",
       "\\end{array}\n",
       "\\right)$"
      ],
      "text/plain": [
       "<IPython.core.display.Math object>"
      ]
     },
     "metadata": {},
     "output_type": "display_data"
    }
   ],
   "source": [
    "K_lockdown_unvacc = vc.get_next_generation_matrix_from_matrices(\n",
    "    R0=4.,\n",
    "    gamma=contact_matrix,\n",
    "    N=population_sizes,\n",
    "    S=disease_free_state,\n",
    "    s=susceptibility_reduction_lockdown_unvacc,\n",
    "    r=transmissibility_reduction_lockdown_unvacc,\n",
    "    a=relative_infection_rate,\n",
    "    b=relative_recovery_rate,\n",
    ")\n",
    "to_jup(convert_4d_matrix_to_2d_block(K_lockdown_unvacc),separate_columns=[1],separate_rows=[1],prefix='K^*=')"
   ]
  },
  {
   "cell_type": "markdown",
   "metadata": {},
   "source": [
    "Rows and columns that quantify offspring by unvaccinated people are now equal to zero. Let's look at the respective contributions."
   ]
  },
  {
   "cell_type": "code",
   "execution_count": 86,
   "metadata": {},
   "outputs": [],
   "source": [
    "C_lockdown_unvacc = vc.main.get_contribution_matrix(K_lockdown_unvacc)\n",
    "C_reduced_lockdown_unvacc = vc.main.get_reduced_vaccinated_susceptible_contribution_matrix(K_lockdown_unvacc)"
   ]
  },
  {
   "cell_type": "code",
   "execution_count": 89,
   "metadata": {},
   "outputs": [
    {
     "data": {
      "text/latex": [
       "$\\displaystyle C^{*SV}=\\require{color}\n",
       "\\left(\n",
       "\\begin{array}{}\n",
       "    0.00 &    0.00\\\\\n",
       "    0.00 & \\colorbox{pink}{$   0.28$}\n",
       "\\end{array}\n",
       "\\right)$"
      ],
      "text/plain": [
       "<IPython.core.display.Math object>"
      ]
     },
     "metadata": {},
     "output_type": "display_data"
    }
   ],
   "source": [
    "to_jup(C_reduced_lockdown_unvacc,fmt='{:6.2f}',mark_elements=[(1,1)],prefix='C^{*SV}=')"
   ]
  },
  {
   "cell_type": "markdown",
   "metadata": {},
   "source": [
    "Comparing the contributions of vaccinated individuals pre- and after-lockdown, we see that the contributions skyrocketed by a factor 100. This is, however, not surprising. Since breakthrough infections can happen and only other vaccinated individuals can become infected, vaccinated-to-vaccinated infections now dominate the dynamics. Yet, in total, the process is subcritical with a total effective reproduction number of $R=0.28$."
   ]
  },
  {
   "cell_type": "markdown",
   "metadata": {},
   "source": [
    "## Testing the theoretical considerations with simulations"
   ]
  },
  {
   "cell_type": "code",
   "execution_count": 44,
   "metadata": {},
   "outputs": [],
   "source": [
    "from vaccontrib.sim import (\n",
    "    LinearSystem,\n",
    "    get_mean_contribution_matrix_from_simulation, \n",
    "    get_mean_eigenstate_from_simulation,\n",
    "    get_mean_next_generation_matrix_from_simulation,\n",
    "    convert_4d_next_generation_matrix_and_relative_recovery_rates_for_simulation,\n",
    "    convert_next_generation_matrix_and_relative_recovery_rates_for_simulation,\n",
    ")"
   ]
  },
  {
   "cell_type": "code",
   "execution_count": 45,
   "metadata": {},
   "outputs": [
    {
     "name": "stdout",
     "output_type": "stream",
     "text": [
      "1.0001219739746314 78 2 230 len(active_nodes) = 0\n",
      "2.0001246786521008 1561 2 2933 len(active_nodes) = 3\n",
      "3.0001347342488347 587 2 36653 len(active_nodes) = 35589\n",
      "4.000137944367755 1522 2 94489 len(active_nodes) = 12692\n",
      "5.000146841994134 6888 2 115588 len(active_nodes) = 4508\n",
      "6.00021981492333 22879 2 123301 len(active_nodes) = 1633\n",
      "7.000320784246199 24285 2 126025 len(active_nodes) = 586\n",
      "8.00076562789471 19194 2 127024 len(active_nodes) = 225\n",
      "9.006453742160772 24254 2 127384 len(active_nodes) = 77\n",
      "10.01153995694999 11394 2 127515 len(active_nodes) = 25\n",
      "11.028099788138965 20101 2 127561 len(active_nodes) = 8\n",
      "12.033153168683675 22311 2 127575 len(active_nodes) = 3\n",
      "13.653736267754244 22311 2 127580 len(active_nodes) = 1\n"
     ]
    }
   ],
   "source": [
    "A, b = convert_4d_next_generation_matrix_and_relative_recovery_rates_for_simulation(K,relative_recovery_rate)\n",
    "L = LinearSystem(A,b)\n",
    "t_start_measuring = 2.\n",
    "t_stop_measuring = 3.\n",
    "t, y, counters = L.simulate(t_start_measuring,t_stop_measuring,verbose=True)"
   ]
  },
  {
   "cell_type": "code",
   "execution_count": 46,
   "metadata": {},
   "outputs": [
    {
     "data": {
      "text/plain": [
       "Text(0, 0.5, 'active individuals')"
      ]
     },
     "execution_count": 46,
     "metadata": {},
     "output_type": "execute_result"
    },
    {
     "data": {
      "image/png": "[encoded data removed]",
      "text/plain": [
       "<Figure size 432x288 with 1 Axes>"
      ]
     },
     "metadata": {
      "needs_background": "light"
     },
     "output_type": "display_data"
    }
   ],
   "source": [
    "pl.figure()\n",
    "pl.plot(t, y)\n",
    "pl.plot([t_start_measuring, t_start_measuring],[0,max(y)],'k:')\n",
    "pl.plot([t_stop_measuring, t_stop_measuring],[0,max(y)],'k:')\n",
    "pl.text(t_start_measuring, max(y),\n",
    "        'start \\nmeasur- \\nement ',\n",
    "        ha='right',\n",
    "        va='top',\n",
    "       )\n",
    "pl.text(t_stop_measuring, max(y),\n",
    "        ' stop\\n measur-\\n ement',  \n",
    "        ha='left',\n",
    "        va='top'\n",
    "       )\n",
    "pl.xlim(min(t),max(t))\n",
    "pl.ylim(min(y),max(y))\n",
    "pl.xlabel('time')\n",
    "pl.ylabel('active individuals')\n"
   ]
  },
  {
   "cell_type": "code",
   "execution_count": 47,
   "metadata": {},
   "outputs": [
    {
     "data": {
      "text/latex": [
       "$\\displaystyle \\left(\n",
       "\\begin{array}{cc|cc}\n",
       "    0.02 &    0.01 &    0.12 &    0.00\\\\\n",
       "    0.02 &    0.01 &    0.11 &    0.00\\\\\n",
       "  \\hline\n",
       "    0.07 &    0.04 &    2.81 &    0.07\\\\\n",
       "    0.00 &    0.00 &    0.16 &    0.00\n",
       "\\end{array}\n",
       "\\right)$"
      ],
      "text/plain": [
       "<IPython.core.display.Math object>"
      ]
     },
     "metadata": {},
     "output_type": "display_data"
    },
    {
     "data": {
      "text/latex": [
       "$\\displaystyle \\left(\n",
       "\\begin{array}{cc|cc}\n",
       "    0.02 &    0.01 &    0.12 &    0.00\\\\\n",
       "    0.02 &    0.01 &    0.11 &    0.00\\\\\n",
       "  \\hline\n",
       "    0.07 &    0.04 &    2.82 &    0.07\\\\\n",
       "    0.00 &    0.00 &    0.16 &    0.00\n",
       "\\end{array}\n",
       "\\right)$"
      ],
      "text/plain": [
       "<IPython.core.display.Math object>"
      ]
     },
     "metadata": {},
     "output_type": "display_data"
    },
    {
     "data": {
      "text/latex": [
       "$\\displaystyle \\require{color}\n",
       "\\left(\n",
       "\\begin{array}{}\n",
       "    3.02 &    0.13\\\\\n",
       "    0.29 & \\colorbox{pink}{$   0.02$}\n",
       "\\end{array}\n",
       "\\right)$"
      ],
      "text/plain": [
       "<IPython.core.display.Math object>"
      ]
     },
     "metadata": {},
     "output_type": "display_data"
    }
   ],
   "source": [
    "C_sim = get_mean_contribution_matrix_from_simulation(\n",
    "    4,\n",
    "    counters,\n",
    ")\n",
    "to_jup(C_sim,\n",
    "       separate_rows=[1],\n",
    "       separate_columns=[1],\n",
    "      )\n",
    "to_jup(C_2d,\n",
    "       separate_rows=[1],\n",
    "       separate_columns=[1],\n",
    "      )\n",
    "to_jup(\n",
    "        convert_2d_block_to_4d_matrix(C_sim,2,2)\\\n",
    "               .sum(axis=0)\\\n",
    "               .sum(axis=0),\n",
    "        mark_elements=[(1,1)],\n",
    "    )"
   ]
  },
  {
   "cell_type": "code",
   "execution_count": 48,
   "metadata": {},
   "outputs": [
    {
     "data": {
      "text/latex": [
       "$\\displaystyle \\left(\n",
       "\\begin{array}{cc|cc}\n",
       "    0.00 &    0.00 &    0.00 &    0.00\\\\\n",
       "    0.00 &    0.27 &    0.00 &    0.06\\\\\n",
       "  \\hline\n",
       "    0.00 &    0.00 &    0.00 &    0.00\\\\\n",
       "    0.00 &    0.05 &    0.00 &    0.08\n",
       "\\end{array}\n",
       "\\right)$"
      ],
      "text/plain": [
       "<IPython.core.display.Math object>"
      ]
     },
     "metadata": {},
     "output_type": "display_data"
    },
    {
     "name": "stdout",
     "output_type": "stream",
     "text": [
      "1.000010407470323 373469 3 138066 len(active_nodes) = 0\n",
      "2.000011665351974 193168 3 47956 len(active_nodes) = 6451\n",
      "3.0000355248020774 41594 3 18635 len(active_nodes) = 1434\n",
      "4.000087067440914 227009 2 9553 len(active_nodes) = 296\n",
      "5.000135576617654 241398 2 6689 len(active_nodes) = 55\n",
      "6.005320404809297 63487 0 5724 len(active_nodes) = 11\n",
      "7.005756536410288 91800 0 5409 len(active_nodes) = 4\n",
      "8.017033755114486 288508 2 5280 len(active_nodes) = 1\n"
     ]
    }
   ],
   "source": [
    "A, b = convert_4d_next_generation_matrix_and_relative_recovery_rates_for_simulation(K_lockdown_unvacc,relative_recovery_rate)\n",
    "K_2d_lockdown_unvacc = convert_4d_matrix_to_2d_block(K_lockdown_unvacc)\n",
    "to_jup(K_2d_lockdown_unvacc,\n",
    "       separate_rows=[1],\n",
    "       separate_columns=[1],\n",
    "      )\n",
    "L = LinearSystem(A, b,\n",
    "                 initial_conditions=100_000*np.ones(4))\n",
    "t, y, counters_lockdown_unvacc = L.simulate(1.,2.,verbose=True)"
   ]
  },
  {
   "cell_type": "code",
   "execution_count": 49,
   "metadata": {},
   "outputs": [
    {
     "data": {
      "text/latex": [
       "$\\displaystyle \\left(\n",
       "\\begin{array}{cc|cc}\n",
       "    0.00 &    0.00 &    0.00 &    0.00\\\\\n",
       "    0.00 &    0.20 &    0.00 &    0.02\\\\\n",
       "  \\hline\n",
       "    0.00 &    0.00 &    0.00 &    0.00\\\\\n",
       "    0.00 &    0.04 &    0.00 &    0.02\n",
       "\\end{array}\n",
       "\\right)$"
      ],
      "text/plain": [
       "<IPython.core.display.Math object>"
      ]
     },
     "metadata": {},
     "output_type": "display_data"
    },
    {
     "data": {
      "text/latex": [
       "$\\displaystyle \\left(\n",
       "\\begin{array}{cc|cc}\n",
       "    0.00 &    0.00 &    0.00 &    0.00\\\\\n",
       "    0.00 &    0.22 &    0.00 &    0.01\\\\\n",
       "  \\hline\n",
       "    0.00 &    0.00 &    0.00 &    0.00\\\\\n",
       "    0.00 &    0.04 &    0.00 &    0.02\n",
       "\\end{array}\n",
       "\\right)$"
      ],
      "text/plain": [
       "<IPython.core.display.Math object>"
      ]
     },
     "metadata": {},
     "output_type": "display_data"
    },
    {
     "data": {
      "text/latex": [
       "$\\displaystyle \\require{color}\n",
       "\\left(\n",
       "\\begin{array}{}\n",
       "    0.00 &    0.00\\\\\n",
       "    0.00 & \\colorbox{pink}{$   0.27$}\n",
       "\\end{array}\n",
       "\\right)$"
      ],
      "text/plain": [
       "<IPython.core.display.Math object>"
      ]
     },
     "metadata": {},
     "output_type": "display_data"
    }
   ],
   "source": [
    "C_lockdown_unvacc_sim = get_mean_contribution_matrix_from_simulation(\n",
    "    4,\n",
    "    counters_lockdown_unvacc,\n",
    ")\n",
    "to_jup(\n",
    "        C_lockdown_unvacc_sim,\n",
    "        separate_rows=[1],\n",
    "        separate_columns=[1],\n",
    "    )\n",
    "to_jup(\n",
    "        convert_4d_matrix_to_2d_block(C_lockdown_unvacc),\n",
    "        separate_rows=[1],\n",
    "        separate_columns=[1],\n",
    "    )\n",
    "to_jup(\n",
    "        convert_2d_block_to_4d_matrix(C_lockdown_unvacc_sim,2,2)\\\n",
    "               .sum(axis=0)\\\n",
    "               .sum(axis=0),\n",
    "        mark_elements=[(1,1)],\n",
    "    )"
   ]
  },
  {
   "cell_type": "code",
   "execution_count": 50,
   "metadata": {},
   "outputs": [
    {
     "data": {
      "text/latex": [
       "$\\displaystyle \\left(\n",
       "\\begin{array}{}\n",
       "    0.00 &    0.81\\\\\n",
       "    0.00 &    0.19\n",
       "\\end{array}\n",
       "\\right)$"
      ],
      "text/plain": [
       "<IPython.core.display.Math object>"
      ]
     },
     "metadata": {},
     "output_type": "display_data"
    }
   ],
   "source": [
    "y_lockdown_unvacc = vc.main.get_eigenvector(K_lockdown_unvacc)\n",
    "to_jup(y_lockdown_unvacc)"
   ]
  },
  {
   "cell_type": "code",
   "execution_count": 51,
   "metadata": {},
   "outputs": [
    {
     "data": {
      "text/latex": [
       "$\\displaystyle \\left(\n",
       "\\begin{array}{cc|cc}\n",
       "    0.00 &    0.00 &    0.00 &    0.00\\\\\n",
       "    0.00 &    0.27 &    0.00 &    0.06\\\\\n",
       "  \\hline\n",
       "    0.00 &    0.00 &    0.00 &    0.00\\\\\n",
       "    0.00 &    0.05 &    0.00 &    0.08\n",
       "\\end{array}\n",
       "\\right)$"
      ],
      "text/plain": [
       "<IPython.core.display.Math object>"
      ]
     },
     "metadata": {},
     "output_type": "display_data"
    },
    {
     "data": {
      "text/latex": [
       "$\\displaystyle \\left(\n",
       "\\begin{array}{cc|cc}\n",
       "    0.00 &    0.00 &    0.00 &    0.00\\\\\n",
       "    0.00 &    0.27 &    0.00 &    0.06\\\\\n",
       "  \\hline\n",
       "    0.00 &    0.00 &    0.00 &    0.00\\\\\n",
       "    0.00 &    0.05 &    0.00 &    0.08\n",
       "\\end{array}\n",
       "\\right)$"
      ],
      "text/plain": [
       "<IPython.core.display.Math object>"
      ]
     },
     "metadata": {},
     "output_type": "display_data"
    }
   ],
   "source": [
    "K_lockdown_unvacc_sim = get_mean_next_generation_matrix_from_simulation(\n",
    "    4,\n",
    "    counters_lockdown_unvacc,\n",
    ")\n",
    "to_jup(K_lockdown_unvacc_sim,\n",
    "       separate_rows=[1],\n",
    "       separate_columns=[1],\n",
    "      )\n",
    "to_jup(convert_4d_matrix_to_2d_block(K_lockdown_unvacc),\n",
    "       separate_rows=[1],\n",
    "       separate_columns=[1],\n",
    "    )\n"
   ]
  },
  {
   "cell_type": "code",
   "execution_count": null,
   "metadata": {},
   "outputs": [],
   "source": []
  }
 ],
 "metadata": {
  "kernelspec": {
   "display_name": "Python 3",
   "language": "python",
   "name": "python3"
  },
  "language_info": {
   "codemirror_mode": {
    "name": "ipython",
    "version": 3
   },
   "file_extension": ".py",
   "mimetype": "text/x-python",
   "name": "python",
   "nbconvert_exporter": "python",
   "pygments_lexer": "ipython3",
   "version": "3.8.9"
  }
 },
 "nbformat": 4,
 "nbformat_minor": 4
}
