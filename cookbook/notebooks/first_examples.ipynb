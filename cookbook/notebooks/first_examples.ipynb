{
 "cells": [
  {
   "cell_type": "code",
   "execution_count": 1,
   "metadata": {},
   "outputs": [],
   "source": [
    "import vaccontrib as vc\n",
    "import numpy as np\n",
    "from numpyarray_to_latex.jupyter import to_jup\n",
    "from numpyarray_to_latex import to_ltx\n",
    "import matplotlib.pyplot as pl"
   ]
  },
  {
   "cell_type": "markdown",
   "metadata": {},
   "source": [
    "## Next generation matrix\n",
    "\n",
    "Consider $M$ coupled populations, individuals of which produce new individuals in each of these populations. A next generation matrix \n",
    "$K_{ij}$ of shape $M\\times M$ contains the average offspring a single $j$ individual produces in population $i$. \n",
    "\n",
    "For instance, the matrix"
   ]
  },
  {
   "cell_type": "code",
   "execution_count": 2,
   "metadata": {},
   "outputs": [
    {
     "data": {
      "text/latex": [
       "$\\displaystyle K=\\left(\n",
       "\\begin{array}{}\n",
       "  1  &  1 \\\\\n",
       "  2  &  3 \n",
       "\\end{array}\n",
       "\\right)$"
      ],
      "text/plain": [
       "<IPython.core.display.Math object>"
      ]
     },
     "metadata": {},
     "output_type": "display_data"
    }
   ],
   "source": [
    "K = np.array([[1.,1.],[2.,3.]])\n",
    "to_jup(K,fmt='{:1.0f}',prefix='K=')"
   ]
  },
  {
   "cell_type": "markdown",
   "metadata": {},
   "source": [
    "describes a system of two populations, let's call them $A$ and $B$ with indices $i_A=0$ and $i_B=1$. In one generation (i.e. during its lifetime), a single $A$ individual produces, on average, $K_{00}=1$ individuals in population $A$ and $K_{10}=2$ individuals in population $B$. A single $B$ individual produces, on average, $K_{11}=3$ individuals in population $A$ and $K_{01}=1$ individuals in population $A$.\n",
    "\n",
    "Let the vector $y(g)$ of length $M$ contain the number of $A$- and $B$-individuals, respectively. The per-generation dynamics follow\n",
    "\n",
    "$$\n",
    "y(g+1) = K\\cdot y(g).\n",
    "$$\n",
    "\n",
    "After a few generations, the system state $y$ approaches the eigenvector of $K$ that corresponds to its largest eigenvalue (spectral radius). We can compute the relative size of populations $A$ and $B$ as"
   ]
  },
  {
   "cell_type": "code",
   "execution_count": 3,
   "metadata": {},
   "outputs": [
    {
     "data": {
      "text/latex": [
       "$\\displaystyle y=\\left(\\begin{matrix}A\\\\B\\end{matrix}\\right)=\\left(\n",
       "\\begin{array}{}\n",
       "    0.27\\\\\n",
       "    0.73\n",
       "\\end{array}\n",
       "\\right)$"
      ],
      "text/plain": [
       "<IPython.core.display.Math object>"
      ]
     },
     "metadata": {},
     "output_type": "display_data"
    }
   ],
   "source": [
    "R, y = vc.linalg.get_spectral_radius_and_eigenvector(K)\n",
    "to_jup(y,\n",
    "       is_row_vector=False,\n",
    "       prefix=r'y=\\left(\\begin{matrix}A\\\\B\\end{matrix}\\right)=')"
   ]
  },
  {
   "cell_type": "markdown",
   "metadata": {},
   "source": [
    "## Contribution matrix\n",
    "Now, we want to define the so-called \"contribution matrix\" which quantifies the absolute contributions of each population to the reproduction of each respective population when the exponential growth (or decay) has approached the eigenstate.\n",
    "\n",
    "Operationally, one can define the contribution matrix as follows. During a time of growth (decay), we track newborn individuals of both populations $A$ and $B$ for a few generations. Let's call the set of these individuals $\\mathcal{I}$. For each individual $i\\in\\mathcal I$, we track the count of its offspring in the respective populations $A$ and $B$. Let's define as \n",
    "$$\n",
    "\\underline A(i) = \\begin{cases}\n",
    "                    1 & \\mathrm{if\\ }i\\mathrm{\\ belonged\\ to\\ }A,\\\\\n",
    "                    0 & \\mathrm{otherwise}\\\\\n",
    "                  \\end{cases}\n",
    "$$\n",
    "and\n",
    "$$\n",
    "\\underline B(i) = \\begin{cases}\n",
    "                    1 & \\mathrm{if\\ }i\\mathrm{\\ belonged\\ to\\ }B,\\\\\n",
    "                    0 & \\mathrm{otherwise}\\\\\n",
    "                  \\end{cases}\n",
    "$$\n",
    "functions that give information about the populations individuals $i\\in\\mathcal I$ belonged to. Hence, $\\mathcal I_A = \\{i: i\\in \\mathcal I \\wedge \\underline A(i)=1\\}$ and $\\mathcal I_B = \\{i:i \\in \\mathcal I \\wedge \\underline B(i)=1\\}$ are the respective subsets of $\\mathcal I$ that contain $A$ and $B$ individuals, respectively.\n",
    "\n",
    "We further define as $\\sigma_{p}(i)$ the number of $p$-offspring that individual $i$ produced during its lifetime. Then we can define the offspring matrix\n",
    "\n",
    "$$\n",
    "P = \\sum_{i\\in\\mathcal I}\n",
    "    \\left(\\begin{matrix}\n",
    "                \\sigma_{A}(i)\\underline A(i) & \\sigma_{A}(i)\\underline B(i)\\\\\n",
    "                \\sigma_{B}(i)\\underline A(i) & \\sigma_{B}(i)\\underline B(i)\n",
    "          \\end{matrix}\n",
    "    \\right)\n",
    "$$\n",
    "\n",
    "whose entries $P_{ij}$ quantify how much $i$-offspring has been produced by $j$-individuals during the measurement period. Given the definitions of the sets above, we can also write $P$ as \n",
    "\n",
    "$$\n",
    "P = \n",
    "    \\left(\\begin{matrix}\n",
    "                \\sum_{i\\in I_A}\\sigma_{A}(i) & \\sum_{i\\in I_B}\\sigma_{A}(i)\\\\\n",
    "                \\sum_{i\\in I_A}\\sigma_{B}(i) & \\sum_{i\\in I_B}\\sigma_{B}(i)\n",
    "          \\end{matrix}\n",
    "    \\right).\n",
    "$$\n",
    "\n",
    "\n",
    "\n",
    "The relative contribution matrix is then defined as\n",
    "\n",
    "$$\n",
    "\\tilde C = \\frac{P}{\\sum_{i\\in\\mathcal I} \\big(\\sigma_A(i)+\\sigma_B(i)\\big)}.\n",
    "$$\n",
    "\n",
    "Each entry $\\tilde C_{ij}$ contains the $j$-produced number of $i$-offspring relative to the total number of offspring in the system during the measurement period.\n",
    "\n",
    "The average number of offspring per any individual is given as \n",
    "\n",
    "$$\n",
    "R = \\frac{1}{|\\mathcal I|}\\sum_{i\\in\\mathcal I} \\Big(\\sigma_A(i)+\\sigma_B(i)\\Big).\n",
    "$$\n",
    "\n",
    "This number is also called the \"basic reproduction number\" because it quantifies the average number of offspring per \"typical\" individual. So in order to find the absolute contributions of $j$-induced $i$-offspring to the reproduction number we define the contribution matrix\n",
    "\n",
    "$$\n",
    "C = R\\tilde C,\n",
    "$$\n",
    "\n",
    "which evaluates to\n",
    "\n",
    "$$\n",
    "C = \\frac{1}{|\\mathcal I|}      \\left(\\begin{matrix}\n",
    "                \\sum_{i\\in I_A}\\sigma_{A}(i) & \\sum_{i\\in I_B}\\sigma_{A}(i)\\\\\n",
    "                \\sum_{i\\in I_A}\\sigma_{B}(i) & \\sum_{i\\in I_B}\\sigma_{B}(i)\n",
    "          \\end{matrix}\n",
    "    \\right)\n",
    "$$\n",
    "\n",
    "We can also define the next generation matrix operationally.\n",
    "\n",
    "First, be reminded that $\\mathcal I_A$ and $\\mathcal I_B$ are the respective subsets of $\\mathcal I$ that contain $A$ and $B$ individuals, respectively.\n",
    "Then \n",
    "$$\n",
    "y = \\frac{1}{|\\mathcal I|}\\left(\\begin{matrix} |\\mathcal I_A|\\\\ |\\mathcal I_B|\\end{matrix}\\right)\n",
    "$$\n",
    "describes the state of the system. To find $K$ we want to obtain the average number of $i$-offspring per active $j$ individual, i.e.\n",
    "\n",
    "$$\n",
    "K = \n",
    "    \\left(\\begin{matrix}\n",
    "     \\frac{1}{|\\mathcal I_A|}\\sum_{i\\in I_A}\\sigma_{A}(i) & \n",
    "     \\frac{1}{|\\mathcal I_B|}\\sum_{i\\in I_B}\\sigma_{A}(i) \\\\\n",
    "     \\frac{1}{|\\mathcal I_A|}\\sum_{i\\in I_A}\\sigma_{B}(i) & \n",
    "     \\frac{1}{|\\mathcal I_B|}\\sum_{i\\in I_B}\\sigma_{B}(i) \\\\\n",
    "          \\end{matrix}\n",
    "    \\right)\n",
    "$$ \n",
    "\n",
    "We then see that\n",
    "\n",
    "$$\n",
    "K\\cdot\\mathrm{diag}(y) = \n",
    "     \\left(\\begin{matrix}\n",
    "     \\frac{1}{|\\mathcal I|}\\sum_{i\\in I_A}\\sigma_{A}(i) & \n",
    "     \\frac{1}{|\\mathcal I|}\\sum_{i\\in I_B}\\sigma_{A}(i) \\\\\n",
    "     \\frac{1}{|\\mathcal I|}\\sum_{i\\in I_A}\\sigma_{B}(i) & \n",
    "     \\frac{1}{|\\mathcal I|}\\sum_{i\\in I_B}\\sigma_{B}(i) \\\\\n",
    "          \\end{matrix}\n",
    "    \\right)\n",
    "$$\n",
    "\n",
    "$$\n",
    " = \\frac{1}{|\\mathcal I|}\\left(\\begin{matrix}\n",
    "     \\sum_{i\\in I_A}\\sigma_{A}(i) & \n",
    "     \\sum_{i\\in I_B}\\sigma_{A}(i) \\\\\n",
    "     \\sum_{i\\in I_A}\\sigma_{B}(i) & \n",
    "     \\sum_{i\\in I_B}\\sigma_{B}(i) \\\\\n",
    "          \\end{matrix}\n",
    "    \\right)\n",
    "$$\n",
    "\n",
    "so\n",
    "\n",
    "$$\n",
    "K\\cdot\\mathrm{diag}(y) = C.\n",
    "$$\n",
    "\n",
    "Note that the difference between $K$ and $C$ is subtle but important: While $K_{ij}$ contains the average number of $i$-offspring by a single $j$-individual, $C_{ij}$ quantifies the average number of $j$-caused $i$-offspring per individual, i.e. makes the important distinction to consider the relative amount of $j$-individuals in $\\mathcal I$.\n",
    "\n",
    "For our toy model, we can therefore easily quantify the contribution matrix by computing the eigenvector of the next generation matrix and plugging it into the equation above."
   ]
  },
  {
   "cell_type": "code",
   "execution_count": 4,
   "metadata": {},
   "outputs": [
    {
     "data": {
      "text/latex": [
       "$\\displaystyle C=\\require{color}\n",
       "\\left(\n",
       "\\begin{array}{}\n",
       "    0.27 &    0.73\\\\\n",
       "    0.54 & \\colorbox{pink}{$   2.20$}  \n",
       "\\end{array}\n",
       "\\right)$"
      ],
      "text/plain": [
       "<IPython.core.display.Math object>"
      ]
     },
     "metadata": {},
     "output_type": "display_data"
    }
   ],
   "source": [
    "C = vc.get_2d_contribution_matrix(K)\n",
    "to_jup(C,prefix='C=',mark_elements=[(1,1)])"
   ]
  },
  {
   "cell_type": "markdown",
   "metadata": {},
   "source": [
    "Here we see that by far the largest contribution to the reproduction number is by $B$ individuals that produce other $B$ individuals.\n",
    "\n",
    "Note that this does not necessarily mean that, if we wanted to stifle growth altogether to induce decay, it would be enough to hinder $B$-individuals from reproducing. Let's say that we somehow manage to stop $B$-individuals from reproducing altogether, such that only $A$-individuals can produce offspring (either $A$ or $B$). This means that the next generation matrix is modified as "
   ]
  },
  {
   "cell_type": "code",
   "execution_count": 5,
   "metadata": {},
   "outputs": [
    {
     "data": {
      "text/latex": [
       "$\\displaystyle K^*=\\left(\n",
       "\\begin{array}{}\n",
       "  1  &  0 \\\\\n",
       "  2  &  0 \n",
       "\\end{array}\n",
       "\\right)$"
      ],
      "text/plain": [
       "<IPython.core.display.Math object>"
      ]
     },
     "metadata": {},
     "output_type": "display_data"
    }
   ],
   "source": [
    "K_ = K.copy()\n",
    "K_[:,1] = 0\n",
    "to_jup(K_,fmt='{:1.0f}',prefix='K^*=')"
   ]
  },
  {
   "cell_type": "markdown",
   "metadata": {},
   "source": [
    "which means that the contribution matrix changes to"
   ]
  },
  {
   "cell_type": "code",
   "execution_count": 6,
   "metadata": {},
   "outputs": [
    {
     "data": {
      "text/latex": [
       "$\\displaystyle C^*=\\left(\n",
       "\\begin{array}{}\n",
       "  0.33 &  0.00\\\\\n",
       "  0.67 &  0.00\n",
       "\\end{array}\n",
       "\\right)$"
      ],
      "text/plain": [
       "<IPython.core.display.Math object>"
      ]
     },
     "metadata": {},
     "output_type": "display_data"
    }
   ],
   "source": [
    "C_ = vc.get_2d_contribution_matrix(K_)\n",
    "to_jup(C_,fmt='{:4.2f}',prefix='C^*=')"
   ]
  },
  {
   "cell_type": "markdown",
   "metadata": {},
   "source": [
    "with $R=1$. So the population will stay constant over time. Note that the respective contributions by population $A$ in $C^*$ are now of greater value than those in $C$."
   ]
  },
  {
   "cell_type": "markdown",
   "metadata": {},
   "source": [
    "## Epidemic spreading and vaccines\n",
    "\n",
    "Regarding infectious disease dynamics, the next generation matrix $K_{mn}$ of small domain quantifies the production of infecteds in state $m$ by induced by a single infected in state $n$ around a certain system state, usually the disease-free state. Here, $m$ and $n$ can be states that combine multiple individual properties, for instance place of living, age, and vaccination status. In the following we will concentrate on combined states of age and vaccination status.\n",
    "\n",
    "Let's begin with a toy model of $M=2$ age groups (say, \"young\" and \"old\") and $V=2$ vaccination states (\"unvaccinated\" and \"vaccinated\"), with $N_0=1000$ younger and $N_1=2000$ older people.\n"
   ]
  },
  {
   "cell_type": "code",
   "execution_count": 7,
   "metadata": {},
   "outputs": [
    {
     "data": {
      "text/latex": [
       "$\\displaystyle N=\\left(\n",
       "\\begin{array}{}\n",
       "  1000 \\\\\n",
       "  2000 \n",
       "\\end{array}\n",
       "\\right)$"
      ],
      "text/plain": [
       "<IPython.core.display.Math object>"
      ]
     },
     "metadata": {},
     "output_type": "display_data"
    }
   ],
   "source": [
    "population_sizes = np.array([1000,2000])\n",
    "to_jup(population_sizes,fmt='{:4.0f}',prefix='N=',is_row_vector=False)"
   ]
  },
  {
   "cell_type": "markdown",
   "metadata": {},
   "source": [
    "These populations mainly contact individuals from their own population, but mix a bit as well. We can quantify that using a contact matrix"
   ]
  },
  {
   "cell_type": "code",
   "execution_count": 8,
   "metadata": {},
   "outputs": [
    {
     "data": {
      "text/latex": [
       "$\\displaystyle \\gamma=\\left(\n",
       "\\begin{array}{}\n",
       "  1.00 &  0.50\\\\\n",
       "  0.25 &  1.00\n",
       "\\end{array}\n",
       "\\right)$"
      ],
      "text/plain": [
       "<IPython.core.display.Math object>"
      ]
     },
     "metadata": {},
     "output_type": "display_data"
    }
   ],
   "source": [
    "contact_matrix = np.array([[1.00,0.50],\n",
    "                           [0.25,1.00]])\n",
    "to_jup(contact_matrix,fmt='{:4.2f}',prefix=r'\\gamma=')"
   ]
  },
  {
   "cell_type": "markdown",
   "metadata": {},
   "source": [
    "The entry $\\gamma_{ij}$ contains the average number of contacts per day a randomly chosen individual from population $j$ has with individuals of population $i$.\n",
    "\n",
    "We now assume that 10% of the older population is vaccinated and 70% of the younger population is vaccinated."
   ]
  },
  {
   "cell_type": "code",
   "execution_count": 9,
   "metadata": {},
   "outputs": [
    {
     "data": {
      "text/latex": [
       "$\\displaystyle S=\\left(\n",
       "\\begin{array}{}\n",
       "   300  &   700 \\\\\n",
       "  1800  &   200 \n",
       "\\end{array}\n",
       "\\right)$"
      ],
      "text/plain": [
       "<IPython.core.display.Math object>"
      ]
     },
     "metadata": {},
     "output_type": "display_data"
    }
   ],
   "source": [
    "disease_free_state = np.array([[ 300, 700],\n",
    "                               [1800, 200]])\n",
    "to_jup(disease_free_state,fmt='{:4.0f}',prefix=r'S=')"
   ]
  },
  {
   "cell_type": "markdown",
   "metadata": {},
   "source": [
    "Note that $S$ is a matrix of shape $(M \\times V)$, i.e. the element $S_{iv}$ counts the number of people in population $i$ that have vaccination status $v$.\n",
    "\n",
    "We further define vaccine efficacy with the reduced relative probability $s_{iv}$ that an individual of population $i$ and vaccination status $v$ can be infected and assume that in the younger population, the vaccine has an efficacy of 60% and in the older population an efficacy of 50%. By definition, unvaccinated individuals do not experience a susceptibility reduction, which is why $s_{i0} = 0$."
   ]
  },
  {
   "cell_type": "code",
   "execution_count": 10,
   "metadata": {},
   "outputs": [
    {
     "data": {
      "text/latex": [
       "$\\displaystyle s=\\left(\n",
       "\\begin{array}{}\n",
       "   0.0 &   0.6\\\\\n",
       "   0.0 &   0.5\n",
       "\\end{array}\n",
       "\\right)$"
      ],
      "text/plain": [
       "<IPython.core.display.Math object>"
      ]
     },
     "metadata": {},
     "output_type": "display_data"
    }
   ],
   "source": [
    "susceptibility_reduction = np.array([[0., 0.6],\n",
    "                                     [0., 0.5]])\n",
    "to_jup(susceptibility_reduction,fmt='{:4.1f}',prefix=r's=')"
   ]
  },
  {
   "cell_type": "markdown",
   "metadata": {},
   "source": [
    "Similarly, we can assume that vaccinated individuals that do become infected (i.e. suffer a breakthrough infection) have a reduced shedding rate, i.e. a transmissibility reduction $r_{iv}$. For vaccinated younger individuals we set $r = 0.2$ and for vaccinated older individuals we set $r = 0.3$. By definition, unvaccinated individuals do not experience a transmissibility reduction, which is why $r_{i0} = 0$."
   ]
  },
  {
   "cell_type": "code",
   "execution_count": 11,
   "metadata": {},
   "outputs": [
    {
     "data": {
      "text/latex": [
       "$\\displaystyle r=\\left(\n",
       "\\begin{array}{}\n",
       "   0.0 &   0.2\\\\\n",
       "   0.0 &   0.3\n",
       "\\end{array}\n",
       "\\right)$"
      ],
      "text/plain": [
       "<IPython.core.display.Math object>"
      ]
     },
     "metadata": {},
     "output_type": "display_data"
    }
   ],
   "source": [
    "transmissibility_reduction = np.array([[0., 0.2],\n",
    "                                       [0., 0.3]])\n",
    "to_jup(transmissibility_reduction,fmt='{:4.1f}',prefix=r'r=')"
   ]
  },
  {
   "cell_type": "markdown",
   "metadata": {},
   "source": [
    "Let's say that younger individuals are not as affected by the disease as older ones and hence have a reduced viral shedding rate as compared to older individuals, which is why we set a base relative infection rate of $a_{0v} = 0.5$ and $a_{1v} = 1$."
   ]
  },
  {
   "cell_type": "code",
   "execution_count": 12,
   "metadata": {},
   "outputs": [
    {
     "data": {
      "text/latex": [
       "$\\displaystyle a=\\left(\n",
       "\\begin{array}{}\n",
       "   0.5 &   0.5\\\\\n",
       "   1.0 &   1.0\n",
       "\\end{array}\n",
       "\\right)$"
      ],
      "text/plain": [
       "<IPython.core.display.Math object>"
      ]
     },
     "metadata": {},
     "output_type": "display_data"
    }
   ],
   "source": [
    "relative_infection_rate = np.array([[0.5, 0.5],\n",
    "                                    [1.0, 1.0]])\n",
    "to_jup(relative_infection_rate,fmt='{:4.1f}',prefix=r'a=')"
   ]
  },
  {
   "cell_type": "markdown",
   "metadata": {},
   "source": [
    "Last but not least, we assume that breakthrough infections are not as severe such that the average infectious period is two thirds of the original infectious period."
   ]
  },
  {
   "cell_type": "code",
   "execution_count": 13,
   "metadata": {},
   "outputs": [
    {
     "data": {
      "text/latex": [
       "$\\displaystyle b=\\left(\n",
       "\\begin{array}{}\n",
       "   1.0 &   1.5\\\\\n",
       "   1.0 &   1.5\n",
       "\\end{array}\n",
       "\\right)$"
      ],
      "text/plain": [
       "<IPython.core.display.Math object>"
      ]
     },
     "metadata": {},
     "output_type": "display_data"
    }
   ],
   "source": [
    "relative_recovery_rate = np.array([[1.0, 1.5],\n",
    "                                   [1.0, 1.5]])\n",
    "to_jup(relative_recovery_rate,fmt='{:4.1f}',prefix=r'b=')"
   ]
  },
  {
   "cell_type": "markdown",
   "metadata": {},
   "source": [
    "With these definitions, the next generation matrix is defined as \n",
    "\n",
    "$$\n",
    "K_{ijvw} = \\frac{R_0}{\\rho(K_0)}\\gamma_{ij}(1-s_{iv})(1-r_{jw})\\frac{S_{iv}a_{jw}}{N_j b_{jw}}.\n",
    "$$\n",
    "\n",
    "with the vaccine-free next generation matrix\n",
    "\n",
    "$$\n",
    "K_{0,ij} = \\gamma_{ij}\\frac{N_{i}a_{j0}}{N_j b_{j0}}.\n",
    "$$\n",
    "\n",
    "and the spectral radius $\\rho(\\cdot)$. We can compute $K$ using\n"
   ]
  },
  {
   "cell_type": "code",
   "execution_count": 14,
   "metadata": {},
   "outputs": [],
   "source": [
    "K = vc.get_next_generation_matrix_from_matrices(\n",
    "    R0=4.,\n",
    "    gamma=contact_matrix,\n",
    "    N=population_sizes,\n",
    "    S=disease_free_state,\n",
    "    s=susceptibility_reduction,\n",
    "    r=transmissibility_reduction,\n",
    "    a=relative_infection_rate,\n",
    "    b=relative_recovery_rate,\n",
    ")"
   ]
  },
  {
   "cell_type": "markdown",
   "metadata": {},
   "source": [
    "$K$ is a 4-dimensional matrix of shape (M, M, V, V)."
   ]
  },
  {
   "cell_type": "code",
   "execution_count": 15,
   "metadata": {},
   "outputs": [
    {
     "data": {
      "text/plain": [
       "(2, 2, 2, 2)"
      ]
     },
     "execution_count": 15,
     "metadata": {},
     "output_type": "execute_result"
    }
   ],
   "source": [
    "K.shape"
   ]
  },
  {
   "cell_type": "markdown",
   "metadata": {},
   "source": [
    "In order to display the matrix, we convert $K$ to a 2-dimensional block matrix"
   ]
  },
  {
   "cell_type": "code",
   "execution_count": 16,
   "metadata": {},
   "outputs": [
    {
     "data": {
      "text/latex": [
       "$\\displaystyle K=\\left(\n",
       "\\begin{array}{cc|cc}\n",
       "    0.54 &    0.29 &    0.27 &    0.13\\\\\n",
       "    0.51 &    0.27 &    0.25 &    0.12\\\\\n",
       "  \\hline\n",
       "    0.82 &    0.43 &    3.26 &    1.52\\\\\n",
       "    0.05 &    0.02 &    0.18 &    0.08\n",
       "\\end{array}\n",
       "\\right)$"
      ],
      "text/plain": [
       "<IPython.core.display.Math object>"
      ]
     },
     "metadata": {},
     "output_type": "display_data"
    }
   ],
   "source": [
    "from vaccontrib.linalg import (\n",
    "    convert_2d_block_to_4d_matrix,\n",
    "    convert_4d_matrix_to_2d_block,\n",
    ")\n",
    "K_2d = convert_4d_matrix_to_2d_block(K)\n",
    "to_jup(K_2d,separate_columns=[2],separate_rows=[2],prefix='K=')"
   ]
  },
  {
   "cell_type": "markdown",
   "metadata": {},
   "source": [
    "Let's compute and display the full contribution matrix."
   ]
  },
  {
   "cell_type": "code",
   "execution_count": 17,
   "metadata": {},
   "outputs": [],
   "source": [
    "C = vc.get_contribution_matrix(K)"
   ]
  },
  {
   "cell_type": "code",
   "execution_count": 18,
   "metadata": {},
   "outputs": [
    {
     "data": {
      "text/latex": [
       "$\\displaystyle C=\\left(\n",
       "\\begin{array}{cc|cc}\n",
       "    0.05 &    0.02 &    0.22 &    0.01\\\\\n",
       "    0.04 &    0.02 &    0.20 &    0.01\\\\\n",
       "  \\hline\n",
       "    0.07 &    0.03 &    2.59 &    0.07\\\\\n",
       "    0.00 &    0.00 &    0.14 &    0.00\n",
       "\\end{array}\n",
       "\\right)$"
      ],
      "text/plain": [
       "<IPython.core.display.Math object>"
      ]
     },
     "metadata": {},
     "output_type": "display_data"
    }
   ],
   "source": [
    "C_2d = convert_4d_matrix_to_2d_block(C)\n",
    "to_jup(C_2d,separate_columns=[2],separate_rows=[2],prefix='C=')"
   ]
  },
  {
   "cell_type": "markdown",
   "metadata": {},
   "source": [
    "We see that the major contribution to the basic reproduction number comes from unvaccinated older people that infect other unvaccinated older people."
   ]
  },
  {
   "cell_type": "code",
   "execution_count": 19,
   "metadata": {},
   "outputs": [
    {
     "data": {
      "text/latex": [
       "$\\displaystyle C=\\require{color}\n",
       "\\left(\n",
       "\\begin{array}{cc|cc}\n",
       "    0.05 &    0.02 &    0.22 &    0.01\\\\\n",
       "    0.04 &    0.02 &    0.20 &    0.01\\\\\n",
       "  \\hline\n",
       "    0.07 &    0.03 & \\colorbox{pink}{$   2.59$}   &    0.07\\\\\n",
       "    0.00 &    0.00 &    0.14 &    0.00\n",
       "\\end{array}\n",
       "\\right)$"
      ],
      "text/plain": [
       "<IPython.core.display.Math object>"
      ]
     },
     "metadata": {},
     "output_type": "display_data"
    }
   ],
   "source": [
    "to_jup(C_2d,separate_columns=[2],separate_rows=[2],mark_elements=[(2,2)],prefix='C=')"
   ]
  },
  {
   "cell_type": "markdown",
   "metadata": {},
   "source": [
    "We can further compress the information in this matrix by summing over populations to obtain a $2\\times2$-matrix that gives the contributions of vaccinated and unvaccinated people, respectively"
   ]
  },
  {
   "cell_type": "code",
   "execution_count": 20,
   "metadata": {},
   "outputs": [],
   "source": [
    "C_reduced = vc.main.get_reduced_vaccinated_susceptible_contribution_matrix(K)"
   ]
  },
  {
   "cell_type": "code",
   "execution_count": 21,
   "metadata": {},
   "outputs": [
    {
     "data": {
      "text/latex": [
       "$\\displaystyle C^{SV}=\\require{color}\n",
       "\\left(\n",
       "\\begin{array}{}\n",
       "    2.92 &    0.13\\\\\n",
       "    0.39 & \\colorbox{pink}{$   0.03$}  \n",
       "\\end{array}\n",
       "\\right)$"
      ],
      "text/plain": [
       "<IPython.core.display.Math object>"
      ]
     },
     "metadata": {},
     "output_type": "display_data"
    }
   ],
   "source": [
    "to_jup(C_reduced,fmt='{:6.2f}',mark_elements=[(1,1)],prefix=r'C^{SV}=')"
   ]
  },
  {
   "cell_type": "markdown",
   "metadata": {},
   "source": [
    "## Shielding entire populations\n",
    "\n",
    "In the following we investigate how contributions can change when populations are shielded from the infection process. Let's assume that unvaccinated people are shielded from the infection process entirely by \"lockdown\" rules that only affect unvaccinated people, i.e. we set $s_{i0}=1$ and $r_{i0}=1$. Note that this is an extreme, toy-model scenario that is used here for the sole purpose of illustrating the math."
   ]
  },
  {
   "cell_type": "code",
   "execution_count": 22,
   "metadata": {},
   "outputs": [],
   "source": [
    "susceptibility_reduction_lockdown_unvacc = susceptibility_reduction.copy()\n",
    "transmissibility_reduction_lockdown_unvacc = transmissibility_reduction.copy()\n",
    "susceptibility_reduction_lockdown_unvacc[:,0] = 1\n",
    "transmissibility_reduction_lockdown_unvacc[:,0] = 1"
   ]
  },
  {
   "cell_type": "code",
   "execution_count": 23,
   "metadata": {},
   "outputs": [
    {
     "data": {
      "text/latex": [
       "$\\displaystyle K^*=\\left(\n",
       "\\begin{array}{c|ccc}\n",
       "    0.00 &    0.00 &    0.00 &    0.00\\\\\n",
       "  \\hline\n",
       "    0.00 &    0.27 &    0.00 &    0.12\\\\\n",
       "    0.00 &    0.00 &    0.00 &    0.00\\\\\n",
       "    0.00 &    0.02 &    0.00 &    0.08\n",
       "\\end{array}\n",
       "\\right)$"
      ],
      "text/plain": [
       "<IPython.core.display.Math object>"
      ]
     },
     "metadata": {},
     "output_type": "display_data"
    }
   ],
   "source": [
    "K_lockdown_unvacc = vc.get_next_generation_matrix_from_matrices(\n",
    "    R0=4.,\n",
    "    gamma=contact_matrix,\n",
    "    N=population_sizes,\n",
    "    S=disease_free_state,\n",
    "    s=susceptibility_reduction_lockdown_unvacc,\n",
    "    r=transmissibility_reduction_lockdown_unvacc,\n",
    "    a=relative_infection_rate,\n",
    "    b=relative_recovery_rate,\n",
    ")\n",
    "to_jup(convert_4d_matrix_to_2d_block(K_lockdown_unvacc),separate_columns=[1],separate_rows=[1],prefix='K^*=')"
   ]
  },
  {
   "cell_type": "markdown",
   "metadata": {},
   "source": [
    "Rows and columns that quantify offspring by unvaccinated people are now equal to zero. Let's look at the respective contributions."
   ]
  },
  {
   "cell_type": "code",
   "execution_count": 24,
   "metadata": {},
   "outputs": [],
   "source": [
    "C_lockdown_unvacc = vc.main.get_contribution_matrix(K_lockdown_unvacc)\n",
    "C_reduced_lockdown_unvacc = vc.main.get_reduced_vaccinated_susceptible_contribution_matrix(K_lockdown_unvacc)"
   ]
  },
  {
   "cell_type": "code",
   "execution_count": 25,
   "metadata": {},
   "outputs": [
    {
     "data": {
      "text/latex": [
       "$\\displaystyle C^{*SV}=\\require{color}\n",
       "\\left(\n",
       "\\begin{array}{}\n",
       "    0.00 &    0.00\\\\\n",
       "    0.00 & \\colorbox{pink}{$   0.28$}  \n",
       "\\end{array}\n",
       "\\right)$"
      ],
      "text/plain": [
       "<IPython.core.display.Math object>"
      ]
     },
     "metadata": {},
     "output_type": "display_data"
    }
   ],
   "source": [
    "to_jup(C_reduced_lockdown_unvacc,fmt='{:6.2f}',mark_elements=[(1,1)],prefix='C^{*SV}=')"
   ]
  },
  {
   "cell_type": "markdown",
   "metadata": {},
   "source": [
    "Comparing the contributions of vaccinated individuals pre- and after-lockdown, we see that the contributions skyrocketed by a factor 100. This is, however, not surprising. Since breakthrough infections can happen and only other vaccinated individuals can become infected, vaccinated-to-vaccinated infections now dominate the dynamics. Yet, in total, the process is subcritical with a total effective reproduction number of $R=0.28$."
   ]
  },
  {
   "cell_type": "markdown",
   "metadata": {},
   "source": [
    "## Testing the theoretical considerations with simulations\n",
    "\n",
    "`vaccontrib` comes with a simulation module to simulate an $n$-dimensional linearly-coupled reproduction system (i.e. producing either exponential growth or decay, respectively). In the following, we will use the 2d-next generation matrix from our vaccine toy-model to demonstrate that the contribution matrix we derived theoretically is in fact correct.\n",
    "\n",
    "The simulation works as follows: We initiate a well-mixed system in state $y_0$ with entries $y_{0,j}$. Any active $j$-individual produces $i$-individuals with rate $\\alpha_{ij}$ and becomes inactive with rate $\\beta_j$. These individual processes will be simulated with Gillespie's stochastic simulation algorithm. We let the system take its course for a bit of time until time $t_{\\mathrm{start}}$ is reached, which marks the beginning of the measurement period. Every individual that is born (becomes active) during the measurement period is tracked. Whenever a tracked individual $\\theta$ produces $i$-offspring, this birth event is tracked as a $j$-induced birth of $i$ for individual $\\theta$ where $j$ is the population that $\\theta$ belongs to. The measurement period ends at $t_\\mathrm{stop}$, after which new-born individuals will still be tracked as offspring of individuals that were born during the measurement period, yet _their_ offspring will not be counted anymore. At this point of the simulation we further sterilize any newborn individuals to speed up the simulation process. Doing so does not influence our simulation results since all individuals whose offspring will be measured have already been born and the number of \"alive\" individuals does not influence the average number of offspring per single individual. It is important to let the simulation run such that _all_ tracked individuals reproduce until they become inactive, otherwise our measurements will be biased towards lower reproduction numbers (since many individuals will not have produced all their offspring if we cut off at $t_{\\mathrm{stop}}$). \n",
    "\n",
    "Let's import funtions that are relevant for simulations."
   ]
  },
  {
   "cell_type": "code",
   "execution_count": 26,
   "metadata": {},
   "outputs": [],
   "source": [
    "from vaccontrib.sim import (\n",
    "    LinearSystem,\n",
    "    convert_4d_next_generation_matrix_and_relative_recovery_rates_for_simulation,\n",
    "    convert_next_generation_matrix_and_relative_recovery_rates_for_simulation,\n",
    ")"
   ]
  },
  {
   "cell_type": "markdown",
   "metadata": {},
   "source": [
    "First, we have to convert our next generation matrix $K$ to a reproduction rate matrix $\\alpha$ and a decay rate vector $\\beta$. The definition of $K$ is\n",
    "\n",
    "$$\n",
    "K_{ij} = \\alpha_{ij}/\\beta_j,\n",
    "$$\n",
    "\n",
    "Hence we can find the reproduction rate matrix as \n",
    "\n",
    "$$\n",
    "\\alpha_{ij} = K_{ij}\\beta_j,\n",
    "$$\n",
    "\n",
    "which `vaccontrib` has a function for:"
   ]
  },
  {
   "cell_type": "code",
   "execution_count": 27,
   "metadata": {},
   "outputs": [],
   "source": [
    "A, b = convert_4d_next_generation_matrix_and_relative_recovery_rates_for_simulation(K,relative_recovery_rate)"
   ]
  },
  {
   "cell_type": "markdown",
   "metadata": {},
   "source": [
    "We want to initialize the system in a situation where there's the same number of individuals in any state."
   ]
  },
  {
   "cell_type": "code",
   "execution_count": 28,
   "metadata": {},
   "outputs": [],
   "source": [
    "L = LinearSystem(A,b,initial_conditions=5*np.ones(4,))"
   ]
  },
  {
   "cell_type": "markdown",
   "metadata": {},
   "source": [
    "Now, we define the measurement period. Let's say we give the system two temporal units to approach the eigenstate, then track newborn individuals for a single temporal unit (note that time is continuous though). Then, we can simulate."
   ]
  },
  {
   "cell_type": "code",
   "execution_count": 29,
   "metadata": {},
   "outputs": [
    {
     "name": "stdout",
     "output_type": "stream",
     "text": [
      "1.0003085640136153 37 1 121 len(active_nodes) = 0\n",
      "2.000482015247671 643 2 1602 len(active_nodes) = 5\n",
      "3.000485060766713 4325 0 19643 len(active_nodes) = 19035\n",
      "4.000571600308827 17759 2 50937 len(active_nodes) = 6612\n",
      "5.000655519752509 1111 2 62357 len(active_nodes) = 2406\n",
      "6.000954757573312 3066 2 66659 len(active_nodes) = 851\n",
      "7.001170938407767 11228 2 68149 len(active_nodes) = 299\n",
      "8.004521495142422 1770 2 68644 len(active_nodes) = 115\n",
      "9.00564658347726 3368 2 68898 len(active_nodes) = 47\n",
      "10.020358193138849 16867 2 68977 len(active_nodes) = 16\n",
      "11.033532511344408 19221 2 69001 len(active_nodes) = 6\n",
      "12.050534601916691 9273 2 69017 len(active_nodes) = 2\n",
      "13.140885824202504 13188 2 69021 len(active_nodes) = 1\n",
      "14.54134344726739 13188 2 69024 len(active_nodes) = 1\n"
     ]
    }
   ],
   "source": [
    "t_start_measuring = 2.\n",
    "t_stop_measuring = 3.\n",
    "t, y, counters = L.simulate(t_start_measuring,\n",
    "                            t_stop_measuring,\n",
    "                            verbose=True)"
   ]
  },
  {
   "cell_type": "markdown",
   "metadata": {},
   "source": [
    "`t` is a list that contains the times at which any event happened and `y` is a list that contains the corresponding total number of \"alive\" individuals. Let's first concentrate on those two lists."
   ]
  },
  {
   "cell_type": "code",
   "execution_count": 30,
   "metadata": {},
   "outputs": [
    {
     "data": {
      "image/png": "[encoded data removed]",
      "text/plain": [
       "<Figure size 432x288 with 1 Axes>"
      ]
     },
     "metadata": {
      "needs_background": "light"
     },
     "output_type": "display_data"
    }
   ],
   "source": [
    "pl.figure()\n",
    "pl.plot(t, y)\n",
    "pl.plot([t_start_measuring, t_start_measuring],[0,max(y)],'k:')\n",
    "pl.plot([t_stop_measuring, t_stop_measuring],[0,max(y)],'k:')\n",
    "pl.text(t_start_measuring, max(y),\n",
    "        'start \\nmeasur- \\nement ',\n",
    "        ha='right',\n",
    "        va='top',\n",
    "       )\n",
    "pl.text(t_stop_measuring, max(y),\n",
    "        ' stop\\n measur-\\n ement',  \n",
    "        ha='left',\n",
    "        va='top'\n",
    "       )\n",
    "pl.xlim(min(t),max(t))\n",
    "pl.ylim(min(y),max(y))\n",
    "pl.xlabel('time')\n",
    "_ = pl.ylabel('active individuals')\n"
   ]
  },
  {
   "cell_type": "markdown",
   "metadata": {},
   "source": [
    "Here we see what we expected. The number of active (\"alive\") individuals increases exponentially until we stop the experiment at $t_{\\mathrm{stop}}$ and let the active individuals reproduce until they become inactive while newborn individuals cannot reproduce anymore (but do not die, either)."
   ]
  },
  {
   "cell_type": "markdown",
   "metadata": {},
   "source": [
    "The magic happens in the simulation result `counters` though. `counters` is a list of `(int, collections.Counter)` tuples. Each entry of this list belongs to a single individual that was born during the measurement period. The first element of the tuple is the state that this individual was in (or rather, the population that this individual was part of). The second element is a dictionary-like object where `(key, value)` pairs track the total number (`value`) of `key`-offspring. If `key` is not in the dictionary, the respective `key`-offspring count of this individual was zero.\n",
    "\n",
    "With this simulation result we can compute next generation matrix, eigenstate, and contribution matrix operationally as we defined them at the beginning of this document."
   ]
  },
  {
   "cell_type": "code",
   "execution_count": 31,
   "metadata": {},
   "outputs": [],
   "source": [
    "from vaccontrib.sim import (\n",
    "    get_mean_contribution_matrix_from_simulation, \n",
    "    get_mean_eigenstate_from_simulation,\n",
    "    get_mean_next_generation_matrix_from_simulation,\n",
    ")"
   ]
  },
  {
   "cell_type": "code",
   "execution_count": 32,
   "metadata": {},
   "outputs": [
    {
     "data": {
      "text/latex": [
       "$\\displaystyle C_\\mathrm{sim}=\\left(\n",
       "\\begin{array}{cc|cc}\n",
       "    0.05 &    0.02 &    0.22 &    0.01\\\\\n",
       "    0.04 &    0.02 &    0.20 &    0.01\\\\\n",
       "  \\hline\n",
       "    0.07 &    0.04 &    2.60 &    0.06\\\\\n",
       "    0.00 &    0.00 &    0.15 &    0.00\n",
       "\\end{array}\n",
       "\\right)$"
      ],
      "text/plain": [
       "<IPython.core.display.Math object>"
      ]
     },
     "metadata": {},
     "output_type": "display_data"
    },
    {
     "data": {
      "text/latex": [
       "$\\displaystyle C_\\mathrm{theory}=\\left(\n",
       "\\begin{array}{cc|cc}\n",
       "    0.05 &    0.02 &    0.22 &    0.01\\\\\n",
       "    0.04 &    0.02 &    0.20 &    0.01\\\\\n",
       "  \\hline\n",
       "    0.07 &    0.03 &    2.59 &    0.07\\\\\n",
       "    0.00 &    0.00 &    0.14 &    0.00\n",
       "\\end{array}\n",
       "\\right)$"
      ],
      "text/plain": [
       "<IPython.core.display.Math object>"
      ]
     },
     "metadata": {},
     "output_type": "display_data"
    },
    {
     "data": {
      "text/latex": [
       "$\\displaystyle C^{SV}_\\mathrm{sim}=\\left(\n",
       "\\begin{array}{}\n",
       "    2.94 &    0.13\\\\\n",
       "    0.39 &    0.03\n",
       "\\end{array}\n",
       "\\right)$"
      ],
      "text/plain": [
       "<IPython.core.display.Math object>"
      ]
     },
     "metadata": {},
     "output_type": "display_data"
    },
    {
     "data": {
      "text/latex": [
       "$\\displaystyle C^{SV}_\\mathrm{theory}=\\left(\n",
       "\\begin{array}{}\n",
       "    2.92 &    0.13\\\\\n",
       "    0.39 &    0.03\n",
       "\\end{array}\n",
       "\\right)$"
      ],
      "text/plain": [
       "<IPython.core.display.Math object>"
      ]
     },
     "metadata": {},
     "output_type": "display_data"
    }
   ],
   "source": [
    "C_sim = get_mean_contribution_matrix_from_simulation(4,counters)\n",
    "to_jup(C_sim,\n",
    "       separate_rows=[2],\n",
    "       separate_columns=[2],\n",
    "       prefix=r'C_\\mathrm{sim}='\n",
    "      )\n",
    "to_jup(C_2d,\n",
    "       separate_rows=[2],\n",
    "       separate_columns=[2],\n",
    "       prefix=r'C_\\mathrm{theory}='\n",
    "      )\n",
    "to_jup(\n",
    "        convert_2d_block_to_4d_matrix(C_sim,2,2)\\\n",
    "               .sum(axis=0)\\\n",
    "               .sum(axis=0),\n",
    "       prefix=r'C^{SV}_\\mathrm{sim}='\n",
    "    )\n",
    "to_jup(\n",
    "        C_reduced,\n",
    "        prefix=r'C^{SV}_\\mathrm{theory}='\n",
    "    )"
   ]
  },
  {
   "cell_type": "code",
   "execution_count": 33,
   "metadata": {},
   "outputs": [
    {
     "data": {
      "text/latex": [
       "$\\displaystyle K_\\mathrm{sim}=\\left(\n",
       "\\begin{array}{cc|cc}\n",
       "    0.57 &    0.29 &    0.27 &    0.13\\\\\n",
       "    0.49 &    0.26 &    0.26 &    0.11\\\\\n",
       "  \\hline\n",
       "    0.81 &    0.43 &    3.30 &    1.44\\\\\n",
       "    0.05 &    0.02 &    0.18 &    0.08\n",
       "\\end{array}\n",
       "\\right)$"
      ],
      "text/plain": [
       "<IPython.core.display.Math object>"
      ]
     },
     "metadata": {},
     "output_type": "display_data"
    },
    {
     "data": {
      "text/latex": [
       "$\\displaystyle K_\\mathrm{theory}=\\left(\n",
       "\\begin{array}{cc|cc}\n",
       "    0.54 &    0.29 &    0.27 &    0.13\\\\\n",
       "    0.51 &    0.27 &    0.25 &    0.12\\\\\n",
       "  \\hline\n",
       "    0.82 &    0.43 &    3.26 &    1.52\\\\\n",
       "    0.05 &    0.02 &    0.18 &    0.08\n",
       "\\end{array}\n",
       "\\right)$"
      ],
      "text/plain": [
       "<IPython.core.display.Math object>"
      ]
     },
     "metadata": {},
     "output_type": "display_data"
    }
   ],
   "source": [
    "K_sim = get_mean_next_generation_matrix_from_simulation(4,counters)\n",
    "to_jup(K_sim,\n",
    "       separate_rows=[2],\n",
    "       separate_columns=[2],\n",
    "       prefix=r'K_\\mathrm{sim}='\n",
    "      )\n",
    "to_jup(K_2d,\n",
    "       separate_rows=[2],\n",
    "       separate_columns=[2],\n",
    "       prefix=r'K_\\mathrm{theory}='\n",
    "      )"
   ]
  },
  {
   "cell_type": "markdown",
   "metadata": {},
   "source": [
    "Both $C$ and $K$ obtained from simulation agree well with their theoretical counterparts.\n",
    "\n",
    "Let's now reduce the infectivity and susceptibility of unvaccinated individuals as in the example above and simulate again. Since, if these contributions are set to zero, the process becomes subcrititcal, we will have to initialize the system in a state where many individuals are active already. Other than that we do everything as before"
   ]
  },
  {
   "cell_type": "code",
   "execution_count": 34,
   "metadata": {},
   "outputs": [
    {
     "name": "stdout",
     "output_type": "stream",
     "text": [
      "1.0000017435436972 354913 3 139323 len(active_nodes) = 0\n",
      "2.0000125404276936 333380 3 48609 len(active_nodes) = 7022\n",
      "3.0000305427086573 362903 3 19333 len(active_nodes) = 1570\n",
      "4.000419027479752 165177 1 10281 len(active_nodes) = 348\n",
      "5.000790077799363 90504 0 7346 len(active_nodes) = 80\n",
      "6.004310683312594 290481 2 6344 len(active_nodes) = 15\n",
      "7.014022424046683 5295 0 6000 len(active_nodes) = 3\n"
     ]
    }
   ],
   "source": [
    "A, b = convert_4d_next_generation_matrix_and_relative_recovery_rates_for_simulation(K_lockdown_unvacc,relative_recovery_rate)\n",
    "K_2d_lockdown_unvacc = convert_4d_matrix_to_2d_block(K_lockdown_unvacc)\n",
    "L = LinearSystem(A, b,\n",
    "                 initial_conditions=100_000*np.ones(4))\n",
    "t, y, counters_lockdown_unvacc = L.simulate(1.,2.,verbose=True)"
   ]
  },
  {
   "cell_type": "code",
   "execution_count": 35,
   "metadata": {},
   "outputs": [
    {
     "data": {
      "text/latex": [
       "$\\displaystyle C^*_\\mathrm{sim}=\\left(\n",
       "\\begin{array}{cc|cc}\n",
       "    0.00 &    0.00 &    0.00 &    0.00\\\\\n",
       "    0.00 &    0.22 &    0.00 &    0.02\\\\\n",
       "  \\hline\n",
       "    0.00 &    0.00 &    0.00 &    0.00\\\\\n",
       "    0.00 &    0.02 &    0.00 &    0.02\n",
       "\\end{array}\n",
       "\\right)$"
      ],
      "text/plain": [
       "<IPython.core.display.Math object>"
      ]
     },
     "metadata": {},
     "output_type": "display_data"
    },
    {
     "data": {
      "text/latex": [
       "$\\displaystyle C^*_\\mathrm{theory}=\\left(\n",
       "\\begin{array}{cc|cc}\n",
       "    0.00 &    0.00 &    0.00 &    0.00\\\\\n",
       "    0.00 &    0.24 &    0.00 &    0.01\\\\\n",
       "  \\hline\n",
       "    0.00 &    0.00 &    0.00 &    0.00\\\\\n",
       "    0.00 &    0.02 &    0.00 &    0.01\n",
       "\\end{array}\n",
       "\\right)$"
      ],
      "text/plain": [
       "<IPython.core.display.Math object>"
      ]
     },
     "metadata": {},
     "output_type": "display_data"
    },
    {
     "data": {
      "text/latex": [
       "$\\displaystyle C^{*,SV}_\\mathrm{theory}=\\require{color}\n",
       "\\left(\n",
       "\\begin{array}{}\n",
       "    0.00 &    0.00\\\\\n",
       "    0.00 & \\colorbox{pink}{$   0.28$}  \n",
       "\\end{array}\n",
       "\\right)$"
      ],
      "text/plain": [
       "<IPython.core.display.Math object>"
      ]
     },
     "metadata": {},
     "output_type": "display_data"
    },
    {
     "data": {
      "text/latex": [
       "$\\displaystyle C^{*SV}_\\mathrm{theory}=\\require{color}\n",
       "\\left(\n",
       "\\begin{array}{}\n",
       "    0.00 &    0.00\\\\\n",
       "    0.00 & \\colorbox{pink}{$   0.28$}  \n",
       "\\end{array}\n",
       "\\right)$"
      ],
      "text/plain": [
       "<IPython.core.display.Math object>"
      ]
     },
     "metadata": {},
     "output_type": "display_data"
    }
   ],
   "source": [
    "C_lockdown_unvacc_sim = get_mean_contribution_matrix_from_simulation(\n",
    "    4,\n",
    "    counters_lockdown_unvacc,\n",
    ")\n",
    "to_jup(\n",
    "        C_lockdown_unvacc_sim,\n",
    "        separate_rows=[2],\n",
    "        separate_columns=[2],\n",
    "        prefix=r'C^*_\\mathrm{sim}='\n",
    "    )\n",
    "to_jup(\n",
    "        convert_4d_matrix_to_2d_block(C_lockdown_unvacc),\n",
    "        separate_rows=[2],\n",
    "        separate_columns=[2],\n",
    "        prefix=r'C^*_\\mathrm{theory}='\n",
    "    )\n",
    "to_jup(\n",
    "        convert_2d_block_to_4d_matrix(C_lockdown_unvacc_sim,2,2)\\\n",
    "               .sum(axis=0)\\\n",
    "               .sum(axis=0),\n",
    "        mark_elements=[(1,1)],\n",
    "        prefix=r'C^{*,SV}_\\mathrm{theory}='\n",
    "    )\n",
    "to_jup(C_reduced_lockdown_unvacc,fmt='{:6.2f}',mark_elements=[(1,1)],prefix=r'C^{*SV}_\\mathrm{theory}=')"
   ]
  },
  {
   "cell_type": "code",
   "execution_count": 36,
   "metadata": {},
   "outputs": [
    {
     "data": {
      "text/latex": [
       "$\\displaystyle y_\\mathrm{sim}=\\left(\n",
       "\\begin{array}{}\n",
       "    0.00 &    0.82\\\\\n",
       "    0.00 &    0.18\n",
       "\\end{array}\n",
       "\\right)$"
      ],
      "text/plain": [
       "<IPython.core.display.Math object>"
      ]
     },
     "metadata": {},
     "output_type": "display_data"
    },
    {
     "data": {
      "text/latex": [
       "$\\displaystyle y_\\mathrm{theory}=\\left(\n",
       "\\begin{array}{}\n",
       "    0.00 &    0.89\\\\\n",
       "    0.00 &    0.11\n",
       "\\end{array}\n",
       "\\right)$"
      ],
      "text/plain": [
       "<IPython.core.display.Math object>"
      ]
     },
     "metadata": {},
     "output_type": "display_data"
    }
   ],
   "source": [
    "y_lockdown_unvacc = vc.main.get_eigenvector(K_lockdown_unvacc)\n",
    "y_sim = get_mean_eigenstate_from_simulation(4,counters_lockdown_unvacc)\n",
    "to_jup(y_sim.reshape(2,2),prefix='y_\\mathrm{sim}=')\n",
    "to_jup(y_lockdown_unvacc,prefix='y_\\mathrm{theory}=')"
   ]
  },
  {
   "cell_type": "markdown",
   "metadata": {},
   "source": [
    "Differences in simulation and theory arise from the fact that the system has not fully approached the eigenstate after $\\Delta t=1$ yet."
   ]
  },
  {
   "cell_type": "code",
   "execution_count": 37,
   "metadata": {},
   "outputs": [
    {
     "data": {
      "text/latex": [
       "$\\displaystyle K^*_\\mathrm{sim}=\\left(\n",
       "\\begin{array}{cc|cc}\n",
       "    0.00 &    0.00 &    0.00 &    0.00\\\\\n",
       "    0.00 &    0.27 &    0.00 &    0.12\\\\\n",
       "  \\hline\n",
       "    0.00 &    0.00 &    0.00 &    0.00\\\\\n",
       "    0.00 &    0.03 &    0.00 &    0.09\n",
       "\\end{array}\n",
       "\\right)$"
      ],
      "text/plain": [
       "<IPython.core.display.Math object>"
      ]
     },
     "metadata": {},
     "output_type": "display_data"
    },
    {
     "data": {
      "text/latex": [
       "$\\displaystyle K^*_\\mathrm{theory}=\\left(\n",
       "\\begin{array}{cc|cc}\n",
       "    0.00 &    0.00 &    0.00 &    0.00\\\\\n",
       "    0.00 &    0.27 &    0.00 &    0.12\\\\\n",
       "  \\hline\n",
       "    0.00 &    0.00 &    0.00 &    0.00\\\\\n",
       "    0.00 &    0.02 &    0.00 &    0.08\n",
       "\\end{array}\n",
       "\\right)$"
      ],
      "text/plain": [
       "<IPython.core.display.Math object>"
      ]
     },
     "metadata": {},
     "output_type": "display_data"
    }
   ],
   "source": [
    "K_lockdown_unvacc_sim = get_mean_next_generation_matrix_from_simulation(\n",
    "    4,\n",
    "    counters_lockdown_unvacc,\n",
    ")\n",
    "to_jup(K_lockdown_unvacc_sim,\n",
    "       separate_rows=[2],\n",
    "       separate_columns=[2],\n",
    "       prefix=r'K^*_\\mathrm{sim}='\n",
    "      )\n",
    "to_jup(convert_4d_matrix_to_2d_block(K_lockdown_unvacc),\n",
    "       separate_rows=[2],\n",
    "       separate_columns=[2],\n",
    "       prefix=r'K^*_\\mathrm{theory}='\n",
    "    )\n"
   ]
  },
  {
   "cell_type": "code",
   "execution_count": null,
   "metadata": {},
   "outputs": [],
   "source": []
  }
 ],
 "metadata": {
  "kernelspec": {
   "display_name": "Python 3",
   "language": "python",
   "name": "python3"
  },
  "language_info": {
   "codemirror_mode": {
    "name": "ipython",
    "version": 3
   },
   "file_extension": ".py",
   "mimetype": "text/x-python",
   "name": "python",
   "nbconvert_exporter": "python",
   "pygments_lexer": "ipython3",
   "version": "3.8.9"
  }
 },
 "nbformat": 4,
 "nbformat_minor": 4
}
