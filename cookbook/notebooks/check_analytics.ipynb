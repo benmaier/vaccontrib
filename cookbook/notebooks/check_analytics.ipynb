{
 "cells": [
  {
   "cell_type": "code",
   "execution_count": 1,
   "metadata": {},
   "outputs": [],
   "source": [
    "import sympy as sy"
   ]
  },
  {
   "cell_type": "code",
   "execution_count": 46,
   "metadata": {},
   "outputs": [
    {
     "data": {
      "text/latex": [
       "$\\displaystyle \\left[\\begin{matrix}\\frac{1 - v}{- s v + 1}\\\\\\frac{v \\left(1 - s\\right)}{- s v + 1}\\end{matrix}\\right]$"
      ],
      "text/plain": [
       "Matrix([\n",
       "[  (1 - v)/(-s*v + 1)],\n",
       "[v*(1 - s)/(-s*v + 1)]])"
      ]
     },
     "execution_count": 46,
     "metadata": {},
     "output_type": "execute_result"
    }
   ],
   "source": [
    "Ru, Rv = sy.symbols(\"R_u R_v\")\n",
    "r, s, v = sy.symbols(\"r s v\")\n",
    "\n",
    "K = sy.Matrix([ \n",
    "                [ (1-v) * Ru, (1-v) * (1-r) * Rv],\n",
    "                [ v * (1-s) * Ru, v * (1-r) *(1-s)* Rv],\n",
    "              ])\n",
    "vec = K.eigenvects()[-1][-1][-1]\n",
    "vec /= sum(vec)\n",
    "sy.simplify(vec)"
   ]
  },
  {
   "cell_type": "code",
   "execution_count": 48,
   "metadata": {},
   "outputs": [
    {
     "data": {
      "text/latex": [
       "$\\displaystyle \\left[\\begin{matrix}R_{u} \\left(1 - v\\right) & R_{v} \\left(1 - r\\right) \\left(1 - v\\right)\\\\R_{u} v \\left(1 - s\\right) & R_{v} v \\left(1 - r\\right) \\left(1 - s\\right)\\end{matrix}\\right]$"
      ],
      "text/plain": [
       "Matrix([\n",
       "[  R_u*(1 - v),   R_v*(1 - r)*(1 - v)],\n",
       "[R_u*v*(1 - s), R_v*v*(1 - r)*(1 - s)]])"
      ]
     },
     "execution_count": 48,
     "metadata": {},
     "output_type": "execute_result"
    }
   ],
   "source": [
    "K"
   ]
  },
  {
   "cell_type": "code",
   "execution_count": 41,
   "metadata": {},
   "outputs": [
    {
     "name": "stdout",
     "output_type": "stream",
     "text": [
      "eigenvalue=0, algebraic_multiplicity=1\n",
      "Matrix([[R_v*(r - 1)/(R_u + R_v*r - R_v)], [R_u/(R_u + R_v*r - R_v)]])\n",
      "eigenvalue=-R_u*v + R_u + R_v*r*s*v - R_v*r*v - R_v*s*v + R_v*v, algebraic_multiplicity=1\n",
      "Matrix([[(1 - v)/(-s*v + 1)], [v*(1 - s)/(-s*v + 1)]])\n"
     ]
    }
   ],
   "source": [
    "for eigenvalue, algebraic_multiplicity, eigenvectors in K.eigenvects():\n",
    "    print(f'{eigenvalue=}, {algebraic_multiplicity=}')\n",
    "    print(sy.simplify(eigenvectors[0]/sum(eigenvectors[0])))"
   ]
  },
  {
   "cell_type": "code",
   "execution_count": 42,
   "metadata": {},
   "outputs": [
    {
     "data": {
      "text/latex": [
       "$\\displaystyle \\left[\\begin{matrix}R_{u} \\left(1 - v\\right) & R_{v} \\left(1 - r\\right) \\left(1 - v\\right)\\\\R_{u} v \\left(1 - s\\right) & R_{v} v \\left(1 - r\\right) \\left(1 - s\\right)\\end{matrix}\\right]$"
      ],
      "text/plain": [
       "Matrix([\n",
       "[  R_u*(1 - v),   R_v*(1 - r)*(1 - v)],\n",
       "[R_u*v*(1 - s), R_v*v*(1 - r)*(1 - s)]])"
      ]
     },
     "execution_count": 42,
     "metadata": {},
     "output_type": "execute_result"
    }
   ],
   "source": [
    "K"
   ]
  },
  {
   "cell_type": "code",
   "execution_count": 52,
   "metadata": {},
   "outputs": [
    {
     "data": {
      "text/plain": [
       "[-R_u*(1 - v)**2/((s*v - v)*(-(1 - v)/(s*v - v) + 1)) + R_v*(1 - r)*(1 - v)/(-(1 - v)/(s*v - v) + 1),\n",
       " -R_u*v*(1 - s)*(1 - v)/((s*v - v)*(-(1 - v)/(s*v - v) + 1)) + R_v*v*(1 - r)*(1 - s)/(-(1 - v)/(s*v - v) + 1)]"
      ]
     },
     "execution_count": 52,
     "metadata": {},
     "output_type": "execute_result"
    }
   ],
   "source": [
    "(K.dot(vec))"
   ]
  },
  {
   "cell_type": "code",
   "execution_count": 57,
   "metadata": {},
   "outputs": [
    {
     "data": {
      "text/latex": [
       "$\\displaystyle - R_{u} v + R_{u} + R_{v} r s v - R_{v} r v - R_{v} s v + R_{v} v$"
      ],
      "text/plain": [
       "-R_u*v + R_u + R_v*r*s*v - R_v*r*v - R_v*s*v + R_v*v"
      ]
     },
     "execution_count": 57,
     "metadata": {},
     "output_type": "execute_result"
    }
   ],
   "source": [
    "sy.simplify(sum(K.dot(vec)))"
   ]
  },
  {
   "cell_type": "code",
   "execution_count": null,
   "metadata": {},
   "outputs": [],
   "source": []
  }
 ],
 "metadata": {
  "kernelspec": {
   "display_name": "Python 3",
   "language": "python",
   "name": "python3"
  },
  "language_info": {
   "codemirror_mode": {
    "name": "ipython",
    "version": 3
   },
   "file_extension": ".py",
   "mimetype": "text/x-python",
   "name": "python",
   "nbconvert_exporter": "python",
   "pygments_lexer": "ipython3",
   "version": "3.8.9"
  }
 },
 "nbformat": 4,
 "nbformat_minor": 4
}
